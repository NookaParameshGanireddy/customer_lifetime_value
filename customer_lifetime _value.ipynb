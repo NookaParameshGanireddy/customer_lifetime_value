{
 "cells": [
  {
   "cell_type": "markdown",
   "id": "fdf92547",
   "metadata": {},
   "source": [
    "# Import the required libraries"
   ]
  },
  {
   "cell_type": "code",
   "execution_count": 1,
   "id": "76b7d8b3",
   "metadata": {},
   "outputs": [],
   "source": [
    "import pandas as pd\n",
    "import numpy as np\n",
    "import warnings\n",
    "warnings.filterwarnings('ignore')\n",
    "import seaborn as sns\n",
    "%matplotlib inline"
   ]
  },
  {
   "cell_type": "markdown",
   "id": "217eb10f",
   "metadata": {},
   "source": [
    "### Reading data"
   ]
  },
  {
   "cell_type": "code",
   "execution_count": 2,
   "id": "b5a773a7",
   "metadata": {},
   "outputs": [],
   "source": [
    "na_vals=[\"N/a\",\"na\",np.nan,\"?\",\"NA\"]"
   ]
  },
  {
   "cell_type": "code",
   "execution_count": 3,
   "id": "c625cc5c",
   "metadata": {},
   "outputs": [],
   "source": [
    "train=pd.read_csv(\"train-1574429526318.csv\",na_values=na_vals)\n",
    "test=pd.read_csv(\"test-1574429501088.csv\",na_values=na_vals)\n"
   ]
  },
  {
   "cell_type": "code",
   "execution_count": 4,
   "id": "b843c37e",
   "metadata": {},
   "outputs": [],
   "source": [
    "df_train=train\n",
    "df_test=test"
   ]
  },
  {
   "cell_type": "code",
   "execution_count": 5,
   "id": "ac567465",
   "metadata": {},
   "outputs": [
    {
     "data": {
      "text/html": [
       "<div>\n",
       "<style scoped>\n",
       "    .dataframe tbody tr th:only-of-type {\n",
       "        vertical-align: middle;\n",
       "    }\n",
       "\n",
       "    .dataframe tbody tr th {\n",
       "        vertical-align: top;\n",
       "    }\n",
       "\n",
       "    .dataframe thead th {\n",
       "        text-align: right;\n",
       "    }\n",
       "</style>\n",
       "<table border=\"1\" class=\"dataframe\">\n",
       "  <thead>\n",
       "    <tr style=\"text-align: right;\">\n",
       "      <th></th>\n",
       "      <th>CustomerID</th>\n",
       "      <th>Customer.Lifetime.Value</th>\n",
       "      <th>Coverage</th>\n",
       "      <th>Education</th>\n",
       "      <th>EmploymentStatus</th>\n",
       "      <th>Gender</th>\n",
       "      <th>Income</th>\n",
       "      <th>Location.Geo</th>\n",
       "      <th>Location.Code</th>\n",
       "      <th>Marital.Status</th>\n",
       "      <th>...</th>\n",
       "      <th>Months.Since.Policy.Inception</th>\n",
       "      <th>Number.of.Open.Complaints</th>\n",
       "      <th>Number.of.Policies</th>\n",
       "      <th>Policy.Type</th>\n",
       "      <th>Policy</th>\n",
       "      <th>Renew.Offer.Type</th>\n",
       "      <th>Sales.Channel</th>\n",
       "      <th>Total.Claim.Amount</th>\n",
       "      <th>Vehicle.Class</th>\n",
       "      <th>Vehicle.Size</th>\n",
       "    </tr>\n",
       "  </thead>\n",
       "  <tbody>\n",
       "    <tr>\n",
       "      <th>0</th>\n",
       "      <td>5917</td>\n",
       "      <td>7824.372789</td>\n",
       "      <td>Basic</td>\n",
       "      <td>Bachelor</td>\n",
       "      <td>Unemployed</td>\n",
       "      <td>F</td>\n",
       "      <td>0.0</td>\n",
       "      <td>17.7,77.7</td>\n",
       "      <td>Urban</td>\n",
       "      <td>Married</td>\n",
       "      <td>...</td>\n",
       "      <td>33</td>\n",
       "      <td>NaN</td>\n",
       "      <td>2.0</td>\n",
       "      <td>Personal Auto</td>\n",
       "      <td>Personal L2</td>\n",
       "      <td>Offer2</td>\n",
       "      <td>Branch</td>\n",
       "      <td>267.214383</td>\n",
       "      <td>Four-Door Car</td>\n",
       "      <td>2.0</td>\n",
       "    </tr>\n",
       "    <tr>\n",
       "      <th>1</th>\n",
       "      <td>2057</td>\n",
       "      <td>8005.964669</td>\n",
       "      <td>Basic</td>\n",
       "      <td>College</td>\n",
       "      <td>Employed</td>\n",
       "      <td>M</td>\n",
       "      <td>63357.0</td>\n",
       "      <td>28.8,76.6</td>\n",
       "      <td>Suburban</td>\n",
       "      <td>Married</td>\n",
       "      <td>...</td>\n",
       "      <td>42</td>\n",
       "      <td>0.0</td>\n",
       "      <td>5.0</td>\n",
       "      <td>Personal Auto</td>\n",
       "      <td>Personal L2</td>\n",
       "      <td>Offer2</td>\n",
       "      <td>Agent</td>\n",
       "      <td>565.508572</td>\n",
       "      <td>SUV</td>\n",
       "      <td>2.0</td>\n",
       "    </tr>\n",
       "    <tr>\n",
       "      <th>2</th>\n",
       "      <td>4119</td>\n",
       "      <td>8646.504109</td>\n",
       "      <td>Basic</td>\n",
       "      <td>High School or Below</td>\n",
       "      <td>Employed</td>\n",
       "      <td>F</td>\n",
       "      <td>64125.0</td>\n",
       "      <td>21.6,88.4</td>\n",
       "      <td>Urban</td>\n",
       "      <td>Married</td>\n",
       "      <td>...</td>\n",
       "      <td>44</td>\n",
       "      <td>0.0</td>\n",
       "      <td>3.0</td>\n",
       "      <td>Personal Auto</td>\n",
       "      <td>Personal L1</td>\n",
       "      <td>Offer2</td>\n",
       "      <td>Branch</td>\n",
       "      <td>369.818708</td>\n",
       "      <td>SUV</td>\n",
       "      <td>1.0</td>\n",
       "    </tr>\n",
       "    <tr>\n",
       "      <th>3</th>\n",
       "      <td>1801</td>\n",
       "      <td>9294.088719</td>\n",
       "      <td>Basic</td>\n",
       "      <td>College</td>\n",
       "      <td>Employed</td>\n",
       "      <td>M</td>\n",
       "      <td>67544.0</td>\n",
       "      <td>19,72.5</td>\n",
       "      <td>Suburban</td>\n",
       "      <td>Married</td>\n",
       "      <td>...</td>\n",
       "      <td>15</td>\n",
       "      <td>NaN</td>\n",
       "      <td>3.0</td>\n",
       "      <td>Corporate Auto</td>\n",
       "      <td>Corporate L3</td>\n",
       "      <td>Offer1</td>\n",
       "      <td>Branch</td>\n",
       "      <td>556.800000</td>\n",
       "      <td>SUV</td>\n",
       "      <td>3.0</td>\n",
       "    </tr>\n",
       "    <tr>\n",
       "      <th>4</th>\n",
       "      <td>9618</td>\n",
       "      <td>5595.971365</td>\n",
       "      <td>Basic</td>\n",
       "      <td>Bachelor</td>\n",
       "      <td>Retired</td>\n",
       "      <td>F</td>\n",
       "      <td>19651.0</td>\n",
       "      <td>19.1,74.7</td>\n",
       "      <td>Suburban</td>\n",
       "      <td>Married</td>\n",
       "      <td>...</td>\n",
       "      <td>68</td>\n",
       "      <td>0.0</td>\n",
       "      <td>5.0</td>\n",
       "      <td>Personal Auto</td>\n",
       "      <td>Personal L1</td>\n",
       "      <td>Offer2</td>\n",
       "      <td>Web</td>\n",
       "      <td>345.600000</td>\n",
       "      <td>Two-Door Car</td>\n",
       "      <td>3.0</td>\n",
       "    </tr>\n",
       "  </tbody>\n",
       "</table>\n",
       "<p>5 rows × 22 columns</p>\n",
       "</div>"
      ],
      "text/plain": [
       "   CustomerID  Customer.Lifetime.Value Coverage             Education  \\\n",
       "0        5917              7824.372789    Basic              Bachelor   \n",
       "1        2057              8005.964669    Basic               College   \n",
       "2        4119              8646.504109    Basic  High School or Below   \n",
       "3        1801              9294.088719    Basic               College   \n",
       "4        9618              5595.971365    Basic              Bachelor   \n",
       "\n",
       "  EmploymentStatus Gender   Income Location.Geo Location.Code Marital.Status  \\\n",
       "0       Unemployed      F      0.0    17.7,77.7         Urban        Married   \n",
       "1         Employed      M  63357.0    28.8,76.6      Suburban        Married   \n",
       "2         Employed      F  64125.0    21.6,88.4         Urban        Married   \n",
       "3         Employed      M  67544.0      19,72.5      Suburban        Married   \n",
       "4          Retired      F  19651.0    19.1,74.7      Suburban        Married   \n",
       "\n",
       "   ...  Months.Since.Policy.Inception  Number.of.Open.Complaints  \\\n",
       "0  ...                             33                        NaN   \n",
       "1  ...                             42                        0.0   \n",
       "2  ...                             44                        0.0   \n",
       "3  ...                             15                        NaN   \n",
       "4  ...                             68                        0.0   \n",
       "\n",
       "   Number.of.Policies     Policy.Type        Policy Renew.Offer.Type  \\\n",
       "0                 2.0   Personal Auto   Personal L2           Offer2   \n",
       "1                 5.0   Personal Auto   Personal L2           Offer2   \n",
       "2                 3.0   Personal Auto   Personal L1           Offer2   \n",
       "3                 3.0  Corporate Auto  Corporate L3           Offer1   \n",
       "4                 5.0   Personal Auto   Personal L1           Offer2   \n",
       "\n",
       "  Sales.Channel Total.Claim.Amount  Vehicle.Class  Vehicle.Size  \n",
       "0        Branch         267.214383  Four-Door Car           2.0  \n",
       "1         Agent         565.508572            SUV           2.0  \n",
       "2        Branch         369.818708            SUV           1.0  \n",
       "3        Branch         556.800000            SUV           3.0  \n",
       "4           Web         345.600000   Two-Door Car           3.0  \n",
       "\n",
       "[5 rows x 22 columns]"
      ]
     },
     "execution_count": 5,
     "metadata": {},
     "output_type": "execute_result"
    }
   ],
   "source": [
    "train.head()"
   ]
  },
  {
   "cell_type": "code",
   "execution_count": 6,
   "id": "e3647690",
   "metadata": {},
   "outputs": [],
   "source": [
    "g1=train.groupby(['Coverage'])['Customer.Lifetime.Value'].sum().reset_index()"
   ]
  },
  {
   "cell_type": "code",
   "execution_count": 7,
   "id": "a8b63e9e",
   "metadata": {},
   "outputs": [
    {
     "data": {
      "text/html": [
       "<div>\n",
       "<style scoped>\n",
       "    .dataframe tbody tr th:only-of-type {\n",
       "        vertical-align: middle;\n",
       "    }\n",
       "\n",
       "    .dataframe tbody tr th {\n",
       "        vertical-align: top;\n",
       "    }\n",
       "\n",
       "    .dataframe thead th {\n",
       "        text-align: right;\n",
       "    }\n",
       "</style>\n",
       "<table border=\"1\" class=\"dataframe\">\n",
       "  <thead>\n",
       "    <tr style=\"text-align: right;\">\n",
       "      <th></th>\n",
       "      <th>0</th>\n",
       "      <th>1</th>\n",
       "      <th>2</th>\n",
       "      <th>3</th>\n",
       "      <th>4</th>\n",
       "    </tr>\n",
       "  </thead>\n",
       "  <tbody>\n",
       "    <tr>\n",
       "      <th>CustomerID</th>\n",
       "      <td>17</td>\n",
       "      <td>19</td>\n",
       "      <td>29</td>\n",
       "      <td>34</td>\n",
       "      <td>37</td>\n",
       "    </tr>\n",
       "    <tr>\n",
       "      <th>Coverage</th>\n",
       "      <td>Basic</td>\n",
       "      <td>Extended</td>\n",
       "      <td>Premium</td>\n",
       "      <td>Basic</td>\n",
       "      <td>Extended</td>\n",
       "    </tr>\n",
       "    <tr>\n",
       "      <th>Education</th>\n",
       "      <td>Bachelor</td>\n",
       "      <td>College</td>\n",
       "      <td>Master</td>\n",
       "      <td>Bachelor</td>\n",
       "      <td>Bachelor</td>\n",
       "    </tr>\n",
       "    <tr>\n",
       "      <th>EmploymentStatus</th>\n",
       "      <td>Employed</td>\n",
       "      <td>Employed</td>\n",
       "      <td>Employed</td>\n",
       "      <td>Employed</td>\n",
       "      <td>Disabled</td>\n",
       "    </tr>\n",
       "    <tr>\n",
       "      <th>Gender</th>\n",
       "      <td>M</td>\n",
       "      <td>F</td>\n",
       "      <td>M</td>\n",
       "      <td>F</td>\n",
       "      <td>F</td>\n",
       "    </tr>\n",
       "    <tr>\n",
       "      <th>Income</th>\n",
       "      <td>43836.0</td>\n",
       "      <td>28812.0</td>\n",
       "      <td>77026.0</td>\n",
       "      <td>24599.0</td>\n",
       "      <td>13789.0</td>\n",
       "    </tr>\n",
       "    <tr>\n",
       "      <th>Location.Geo</th>\n",
       "      <td>12.6,79.4</td>\n",
       "      <td>17.3,78.4</td>\n",
       "      <td>18.4,73.5</td>\n",
       "      <td>17.1,78.2</td>\n",
       "      <td>13,80.1</td>\n",
       "    </tr>\n",
       "    <tr>\n",
       "      <th>Location.Code</th>\n",
       "      <td>Rural</td>\n",
       "      <td>Urban</td>\n",
       "      <td>Urban</td>\n",
       "      <td>Rural</td>\n",
       "      <td>Suburban</td>\n",
       "    </tr>\n",
       "    <tr>\n",
       "      <th>Marital.Status</th>\n",
       "      <td>Single</td>\n",
       "      <td>Married</td>\n",
       "      <td>Married</td>\n",
       "      <td>Married</td>\n",
       "      <td>Divorced</td>\n",
       "    </tr>\n",
       "    <tr>\n",
       "      <th>Monthly.Premium.Auto</th>\n",
       "      <td>73.0</td>\n",
       "      <td>93.0</td>\n",
       "      <td>110.0</td>\n",
       "      <td>64.0</td>\n",
       "      <td>79.0</td>\n",
       "    </tr>\n",
       "    <tr>\n",
       "      <th>Months.Since.Last.Claim</th>\n",
       "      <td>12</td>\n",
       "      <td>17</td>\n",
       "      <td>9</td>\n",
       "      <td>12</td>\n",
       "      <td>8</td>\n",
       "    </tr>\n",
       "    <tr>\n",
       "      <th>Months.Since.Policy.Inception</th>\n",
       "      <td>44</td>\n",
       "      <td>7</td>\n",
       "      <td>82</td>\n",
       "      <td>50</td>\n",
       "      <td>49</td>\n",
       "    </tr>\n",
       "    <tr>\n",
       "      <th>Number.of.Open.Complaints</th>\n",
       "      <td>0</td>\n",
       "      <td>0</td>\n",
       "      <td>2</td>\n",
       "      <td>1</td>\n",
       "      <td>0</td>\n",
       "    </tr>\n",
       "    <tr>\n",
       "      <th>Number.of.Policies</th>\n",
       "      <td>1</td>\n",
       "      <td>8</td>\n",
       "      <td>3</td>\n",
       "      <td>2</td>\n",
       "      <td>1</td>\n",
       "    </tr>\n",
       "    <tr>\n",
       "      <th>Policy.Type</th>\n",
       "      <td>Personal Auto</td>\n",
       "      <td>Special Auto</td>\n",
       "      <td>Corporate Auto</td>\n",
       "      <td>Corporate Auto</td>\n",
       "      <td>Personal Auto</td>\n",
       "    </tr>\n",
       "    <tr>\n",
       "      <th>Policy</th>\n",
       "      <td>Personal L1</td>\n",
       "      <td>Special L2</td>\n",
       "      <td>Corporate L1</td>\n",
       "      <td>Corporate L2</td>\n",
       "      <td>Personal L3</td>\n",
       "    </tr>\n",
       "    <tr>\n",
       "      <th>Renew.Offer.Type</th>\n",
       "      <td>Offer1</td>\n",
       "      <td>Offer2</td>\n",
       "      <td>Offer2</td>\n",
       "      <td>Offer2</td>\n",
       "      <td>Offer4</td>\n",
       "    </tr>\n",
       "    <tr>\n",
       "      <th>Sales.Channel</th>\n",
       "      <td>Agent</td>\n",
       "      <td>Branch</td>\n",
       "      <td>Agent</td>\n",
       "      <td>Branch</td>\n",
       "      <td>Call Center</td>\n",
       "    </tr>\n",
       "    <tr>\n",
       "      <th>Total.Claim.Amount</th>\n",
       "      <td>138.130879</td>\n",
       "      <td>425.527834</td>\n",
       "      <td>472.029737</td>\n",
       "      <td>42.920271</td>\n",
       "      <td>379.2</td>\n",
       "    </tr>\n",
       "    <tr>\n",
       "      <th>Vehicle.Class</th>\n",
       "      <td>Four-Door Car</td>\n",
       "      <td>Four-Door Car</td>\n",
       "      <td>Four-Door Car</td>\n",
       "      <td>Four-Door Car</td>\n",
       "      <td>Four-Door Car</td>\n",
       "    </tr>\n",
       "    <tr>\n",
       "      <th>Vehicle.Size</th>\n",
       "      <td>Medsize</td>\n",
       "      <td>Medsize</td>\n",
       "      <td>Medsize</td>\n",
       "      <td>Medsize</td>\n",
       "      <td>Medsize</td>\n",
       "    </tr>\n",
       "  </tbody>\n",
       "</table>\n",
       "</div>"
      ],
      "text/plain": [
       "                                           0              1               2  \\\n",
       "CustomerID                                17             19              29   \n",
       "Coverage                               Basic       Extended         Premium   \n",
       "Education                           Bachelor        College          Master   \n",
       "EmploymentStatus                    Employed       Employed        Employed   \n",
       "Gender                                     M              F               M   \n",
       "Income                               43836.0        28812.0         77026.0   \n",
       "Location.Geo                       12.6,79.4      17.3,78.4       18.4,73.5   \n",
       "Location.Code                          Rural          Urban           Urban   \n",
       "Marital.Status                        Single        Married         Married   \n",
       "Monthly.Premium.Auto                    73.0           93.0           110.0   \n",
       "Months.Since.Last.Claim                   12             17               9   \n",
       "Months.Since.Policy.Inception             44              7              82   \n",
       "Number.of.Open.Complaints                  0              0               2   \n",
       "Number.of.Policies                         1              8               3   \n",
       "Policy.Type                    Personal Auto   Special Auto  Corporate Auto   \n",
       "Policy                           Personal L1     Special L2    Corporate L1   \n",
       "Renew.Offer.Type                      Offer1         Offer2          Offer2   \n",
       "Sales.Channel                          Agent         Branch           Agent   \n",
       "Total.Claim.Amount                138.130879     425.527834      472.029737   \n",
       "Vehicle.Class                  Four-Door Car  Four-Door Car   Four-Door Car   \n",
       "Vehicle.Size                         Medsize        Medsize         Medsize   \n",
       "\n",
       "                                            3              4  \n",
       "CustomerID                                 34             37  \n",
       "Coverage                                Basic       Extended  \n",
       "Education                            Bachelor       Bachelor  \n",
       "EmploymentStatus                     Employed       Disabled  \n",
       "Gender                                      F              F  \n",
       "Income                                24599.0        13789.0  \n",
       "Location.Geo                        17.1,78.2        13,80.1  \n",
       "Location.Code                           Rural       Suburban  \n",
       "Marital.Status                        Married       Divorced  \n",
       "Monthly.Premium.Auto                     64.0           79.0  \n",
       "Months.Since.Last.Claim                    12              8  \n",
       "Months.Since.Policy.Inception              50             49  \n",
       "Number.of.Open.Complaints                   1              0  \n",
       "Number.of.Policies                          2              1  \n",
       "Policy.Type                    Corporate Auto  Personal Auto  \n",
       "Policy                           Corporate L2    Personal L3  \n",
       "Renew.Offer.Type                       Offer2         Offer4  \n",
       "Sales.Channel                          Branch    Call Center  \n",
       "Total.Claim.Amount                  42.920271          379.2  \n",
       "Vehicle.Class                   Four-Door Car  Four-Door Car  \n",
       "Vehicle.Size                          Medsize        Medsize  "
      ]
     },
     "execution_count": 7,
     "metadata": {},
     "output_type": "execute_result"
    }
   ],
   "source": [
    "test.head().T"
   ]
  },
  {
   "cell_type": "code",
   "execution_count": 8,
   "id": "21678d05",
   "metadata": {},
   "outputs": [
    {
     "data": {
      "text/plain": [
       "Index(['CustomerID', 'Customer.Lifetime.Value', 'Coverage', 'Education',\n",
       "       'EmploymentStatus', 'Gender', 'Income', 'Location.Geo', 'Location.Code',\n",
       "       'Marital.Status', 'Monthly.Premium.Auto', 'Months.Since.Last.Claim',\n",
       "       'Months.Since.Policy.Inception', 'Number.of.Open.Complaints',\n",
       "       'Number.of.Policies', 'Policy.Type', 'Policy', 'Renew.Offer.Type',\n",
       "       'Sales.Channel', 'Total.Claim.Amount', 'Vehicle.Class', 'Vehicle.Size'],\n",
       "      dtype='object')"
      ]
     },
     "execution_count": 8,
     "metadata": {},
     "output_type": "execute_result"
    }
   ],
   "source": [
    "train.columns"
   ]
  },
  {
   "cell_type": "code",
   "execution_count": 9,
   "id": "3a982fcd",
   "metadata": {},
   "outputs": [
    {
     "data": {
      "text/plain": [
       "Index(['CustomerID', 'Coverage', 'Education', 'EmploymentStatus', 'Gender',\n",
       "       'Income', 'Location.Geo', 'Location.Code', 'Marital.Status',\n",
       "       'Monthly.Premium.Auto', 'Months.Since.Last.Claim',\n",
       "       'Months.Since.Policy.Inception', 'Number.of.Open.Complaints',\n",
       "       'Number.of.Policies', 'Policy.Type', 'Policy', 'Renew.Offer.Type',\n",
       "       'Sales.Channel', 'Total.Claim.Amount', 'Vehicle.Class', 'Vehicle.Size'],\n",
       "      dtype='object')"
      ]
     },
     "execution_count": 9,
     "metadata": {},
     "output_type": "execute_result"
    }
   ],
   "source": [
    "test.columns"
   ]
  },
  {
   "cell_type": "code",
   "execution_count": 10,
   "id": "6239be8a",
   "metadata": {},
   "outputs": [
    {
     "name": "stdout",
     "output_type": "stream",
     "text": [
      "Shape of train data: (9806, 22)\n",
      "Shape of test data: (1767, 21)\n"
     ]
    }
   ],
   "source": [
    "print(\"Shape of train data:\",train.shape)\n",
    "print(\"Shape of test data:\",test.shape)"
   ]
  },
  {
   "cell_type": "markdown",
   "id": "2802cf89",
   "metadata": {},
   "source": [
    "### Dropping duplicates"
   ]
  },
  {
   "cell_type": "code",
   "execution_count": 11,
   "id": "4000d120",
   "metadata": {},
   "outputs": [],
   "source": [
    "train.drop_duplicates(keep='first',inplace=True)"
   ]
  },
  {
   "cell_type": "code",
   "execution_count": 12,
   "id": "ae391a48",
   "metadata": {},
   "outputs": [],
   "source": [
    "test.drop_duplicates(keep='first',inplace=True)"
   ]
  },
  {
   "cell_type": "code",
   "execution_count": 13,
   "id": "4fd79c10",
   "metadata": {},
   "outputs": [
    {
     "name": "stdout",
     "output_type": "stream",
     "text": [
      "Shape of train data: (9806, 22)\n",
      "Shape of test data: (1767, 21)\n"
     ]
    }
   ],
   "source": [
    "print(\"Shape of train data:\",train.shape)\n",
    "print(\"Shape of test data:\",test.shape)"
   ]
  },
  {
   "cell_type": "code",
   "execution_count": 14,
   "id": "628ab9db",
   "metadata": {},
   "outputs": [],
   "source": [
    "## means no duplicates"
   ]
  },
  {
   "cell_type": "markdown",
   "id": "dbb66398",
   "metadata": {},
   "source": [
    "### Describing data"
   ]
  },
  {
   "cell_type": "code",
   "execution_count": 15,
   "id": "1beb6324",
   "metadata": {},
   "outputs": [
    {
     "name": "stdout",
     "output_type": "stream",
     "text": [
      "---------------For Train_data---------------------------\n"
     ]
    },
    {
     "data": {
      "text/html": [
       "<div>\n",
       "<style scoped>\n",
       "    .dataframe tbody tr th:only-of-type {\n",
       "        vertical-align: middle;\n",
       "    }\n",
       "\n",
       "    .dataframe tbody tr th {\n",
       "        vertical-align: top;\n",
       "    }\n",
       "\n",
       "    .dataframe thead th {\n",
       "        text-align: right;\n",
       "    }\n",
       "</style>\n",
       "<table border=\"1\" class=\"dataframe\">\n",
       "  <thead>\n",
       "    <tr style=\"text-align: right;\">\n",
       "      <th></th>\n",
       "      <th>CustomerID</th>\n",
       "      <th>Customer.Lifetime.Value</th>\n",
       "      <th>Income</th>\n",
       "      <th>Monthly.Premium.Auto</th>\n",
       "      <th>Months.Since.Last.Claim</th>\n",
       "      <th>Months.Since.Policy.Inception</th>\n",
       "      <th>Number.of.Open.Complaints</th>\n",
       "      <th>Number.of.Policies</th>\n",
       "      <th>Total.Claim.Amount</th>\n",
       "      <th>Vehicle.Size</th>\n",
       "    </tr>\n",
       "  </thead>\n",
       "  <tbody>\n",
       "    <tr>\n",
       "      <th>count</th>\n",
       "      <td>9806.000000</td>\n",
       "      <td>9806.000000</td>\n",
       "      <td>9688.000000</td>\n",
       "      <td>9012.000000</td>\n",
       "      <td>9806.000000</td>\n",
       "      <td>9806.000000</td>\n",
       "      <td>8988.000000</td>\n",
       "      <td>9685.000000</td>\n",
       "      <td>9806.000000</td>\n",
       "      <td>9680.000000</td>\n",
       "    </tr>\n",
       "    <tr>\n",
       "      <th>mean</th>\n",
       "      <td>5778.381807</td>\n",
       "      <td>7998.047015</td>\n",
       "      <td>37511.054604</td>\n",
       "      <td>93.340657</td>\n",
       "      <td>15.143993</td>\n",
       "      <td>48.165001</td>\n",
       "      <td>0.379172</td>\n",
       "      <td>2.960351</td>\n",
       "      <td>438.266734</td>\n",
       "      <td>2.089773</td>\n",
       "    </tr>\n",
       "    <tr>\n",
       "      <th>std</th>\n",
       "      <td>3343.286093</td>\n",
       "      <td>6848.055899</td>\n",
       "      <td>30292.974468</td>\n",
       "      <td>34.417763</td>\n",
       "      <td>10.004327</td>\n",
       "      <td>27.963630</td>\n",
       "      <td>0.896427</td>\n",
       "      <td>2.389801</td>\n",
       "      <td>293.502301</td>\n",
       "      <td>0.538524</td>\n",
       "    </tr>\n",
       "    <tr>\n",
       "      <th>min</th>\n",
       "      <td>1.000000</td>\n",
       "      <td>1898.007675</td>\n",
       "      <td>0.000000</td>\n",
       "      <td>61.000000</td>\n",
       "      <td>0.000000</td>\n",
       "      <td>0.000000</td>\n",
       "      <td>0.000000</td>\n",
       "      <td>1.000000</td>\n",
       "      <td>0.099007</td>\n",
       "      <td>1.000000</td>\n",
       "    </tr>\n",
       "    <tr>\n",
       "      <th>25%</th>\n",
       "      <td>2879.250000</td>\n",
       "      <td>4013.949039</td>\n",
       "      <td>0.000000</td>\n",
       "      <td>68.750000</td>\n",
       "      <td>6.000000</td>\n",
       "      <td>24.000000</td>\n",
       "      <td>0.000000</td>\n",
       "      <td>1.000000</td>\n",
       "      <td>280.352767</td>\n",
       "      <td>2.000000</td>\n",
       "    </tr>\n",
       "    <tr>\n",
       "      <th>50%</th>\n",
       "      <td>5783.000000</td>\n",
       "      <td>5780.182197</td>\n",
       "      <td>33767.500000</td>\n",
       "      <td>83.000000</td>\n",
       "      <td>14.000000</td>\n",
       "      <td>48.000000</td>\n",
       "      <td>0.000000</td>\n",
       "      <td>2.000000</td>\n",
       "      <td>384.007015</td>\n",
       "      <td>2.000000</td>\n",
       "    </tr>\n",
       "    <tr>\n",
       "      <th>75%</th>\n",
       "      <td>8678.750000</td>\n",
       "      <td>8960.280213</td>\n",
       "      <td>62018.000000</td>\n",
       "      <td>109.000000</td>\n",
       "      <td>23.000000</td>\n",
       "      <td>71.750000</td>\n",
       "      <td>0.000000</td>\n",
       "      <td>4.000000</td>\n",
       "      <td>553.540973</td>\n",
       "      <td>2.000000</td>\n",
       "    </tr>\n",
       "    <tr>\n",
       "      <th>max</th>\n",
       "      <td>11573.000000</td>\n",
       "      <td>83325.381190</td>\n",
       "      <td>99981.000000</td>\n",
       "      <td>297.000000</td>\n",
       "      <td>35.000000</td>\n",
       "      <td>99.000000</td>\n",
       "      <td>5.000000</td>\n",
       "      <td>9.000000</td>\n",
       "      <td>2893.239678</td>\n",
       "      <td>3.000000</td>\n",
       "    </tr>\n",
       "  </tbody>\n",
       "</table>\n",
       "</div>"
      ],
      "text/plain": [
       "         CustomerID  Customer.Lifetime.Value        Income  \\\n",
       "count   9806.000000              9806.000000   9688.000000   \n",
       "mean    5778.381807              7998.047015  37511.054604   \n",
       "std     3343.286093              6848.055899  30292.974468   \n",
       "min        1.000000              1898.007675      0.000000   \n",
       "25%     2879.250000              4013.949039      0.000000   \n",
       "50%     5783.000000              5780.182197  33767.500000   \n",
       "75%     8678.750000              8960.280213  62018.000000   \n",
       "max    11573.000000             83325.381190  99981.000000   \n",
       "\n",
       "       Monthly.Premium.Auto  Months.Since.Last.Claim  \\\n",
       "count           9012.000000              9806.000000   \n",
       "mean              93.340657                15.143993   \n",
       "std               34.417763                10.004327   \n",
       "min               61.000000                 0.000000   \n",
       "25%               68.750000                 6.000000   \n",
       "50%               83.000000                14.000000   \n",
       "75%              109.000000                23.000000   \n",
       "max              297.000000                35.000000   \n",
       "\n",
       "       Months.Since.Policy.Inception  Number.of.Open.Complaints  \\\n",
       "count                    9806.000000                8988.000000   \n",
       "mean                       48.165001                   0.379172   \n",
       "std                        27.963630                   0.896427   \n",
       "min                         0.000000                   0.000000   \n",
       "25%                        24.000000                   0.000000   \n",
       "50%                        48.000000                   0.000000   \n",
       "75%                        71.750000                   0.000000   \n",
       "max                        99.000000                   5.000000   \n",
       "\n",
       "       Number.of.Policies  Total.Claim.Amount  Vehicle.Size  \n",
       "count         9685.000000         9806.000000   9680.000000  \n",
       "mean             2.960351          438.266734      2.089773  \n",
       "std              2.389801          293.502301      0.538524  \n",
       "min              1.000000            0.099007      1.000000  \n",
       "25%              1.000000          280.352767      2.000000  \n",
       "50%              2.000000          384.007015      2.000000  \n",
       "75%              4.000000          553.540973      2.000000  \n",
       "max              9.000000         2893.239678      3.000000  "
      ]
     },
     "execution_count": 15,
     "metadata": {},
     "output_type": "execute_result"
    }
   ],
   "source": [
    "print(\"---------------For Train_data---------------------------\")\n",
    "train.describe()"
   ]
  },
  {
   "cell_type": "code",
   "execution_count": 16,
   "id": "ab882654",
   "metadata": {},
   "outputs": [
    {
     "name": "stdout",
     "output_type": "stream",
     "text": [
      "------------------For Test_data------------------\n"
     ]
    },
    {
     "data": {
      "text/html": [
       "<div>\n",
       "<style scoped>\n",
       "    .dataframe tbody tr th:only-of-type {\n",
       "        vertical-align: middle;\n",
       "    }\n",
       "\n",
       "    .dataframe tbody tr th {\n",
       "        vertical-align: top;\n",
       "    }\n",
       "\n",
       "    .dataframe thead th {\n",
       "        text-align: right;\n",
       "    }\n",
       "</style>\n",
       "<table border=\"1\" class=\"dataframe\">\n",
       "  <thead>\n",
       "    <tr style=\"text-align: right;\">\n",
       "      <th></th>\n",
       "      <th>CustomerID</th>\n",
       "      <th>Income</th>\n",
       "      <th>Monthly.Premium.Auto</th>\n",
       "      <th>Months.Since.Last.Claim</th>\n",
       "      <th>Months.Since.Policy.Inception</th>\n",
       "      <th>Number.of.Open.Complaints</th>\n",
       "      <th>Number.of.Policies</th>\n",
       "      <th>Total.Claim.Amount</th>\n",
       "    </tr>\n",
       "  </thead>\n",
       "  <tbody>\n",
       "    <tr>\n",
       "      <th>count</th>\n",
       "      <td>1767.000000</td>\n",
       "      <td>1528.000000</td>\n",
       "      <td>1695.000000</td>\n",
       "      <td>1767.000000</td>\n",
       "      <td>1767.000000</td>\n",
       "      <td>1767.000000</td>\n",
       "      <td>1767.000000</td>\n",
       "      <td>1767.000000</td>\n",
       "    </tr>\n",
       "    <tr>\n",
       "      <th>mean</th>\n",
       "      <td>5834.826825</td>\n",
       "      <td>44606.390707</td>\n",
       "      <td>93.622419</td>\n",
       "      <td>15.022071</td>\n",
       "      <td>47.486701</td>\n",
       "      <td>0.413696</td>\n",
       "      <td>3.002264</td>\n",
       "      <td>423.389681</td>\n",
       "    </tr>\n",
       "    <tr>\n",
       "      <th>std</th>\n",
       "      <td>3328.701974</td>\n",
       "      <td>29046.821652</td>\n",
       "      <td>34.752238</td>\n",
       "      <td>10.202317</td>\n",
       "      <td>27.954860</td>\n",
       "      <td>0.955579</td>\n",
       "      <td>2.388154</td>\n",
       "      <td>289.518186</td>\n",
       "    </tr>\n",
       "    <tr>\n",
       "      <th>min</th>\n",
       "      <td>17.000000</td>\n",
       "      <td>0.000000</td>\n",
       "      <td>61.000000</td>\n",
       "      <td>0.000000</td>\n",
       "      <td>0.000000</td>\n",
       "      <td>0.000000</td>\n",
       "      <td>1.000000</td>\n",
       "      <td>1.332349</td>\n",
       "    </tr>\n",
       "    <tr>\n",
       "      <th>25%</th>\n",
       "      <td>2977.000000</td>\n",
       "      <td>23491.750000</td>\n",
       "      <td>69.000000</td>\n",
       "      <td>6.000000</td>\n",
       "      <td>24.000000</td>\n",
       "      <td>0.000000</td>\n",
       "      <td>1.000000</td>\n",
       "      <td>238.197494</td>\n",
       "    </tr>\n",
       "    <tr>\n",
       "      <th>50%</th>\n",
       "      <td>5813.000000</td>\n",
       "      <td>42821.000000</td>\n",
       "      <td>84.000000</td>\n",
       "      <td>14.000000</td>\n",
       "      <td>47.000000</td>\n",
       "      <td>0.000000</td>\n",
       "      <td>2.000000</td>\n",
       "      <td>381.118731</td>\n",
       "    </tr>\n",
       "    <tr>\n",
       "      <th>75%</th>\n",
       "      <td>8702.500000</td>\n",
       "      <td>67968.500000</td>\n",
       "      <td>110.000000</td>\n",
       "      <td>23.000000</td>\n",
       "      <td>71.000000</td>\n",
       "      <td>0.000000</td>\n",
       "      <td>4.000000</td>\n",
       "      <td>542.400000</td>\n",
       "    </tr>\n",
       "    <tr>\n",
       "      <th>max</th>\n",
       "      <td>11572.000000</td>\n",
       "      <td>99960.000000</td>\n",
       "      <td>298.000000</td>\n",
       "      <td>35.000000</td>\n",
       "      <td>99.000000</td>\n",
       "      <td>5.000000</td>\n",
       "      <td>9.000000</td>\n",
       "      <td>2759.794354</td>\n",
       "    </tr>\n",
       "  </tbody>\n",
       "</table>\n",
       "</div>"
      ],
      "text/plain": [
       "         CustomerID        Income  Monthly.Premium.Auto  \\\n",
       "count   1767.000000   1528.000000           1695.000000   \n",
       "mean    5834.826825  44606.390707             93.622419   \n",
       "std     3328.701974  29046.821652             34.752238   \n",
       "min       17.000000      0.000000             61.000000   \n",
       "25%     2977.000000  23491.750000             69.000000   \n",
       "50%     5813.000000  42821.000000             84.000000   \n",
       "75%     8702.500000  67968.500000            110.000000   \n",
       "max    11572.000000  99960.000000            298.000000   \n",
       "\n",
       "       Months.Since.Last.Claim  Months.Since.Policy.Inception  \\\n",
       "count              1767.000000                    1767.000000   \n",
       "mean                 15.022071                      47.486701   \n",
       "std                  10.202317                      27.954860   \n",
       "min                   0.000000                       0.000000   \n",
       "25%                   6.000000                      24.000000   \n",
       "50%                  14.000000                      47.000000   \n",
       "75%                  23.000000                      71.000000   \n",
       "max                  35.000000                      99.000000   \n",
       "\n",
       "       Number.of.Open.Complaints  Number.of.Policies  Total.Claim.Amount  \n",
       "count                1767.000000         1767.000000         1767.000000  \n",
       "mean                    0.413696            3.002264          423.389681  \n",
       "std                     0.955579            2.388154          289.518186  \n",
       "min                     0.000000            1.000000            1.332349  \n",
       "25%                     0.000000            1.000000          238.197494  \n",
       "50%                     0.000000            2.000000          381.118731  \n",
       "75%                     0.000000            4.000000          542.400000  \n",
       "max                     5.000000            9.000000         2759.794354  "
      ]
     },
     "execution_count": 16,
     "metadata": {},
     "output_type": "execute_result"
    }
   ],
   "source": [
    "print(\"------------------For Test_data------------------\")\n",
    "test.describe()"
   ]
  },
  {
   "cell_type": "markdown",
   "id": "c9d2db06",
   "metadata": {},
   "source": [
    "#Seperating y and x"
   ]
  },
  {
   "cell_type": "code",
   "execution_count": 17,
   "id": "777df59e",
   "metadata": {},
   "outputs": [
    {
     "data": {
      "text/plain": [
       "Index(['CustomerID', 'Customer.Lifetime.Value', 'Coverage', 'Education',\n",
       "       'EmploymentStatus', 'Gender', 'Income', 'Location.Geo', 'Location.Code',\n",
       "       'Marital.Status', 'Monthly.Premium.Auto', 'Months.Since.Last.Claim',\n",
       "       'Months.Since.Policy.Inception', 'Number.of.Open.Complaints',\n",
       "       'Number.of.Policies', 'Policy.Type', 'Policy', 'Renew.Offer.Type',\n",
       "       'Sales.Channel', 'Total.Claim.Amount', 'Vehicle.Class', 'Vehicle.Size'],\n",
       "      dtype='object')"
      ]
     },
     "execution_count": 17,
     "metadata": {},
     "output_type": "execute_result"
    }
   ],
   "source": [
    "train.columns"
   ]
  },
  {
   "cell_type": "code",
   "execution_count": 18,
   "id": "1aad0448",
   "metadata": {},
   "outputs": [
    {
     "data": {
      "text/html": [
       "<div>\n",
       "<style scoped>\n",
       "    .dataframe tbody tr th:only-of-type {\n",
       "        vertical-align: middle;\n",
       "    }\n",
       "\n",
       "    .dataframe tbody tr th {\n",
       "        vertical-align: top;\n",
       "    }\n",
       "\n",
       "    .dataframe thead th {\n",
       "        text-align: right;\n",
       "    }\n",
       "</style>\n",
       "<table border=\"1\" class=\"dataframe\">\n",
       "  <thead>\n",
       "    <tr style=\"text-align: right;\">\n",
       "      <th></th>\n",
       "      <th>Customer.Lifetime.Value</th>\n",
       "    </tr>\n",
       "  </thead>\n",
       "  <tbody>\n",
       "    <tr>\n",
       "      <th>0</th>\n",
       "      <td>7824.372789</td>\n",
       "    </tr>\n",
       "    <tr>\n",
       "      <th>1</th>\n",
       "      <td>8005.964669</td>\n",
       "    </tr>\n",
       "    <tr>\n",
       "      <th>2</th>\n",
       "      <td>8646.504109</td>\n",
       "    </tr>\n",
       "    <tr>\n",
       "      <th>3</th>\n",
       "      <td>9294.088719</td>\n",
       "    </tr>\n",
       "    <tr>\n",
       "      <th>4</th>\n",
       "      <td>5595.971365</td>\n",
       "    </tr>\n",
       "  </tbody>\n",
       "</table>\n",
       "</div>"
      ],
      "text/plain": [
       "   Customer.Lifetime.Value\n",
       "0              7824.372789\n",
       "1              8005.964669\n",
       "2              8646.504109\n",
       "3              9294.088719\n",
       "4              5595.971365"
      ]
     },
     "execution_count": 18,
     "metadata": {},
     "output_type": "execute_result"
    }
   ],
   "source": [
    "y=train[[\"Customer.Lifetime.Value\"]]\n",
    "y.head()"
   ]
  },
  {
   "cell_type": "code",
   "execution_count": 19,
   "id": "0e67128c",
   "metadata": {},
   "outputs": [],
   "source": [
    "x=train.drop([\"Customer.Lifetime.Value\"],axis=1)\n"
   ]
  },
  {
   "cell_type": "code",
   "execution_count": 20,
   "id": "1a9123c8",
   "metadata": {},
   "outputs": [
    {
     "name": "stdout",
     "output_type": "stream",
     "text": [
      "<class 'pandas.core.frame.DataFrame'>\n",
      "Int64Index: 9806 entries, 0 to 9805\n",
      "Data columns (total 21 columns):\n",
      " #   Column                         Non-Null Count  Dtype  \n",
      "---  ------                         --------------  -----  \n",
      " 0   CustomerID                     9806 non-null   int64  \n",
      " 1   Coverage                       8881 non-null   object \n",
      " 2   Education                      9677 non-null   object \n",
      " 3   EmploymentStatus               9688 non-null   object \n",
      " 4   Gender                         9677 non-null   object \n",
      " 5   Income                         9688 non-null   float64\n",
      " 6   Location.Geo                   9806 non-null   object \n",
      " 7   Location.Code                  9687 non-null   object \n",
      " 8   Marital.Status                 9677 non-null   object \n",
      " 9   Monthly.Premium.Auto           9012 non-null   float64\n",
      " 10  Months.Since.Last.Claim        9806 non-null   int64  \n",
      " 11  Months.Since.Policy.Inception  9806 non-null   int64  \n",
      " 12  Number.of.Open.Complaints      8988 non-null   float64\n",
      " 13  Number.of.Policies             9685 non-null   float64\n",
      " 14  Policy.Type                    8915 non-null   object \n",
      " 15  Policy                         9685 non-null   object \n",
      " 16  Renew.Offer.Type               9678 non-null   object \n",
      " 17  Sales.Channel                  9678 non-null   object \n",
      " 18  Total.Claim.Amount             9806 non-null   float64\n",
      " 19  Vehicle.Class                  9680 non-null   object \n",
      " 20  Vehicle.Size                   9680 non-null   float64\n",
      "dtypes: float64(6), int64(3), object(12)\n",
      "memory usage: 1.6+ MB\n"
     ]
    }
   ],
   "source": [
    "x.info()"
   ]
  },
  {
   "cell_type": "code",
   "execution_count": 21,
   "id": "ce27344a",
   "metadata": {},
   "outputs": [
    {
     "name": "stdout",
     "output_type": "stream",
     "text": [
      "<class 'pandas.core.frame.DataFrame'>\n",
      "Int64Index: 1767 entries, 0 to 1766\n",
      "Data columns (total 21 columns):\n",
      " #   Column                         Non-Null Count  Dtype  \n",
      "---  ------                         --------------  -----  \n",
      " 0   CustomerID                     1767 non-null   int64  \n",
      " 1   Coverage                       1767 non-null   object \n",
      " 2   Education                      1767 non-null   object \n",
      " 3   EmploymentStatus               1767 non-null   object \n",
      " 4   Gender                         1767 non-null   object \n",
      " 5   Income                         1528 non-null   float64\n",
      " 6   Location.Geo                   1767 non-null   object \n",
      " 7   Location.Code                  1767 non-null   object \n",
      " 8   Marital.Status                 1767 non-null   object \n",
      " 9   Monthly.Premium.Auto           1695 non-null   float64\n",
      " 10  Months.Since.Last.Claim        1767 non-null   int64  \n",
      " 11  Months.Since.Policy.Inception  1767 non-null   int64  \n",
      " 12  Number.of.Open.Complaints      1767 non-null   int64  \n",
      " 13  Number.of.Policies             1767 non-null   int64  \n",
      " 14  Policy.Type                    1725 non-null   object \n",
      " 15  Policy                         1767 non-null   object \n",
      " 16  Renew.Offer.Type               1767 non-null   object \n",
      " 17  Sales.Channel                  1767 non-null   object \n",
      " 18  Total.Claim.Amount             1767 non-null   float64\n",
      " 19  Vehicle.Class                  1767 non-null   object \n",
      " 20  Vehicle.Size                   1767 non-null   object \n",
      "dtypes: float64(3), int64(5), object(13)\n",
      "memory usage: 303.7+ KB\n"
     ]
    }
   ],
   "source": [
    "test.info()"
   ]
  },
  {
   "cell_type": "markdown",
   "id": "0ca8c3c2",
   "metadata": {},
   "source": [
    "### Visualizing the data"
   ]
  },
  {
   "cell_type": "code",
   "execution_count": 22,
   "id": "30ab43c8",
   "metadata": {},
   "outputs": [
    {
     "data": {
      "text/plain": [
       "<AxesSubplot: xlabel='Vehicle.Class', ylabel='count'>"
      ]
     },
     "execution_count": 22,
     "metadata": {},
     "output_type": "execute_result"
    },
    {
     "data": {
      "image/png": "[encoded data removed]",
      "text/plain": [
       "<Figure size 432x288 with 1 Axes>"
      ]
     },
     "metadata": {},
     "output_type": "display_data"
    }
   ],
   "source": [
    "sns.set_style(\"whitegrid\")\n",
    "sns.countplot(x=train[\"Vehicle.Class\"])"
   ]
  },
  {
   "cell_type": "code",
   "execution_count": 23,
   "id": "ccc7eaac",
   "metadata": {},
   "outputs": [
    {
     "data": {
      "text/plain": [
       "<AxesSubplot: xlabel='Gender', ylabel='count'>"
      ]
     },
     "execution_count": 23,
     "metadata": {},
     "output_type": "execute_result"
    },
    {
     "data": {
      "image/png": "[encoded data removed]",
      "text/plain": [
       "<Figure size 432x288 with 1 Axes>"
      ]
     },
     "metadata": {},
     "output_type": "display_data"
    }
   ],
   "source": [
    "sns.countplot(x=train[\"Gender\"])"
   ]
  },
  {
   "cell_type": "markdown",
   "id": "69d53bf1",
   "metadata": {},
   "source": [
    "import matplotlib.pyplot as plt"
   ]
  },
  {
   "cell_type": "code",
   "execution_count": 24,
   "id": "f20cc52a",
   "metadata": {},
   "outputs": [
    {
     "data": {
      "text/plain": [
       "Index(['CustomerID', 'Coverage', 'Education', 'EmploymentStatus', 'Gender',\n",
       "       'Income', 'Location.Geo', 'Location.Code', 'Marital.Status',\n",
       "       'Monthly.Premium.Auto', 'Months.Since.Last.Claim',\n",
       "       'Months.Since.Policy.Inception', 'Number.of.Open.Complaints',\n",
       "       'Number.of.Policies', 'Policy.Type', 'Policy', 'Renew.Offer.Type',\n",
       "       'Sales.Channel', 'Total.Claim.Amount', 'Vehicle.Class', 'Vehicle.Size'],\n",
       "      dtype='object')"
      ]
     },
     "execution_count": 24,
     "metadata": {},
     "output_type": "execute_result"
    }
   ],
   "source": [
    "x.columns"
   ]
  },
  {
   "cell_type": "code",
   "execution_count": 25,
   "id": "f2f3e9d0",
   "metadata": {},
   "outputs": [
    {
     "data": {
      "text/plain": [
       "<AxesSubplot: xlabel='Income', ylabel='Customer.Lifetime.Value'>"
      ]
     },
     "execution_count": 25,
     "metadata": {},
     "output_type": "execute_result"
    },
    {
     "data": {
      "image/png": "[encoded data removed]",
      "text/plain": [
       "<Figure size 432x288 with 1 Axes>"
      ]
     },
     "metadata": {},
     "output_type": "display_data"
    }
   ],
   "source": [
    "sns.scatterplot(x=x[\"Income\"],y=y[\"Customer.Lifetime.Value\"])\n"
   ]
  },
  {
   "cell_type": "code",
   "execution_count": null,
   "id": "465ac71a",
   "metadata": {},
   "outputs": [],
   "source": []
  },
  {
   "cell_type": "markdown",
   "id": "9267e495",
   "metadata": {},
   "source": [
    "### Handling null values"
   ]
  },
  {
   "cell_type": "code",
   "execution_count": 26,
   "id": "1523ce46",
   "metadata": {},
   "outputs": [],
   "source": [
    "##Visualizing null values"
   ]
  },
  {
   "cell_type": "code",
   "execution_count": 27,
   "id": "30c71ce2",
   "metadata": {},
   "outputs": [
    {
     "name": "stdout",
     "output_type": "stream",
     "text": [
      "------On x_train data----------\n"
     ]
    },
    {
     "data": {
      "text/plain": [
       "<AxesSubplot: >"
      ]
     },
     "execution_count": 27,
     "metadata": {},
     "output_type": "execute_result"
    },
    {
     "data": {
      "image/png": "[encoded data removed]",
      "text/plain": [
       "<Figure size 1728x720 with 3 Axes>"
      ]
     },
     "metadata": {},
     "output_type": "display_data"
    }
   ],
   "source": [
    "import missingno as msno\n",
    "print(\"------On x_train data----------\")\n",
    "msno.bar(x)"
   ]
  },
  {
   "cell_type": "code",
   "execution_count": 28,
   "id": "0602a9fa",
   "metadata": {},
   "outputs": [
    {
     "name": "stdout",
     "output_type": "stream",
     "text": [
      "-------------on ytrain----------------\n"
     ]
    },
    {
     "data": {
      "text/plain": [
       "<AxesSubplot: >"
      ]
     },
     "execution_count": 28,
     "metadata": {},
     "output_type": "execute_result"
    },
    {
     "data": {
      "image/png": "[encoded data removed]",
      "text/plain": [
       "<Figure size 1728x720 with 3 Axes>"
      ]
     },
     "metadata": {},
     "output_type": "display_data"
    }
   ],
   "source": [
    "print(\"-------------on ytrain----------------\")\n",
    "msno.bar(y)"
   ]
  },
  {
   "cell_type": "code",
   "execution_count": 29,
   "id": "fb9180aa",
   "metadata": {},
   "outputs": [
    {
     "name": "stdout",
     "output_type": "stream",
     "text": [
      "------------on test data---------------------\n"
     ]
    },
    {
     "data": {
      "text/plain": [
       "<AxesSubplot: >"
      ]
     },
     "execution_count": 29,
     "metadata": {},
     "output_type": "execute_result"
    },
    {
     "data": {
      "image/png": "[encoded data removed]",
      "text/plain": [
       "<Figure size 1728x720 with 3 Axes>"
      ]
     },
     "metadata": {},
     "output_type": "display_data"
    }
   ],
   "source": [
    "print(\"------------on test data---------------------\")\n",
    "msno.bar(test)"
   ]
  },
  {
   "cell_type": "markdown",
   "id": "f0509493",
   "metadata": {},
   "source": [
    "## Checking unique values"
   ]
  },
  {
   "cell_type": "code",
   "execution_count": 30,
   "id": "72700d17",
   "metadata": {},
   "outputs": [
    {
     "name": "stdout",
     "output_type": "stream",
     "text": [
      "-------Unique Values in X------------\n",
      "CustomerID                       9806\n",
      "Coverage                            3\n",
      "Education                           5\n",
      "EmploymentStatus                    5\n",
      "Gender                              2\n",
      "Income                           4621\n",
      "Location.Geo                     2840\n",
      "Location.Code                       3\n",
      "Marital.Status                      3\n",
      "Monthly.Premium.Auto              191\n",
      "Months.Since.Last.Claim            36\n",
      "Months.Since.Policy.Inception     100\n",
      "Number.of.Open.Complaints           6\n",
      "Number.of.Policies                  9\n",
      "Policy.Type                         3\n",
      "Policy                              9\n",
      "Renew.Offer.Type                    4\n",
      "Sales.Channel                       4\n",
      "Total.Claim.Amount               4125\n",
      "Vehicle.Class                       6\n",
      "Vehicle.Size                        3\n",
      "dtype: int64\n"
     ]
    }
   ],
   "source": [
    "print(\"-------Unique Values in X------------\")\n",
    "print(x.nunique())\n"
   ]
  },
  {
   "cell_type": "code",
   "execution_count": 31,
   "id": "162868cc",
   "metadata": {},
   "outputs": [
    {
     "name": "stdout",
     "output_type": "stream",
     "text": [
      "-------Unique Values in test------------\n",
      "CustomerID                       1767\n",
      "Coverage                            3\n",
      "Education                           5\n",
      "EmploymentStatus                    4\n",
      "Gender                              2\n",
      "Income                           1219\n",
      "Location.Geo                     1192\n",
      "Location.Code                       3\n",
      "Marital.Status                      3\n",
      "Monthly.Premium.Auto              142\n",
      "Months.Since.Last.Claim            36\n",
      "Months.Since.Policy.Inception     100\n",
      "Number.of.Open.Complaints           6\n",
      "Number.of.Policies                  9\n",
      "Policy.Type                         3\n",
      "Policy                              9\n",
      "Renew.Offer.Type                    4\n",
      "Sales.Channel                       4\n",
      "Total.Claim.Amount               1192\n",
      "Vehicle.Class                       6\n",
      "Vehicle.Size                        3\n",
      "dtype: int64\n"
     ]
    }
   ],
   "source": [
    "print(\"-------Unique Values in test------------\")\n",
    "print(test.nunique())\n"
   ]
  },
  {
   "cell_type": "code",
   "execution_count": 32,
   "id": "67ef7cb6",
   "metadata": {},
   "outputs": [
    {
     "name": "stdout",
     "output_type": "stream",
     "text": [
      "-------Unique Values in Y------------\n",
      "Customer.Lifetime.Value    6477\n",
      "dtype: int64\n"
     ]
    }
   ],
   "source": [
    "print(\"-------Unique Values in Y------------\")\n",
    "print(y.nunique())\n"
   ]
  },
  {
   "cell_type": "code",
   "execution_count": 33,
   "id": "73765026",
   "metadata": {},
   "outputs": [],
   "source": [
    "## Removing unique valued columns like Id"
   ]
  },
  {
   "cell_type": "code",
   "execution_count": 34,
   "id": "397a04e2",
   "metadata": {},
   "outputs": [
    {
     "name": "stdout",
     "output_type": "stream",
     "text": [
      "<class 'pandas.core.frame.DataFrame'>\n",
      "Int64Index: 9806 entries, 0 to 9805\n",
      "Data columns (total 21 columns):\n",
      " #   Column                         Non-Null Count  Dtype  \n",
      "---  ------                         --------------  -----  \n",
      " 0   CustomerID                     9806 non-null   int64  \n",
      " 1   Coverage                       8881 non-null   object \n",
      " 2   Education                      9677 non-null   object \n",
      " 3   EmploymentStatus               9688 non-null   object \n",
      " 4   Gender                         9677 non-null   object \n",
      " 5   Income                         9688 non-null   float64\n",
      " 6   Location.Geo                   9806 non-null   object \n",
      " 7   Location.Code                  9687 non-null   object \n",
      " 8   Marital.Status                 9677 non-null   object \n",
      " 9   Monthly.Premium.Auto           9012 non-null   float64\n",
      " 10  Months.Since.Last.Claim        9806 non-null   int64  \n",
      " 11  Months.Since.Policy.Inception  9806 non-null   int64  \n",
      " 12  Number.of.Open.Complaints      8988 non-null   float64\n",
      " 13  Number.of.Policies             9685 non-null   float64\n",
      " 14  Policy.Type                    8915 non-null   object \n",
      " 15  Policy                         9685 non-null   object \n",
      " 16  Renew.Offer.Type               9678 non-null   object \n",
      " 17  Sales.Channel                  9678 non-null   object \n",
      " 18  Total.Claim.Amount             9806 non-null   float64\n",
      " 19  Vehicle.Class                  9680 non-null   object \n",
      " 20  Vehicle.Size                   9680 non-null   float64\n",
      "dtypes: float64(6), int64(3), object(12)\n",
      "memory usage: 1.6+ MB\n"
     ]
    }
   ],
   "source": [
    "x.info()"
   ]
  },
  {
   "cell_type": "code",
   "execution_count": 35,
   "id": "9e1d1b14",
   "metadata": {},
   "outputs": [],
   "source": [
    "x=x.drop([\"CustomerID\"],axis=1)"
   ]
  },
  {
   "cell_type": "code",
   "execution_count": 36,
   "id": "68363a4d",
   "metadata": {},
   "outputs": [
    {
     "name": "stdout",
     "output_type": "stream",
     "text": [
      "<class 'pandas.core.frame.DataFrame'>\n",
      "Int64Index: 9806 entries, 0 to 9805\n",
      "Data columns (total 20 columns):\n",
      " #   Column                         Non-Null Count  Dtype  \n",
      "---  ------                         --------------  -----  \n",
      " 0   Coverage                       8881 non-null   object \n",
      " 1   Education                      9677 non-null   object \n",
      " 2   EmploymentStatus               9688 non-null   object \n",
      " 3   Gender                         9677 non-null   object \n",
      " 4   Income                         9688 non-null   float64\n",
      " 5   Location.Geo                   9806 non-null   object \n",
      " 6   Location.Code                  9687 non-null   object \n",
      " 7   Marital.Status                 9677 non-null   object \n",
      " 8   Monthly.Premium.Auto           9012 non-null   float64\n",
      " 9   Months.Since.Last.Claim        9806 non-null   int64  \n",
      " 10  Months.Since.Policy.Inception  9806 non-null   int64  \n",
      " 11  Number.of.Open.Complaints      8988 non-null   float64\n",
      " 12  Number.of.Policies             9685 non-null   float64\n",
      " 13  Policy.Type                    8915 non-null   object \n",
      " 14  Policy                         9685 non-null   object \n",
      " 15  Renew.Offer.Type               9678 non-null   object \n",
      " 16  Sales.Channel                  9678 non-null   object \n",
      " 17  Total.Claim.Amount             9806 non-null   float64\n",
      " 18  Vehicle.Class                  9680 non-null   object \n",
      " 19  Vehicle.Size                   9680 non-null   float64\n",
      "dtypes: float64(6), int64(2), object(12)\n",
      "memory usage: 1.6+ MB\n"
     ]
    }
   ],
   "source": [
    "x.info()"
   ]
  },
  {
   "cell_type": "code",
   "execution_count": 37,
   "id": "8cad858c",
   "metadata": {},
   "outputs": [],
   "source": [
    "test=test.drop([\"CustomerID\"],axis=1)"
   ]
  },
  {
   "cell_type": "code",
   "execution_count": 38,
   "id": "497e1670",
   "metadata": {},
   "outputs": [
    {
     "name": "stdout",
     "output_type": "stream",
     "text": [
      "<class 'pandas.core.frame.DataFrame'>\n",
      "Int64Index: 1767 entries, 0 to 1766\n",
      "Data columns (total 20 columns):\n",
      " #   Column                         Non-Null Count  Dtype  \n",
      "---  ------                         --------------  -----  \n",
      " 0   Coverage                       1767 non-null   object \n",
      " 1   Education                      1767 non-null   object \n",
      " 2   EmploymentStatus               1767 non-null   object \n",
      " 3   Gender                         1767 non-null   object \n",
      " 4   Income                         1528 non-null   float64\n",
      " 5   Location.Geo                   1767 non-null   object \n",
      " 6   Location.Code                  1767 non-null   object \n",
      " 7   Marital.Status                 1767 non-null   object \n",
      " 8   Monthly.Premium.Auto           1695 non-null   float64\n",
      " 9   Months.Since.Last.Claim        1767 non-null   int64  \n",
      " 10  Months.Since.Policy.Inception  1767 non-null   int64  \n",
      " 11  Number.of.Open.Complaints      1767 non-null   int64  \n",
      " 12  Number.of.Policies             1767 non-null   int64  \n",
      " 13  Policy.Type                    1725 non-null   object \n",
      " 14  Policy                         1767 non-null   object \n",
      " 15  Renew.Offer.Type               1767 non-null   object \n",
      " 16  Sales.Channel                  1767 non-null   object \n",
      " 17  Total.Claim.Amount             1767 non-null   float64\n",
      " 18  Vehicle.Class                  1767 non-null   object \n",
      " 19  Vehicle.Size                   1767 non-null   object \n",
      "dtypes: float64(3), int64(4), object(13)\n",
      "memory usage: 289.9+ KB\n"
     ]
    }
   ],
   "source": [
    "test.info()"
   ]
  },
  {
   "cell_type": "code",
   "execution_count": null,
   "id": "82d1caf5",
   "metadata": {},
   "outputs": [],
   "source": []
  },
  {
   "cell_type": "markdown",
   "id": "bf2cab70",
   "metadata": {},
   "source": [
    "### Seperating num and cat col names"
   ]
  },
  {
   "cell_type": "code",
   "execution_count": 39,
   "id": "17a72ea3",
   "metadata": {},
   "outputs": [
    {
     "data": {
      "text/plain": [
       "(9806, 20)"
      ]
     },
     "execution_count": 39,
     "metadata": {},
     "output_type": "execute_result"
    }
   ],
   "source": [
    "x.shape"
   ]
  },
  {
   "cell_type": "code",
   "execution_count": 40,
   "id": "d93d0021",
   "metadata": {},
   "outputs": [
    {
     "data": {
      "text/plain": [
       "(9806, 1)"
      ]
     },
     "execution_count": 40,
     "metadata": {},
     "output_type": "execute_result"
    }
   ],
   "source": [
    "y.shape"
   ]
  },
  {
   "cell_type": "code",
   "execution_count": 41,
   "id": "6d84ab2a",
   "metadata": {},
   "outputs": [
    {
     "data": {
      "text/plain": [
       "(1767, 20)"
      ]
     },
     "execution_count": 41,
     "metadata": {},
     "output_type": "execute_result"
    }
   ],
   "source": [
    "test.shape"
   ]
  },
  {
   "cell_type": "code",
   "execution_count": 42,
   "id": "42e19f50",
   "metadata": {},
   "outputs": [
    {
     "name": "stdout",
     "output_type": "stream",
     "text": [
      "<class 'pandas.core.frame.DataFrame'>\n",
      "Int64Index: 9806 entries, 0 to 9805\n",
      "Data columns (total 20 columns):\n",
      " #   Column                         Non-Null Count  Dtype  \n",
      "---  ------                         --------------  -----  \n",
      " 0   Coverage                       8881 non-null   object \n",
      " 1   Education                      9677 non-null   object \n",
      " 2   EmploymentStatus               9688 non-null   object \n",
      " 3   Gender                         9677 non-null   object \n",
      " 4   Income                         9688 non-null   float64\n",
      " 5   Location.Geo                   9806 non-null   object \n",
      " 6   Location.Code                  9687 non-null   object \n",
      " 7   Marital.Status                 9677 non-null   object \n",
      " 8   Monthly.Premium.Auto           9012 non-null   float64\n",
      " 9   Months.Since.Last.Claim        9806 non-null   int64  \n",
      " 10  Months.Since.Policy.Inception  9806 non-null   int64  \n",
      " 11  Number.of.Open.Complaints      8988 non-null   float64\n",
      " 12  Number.of.Policies             9685 non-null   float64\n",
      " 13  Policy.Type                    8915 non-null   object \n",
      " 14  Policy                         9685 non-null   object \n",
      " 15  Renew.Offer.Type               9678 non-null   object \n",
      " 16  Sales.Channel                  9678 non-null   object \n",
      " 17  Total.Claim.Amount             9806 non-null   float64\n",
      " 18  Vehicle.Class                  9680 non-null   object \n",
      " 19  Vehicle.Size                   9680 non-null   float64\n",
      "dtypes: float64(6), int64(2), object(12)\n",
      "memory usage: 1.6+ MB\n"
     ]
    }
   ],
   "source": [
    "x.info()"
   ]
  },
  {
   "cell_type": "code",
   "execution_count": 43,
   "id": "a6b4d89e",
   "metadata": {
    "scrolled": true
   },
   "outputs": [
    {
     "name": "stdout",
     "output_type": "stream",
     "text": [
      "<class 'pandas.core.frame.DataFrame'>\n",
      "Int64Index: 1767 entries, 0 to 1766\n",
      "Data columns (total 20 columns):\n",
      " #   Column                         Non-Null Count  Dtype  \n",
      "---  ------                         --------------  -----  \n",
      " 0   Coverage                       1767 non-null   object \n",
      " 1   Education                      1767 non-null   object \n",
      " 2   EmploymentStatus               1767 non-null   object \n",
      " 3   Gender                         1767 non-null   object \n",
      " 4   Income                         1528 non-null   float64\n",
      " 5   Location.Geo                   1767 non-null   object \n",
      " 6   Location.Code                  1767 non-null   object \n",
      " 7   Marital.Status                 1767 non-null   object \n",
      " 8   Monthly.Premium.Auto           1695 non-null   float64\n",
      " 9   Months.Since.Last.Claim        1767 non-null   int64  \n",
      " 10  Months.Since.Policy.Inception  1767 non-null   int64  \n",
      " 11  Number.of.Open.Complaints      1767 non-null   int64  \n",
      " 12  Number.of.Policies             1767 non-null   int64  \n",
      " 13  Policy.Type                    1725 non-null   object \n",
      " 14  Policy                         1767 non-null   object \n",
      " 15  Renew.Offer.Type               1767 non-null   object \n",
      " 16  Sales.Channel                  1767 non-null   object \n",
      " 17  Total.Claim.Amount             1767 non-null   float64\n",
      " 18  Vehicle.Class                  1767 non-null   object \n",
      " 19  Vehicle.Size                   1767 non-null   object \n",
      "dtypes: float64(3), int64(4), object(13)\n",
      "memory usage: 289.9+ KB\n"
     ]
    }
   ],
   "source": [
    "test.info()"
   ]
  },
  {
   "cell_type": "code",
   "execution_count": 44,
   "id": "1400323d",
   "metadata": {},
   "outputs": [],
   "source": [
    "## Here,I observe \n",
    "###In train data -----Vehicle.Size column is in float\n",
    "             #but\n",
    "###In test data ------- Vehicle.Size column is in object\n"
   ]
  },
  {
   "cell_type": "code",
   "execution_count": 45,
   "id": "3bca4060",
   "metadata": {},
   "outputs": [
    {
     "data": {
      "text/plain": [
       "Vehicle.Size\n",
       "Medsize         1252\n",
       "Small            343\n",
       "Large            172\n",
       "dtype: int64"
      ]
     },
     "execution_count": 45,
     "metadata": {},
     "output_type": "execute_result"
    }
   ],
   "source": [
    "test[[\"Vehicle.Size\"]].value_counts()"
   ]
  },
  {
   "cell_type": "code",
   "execution_count": 46,
   "id": "71771e50",
   "metadata": {},
   "outputs": [
    {
     "data": {
      "text/plain": [
       "Vehicle.Size\n",
       "2.0             6795\n",
       "3.0             1877\n",
       "1.0             1008\n",
       "dtype: int64"
      ]
     },
     "execution_count": 46,
     "metadata": {},
     "output_type": "execute_result"
    }
   ],
   "source": [
    "x[[\"Vehicle.Size\"]].value_counts()"
   ]
  },
  {
   "cell_type": "code",
   "execution_count": 47,
   "id": "890d4092",
   "metadata": {},
   "outputs": [],
   "source": [
    "test[\"Vehicle.Size\"].replace({'Medsize':2.0,'Large':3.0,'Small':1.0},inplace=True)"
   ]
  },
  {
   "cell_type": "code",
   "execution_count": 48,
   "id": "134ef3d8",
   "metadata": {},
   "outputs": [
    {
     "data": {
      "text/plain": [
       "2.0    1252\n",
       "1.0     343\n",
       "3.0     172\n",
       "Name: Vehicle.Size, dtype: int64"
      ]
     },
     "execution_count": 48,
     "metadata": {},
     "output_type": "execute_result"
    }
   ],
   "source": [
    "test[\"Vehicle.Size\"].value_counts()"
   ]
  },
  {
   "cell_type": "code",
   "execution_count": 49,
   "id": "f51ba348",
   "metadata": {},
   "outputs": [
    {
     "data": {
      "text/plain": [
       "['Income',\n",
       " 'Monthly.Premium.Auto',\n",
       " 'Months.Since.Last.Claim',\n",
       " 'Months.Since.Policy.Inception',\n",
       " 'Number.of.Open.Complaints',\n",
       " 'Number.of.Policies',\n",
       " 'Total.Claim.Amount',\n",
       " 'Vehicle.Size']"
      ]
     },
     "execution_count": 49,
     "metadata": {},
     "output_type": "execute_result"
    }
   ],
   "source": [
    "num_cols_train=[cols for cols in x.columns if x.dtypes[cols]!=\"object\"]\n",
    "num_cols_train"
   ]
  },
  {
   "cell_type": "code",
   "execution_count": 50,
   "id": "3fd273e8",
   "metadata": {},
   "outputs": [
    {
     "data": {
      "text/plain": [
       "['Coverage',\n",
       " 'Education',\n",
       " 'EmploymentStatus',\n",
       " 'Gender',\n",
       " 'Location.Geo',\n",
       " 'Location.Code',\n",
       " 'Marital.Status',\n",
       " 'Policy.Type',\n",
       " 'Policy',\n",
       " 'Renew.Offer.Type',\n",
       " 'Sales.Channel',\n",
       " 'Vehicle.Class']"
      ]
     },
     "execution_count": 50,
     "metadata": {},
     "output_type": "execute_result"
    }
   ],
   "source": [
    "cat_cols_train=[cols for cols in x.columns if x.dtypes[cols]==\"object\"]\n",
    "cat_cols_train"
   ]
  },
  {
   "cell_type": "code",
   "execution_count": 51,
   "id": "cecf9824",
   "metadata": {},
   "outputs": [
    {
     "data": {
      "text/plain": [
       "['Income',\n",
       " 'Monthly.Premium.Auto',\n",
       " 'Months.Since.Last.Claim',\n",
       " 'Months.Since.Policy.Inception',\n",
       " 'Number.of.Open.Complaints',\n",
       " 'Number.of.Policies',\n",
       " 'Total.Claim.Amount',\n",
       " 'Vehicle.Size']"
      ]
     },
     "execution_count": 51,
     "metadata": {},
     "output_type": "execute_result"
    }
   ],
   "source": [
    "num_cols_test=[cols for cols in test.columns if test.dtypes[cols]!=\"object\"]\n",
    "num_cols_test"
   ]
  },
  {
   "cell_type": "code",
   "execution_count": 52,
   "id": "cc1864a1",
   "metadata": {},
   "outputs": [
    {
     "data": {
      "text/plain": [
       "['Coverage',\n",
       " 'Education',\n",
       " 'EmploymentStatus',\n",
       " 'Gender',\n",
       " 'Location.Geo',\n",
       " 'Location.Code',\n",
       " 'Marital.Status',\n",
       " 'Policy.Type',\n",
       " 'Policy',\n",
       " 'Renew.Offer.Type',\n",
       " 'Sales.Channel',\n",
       " 'Vehicle.Class']"
      ]
     },
     "execution_count": 52,
     "metadata": {},
     "output_type": "execute_result"
    }
   ],
   "source": [
    "cat_cols_test=[cols for cols in test.columns if test.dtypes[cols]==\"object\"]\n",
    "cat_cols_test"
   ]
  },
  {
   "cell_type": "code",
   "execution_count": 53,
   "id": "6567954e",
   "metadata": {},
   "outputs": [
    {
     "data": {
      "text/plain": [
       "True"
      ]
     },
     "execution_count": 53,
     "metadata": {},
     "output_type": "execute_result"
    }
   ],
   "source": [
    "cat_cols_test==cat_cols_train"
   ]
  },
  {
   "cell_type": "code",
   "execution_count": 54,
   "id": "655616a5",
   "metadata": {},
   "outputs": [
    {
     "data": {
      "text/plain": [
       "True"
      ]
     },
     "execution_count": 54,
     "metadata": {},
     "output_type": "execute_result"
    }
   ],
   "source": [
    "num_cols_test==num_cols_train"
   ]
  },
  {
   "cell_type": "code",
   "execution_count": 55,
   "id": "4e46d6a0",
   "metadata": {},
   "outputs": [
    {
     "data": {
      "text/plain": [
       "20"
      ]
     },
     "execution_count": 55,
     "metadata": {},
     "output_type": "execute_result"
    }
   ],
   "source": [
    "len(num_cols_train)+len(cat_cols_train)"
   ]
  },
  {
   "cell_type": "code",
   "execution_count": 56,
   "id": "13fd3ab5",
   "metadata": {},
   "outputs": [
    {
     "name": "stdout",
     "output_type": "stream",
     "text": [
      "<class 'pandas.core.frame.DataFrame'>\n",
      "Int64Index: 9806 entries, 0 to 9805\n",
      "Data columns (total 12 columns):\n",
      " #   Column            Non-Null Count  Dtype \n",
      "---  ------            --------------  ----- \n",
      " 0   Coverage          8881 non-null   object\n",
      " 1   Education         9677 non-null   object\n",
      " 2   EmploymentStatus  9688 non-null   object\n",
      " 3   Gender            9677 non-null   object\n",
      " 4   Location.Geo      9806 non-null   object\n",
      " 5   Location.Code     9687 non-null   object\n",
      " 6   Marital.Status    9677 non-null   object\n",
      " 7   Policy.Type       8915 non-null   object\n",
      " 8   Policy            9685 non-null   object\n",
      " 9   Renew.Offer.Type  9678 non-null   object\n",
      " 10  Sales.Channel     9678 non-null   object\n",
      " 11  Vehicle.Class     9680 non-null   object\n",
      "dtypes: object(12)\n",
      "memory usage: 995.9+ KB\n"
     ]
    },
    {
     "data": {
      "text/plain": [
       "Coverage            925\n",
       "Education           129\n",
       "EmploymentStatus    118\n",
       "Gender              129\n",
       "Location.Geo          0\n",
       "Location.Code       119\n",
       "Marital.Status      129\n",
       "Policy.Type         891\n",
       "Policy              121\n",
       "Renew.Offer.Type    128\n",
       "Sales.Channel       128\n",
       "Vehicle.Class       126\n",
       "dtype: int64"
      ]
     },
     "execution_count": 56,
     "metadata": {},
     "output_type": "execute_result"
    }
   ],
   "source": [
    "train_catdata=x[cat_cols_train]\n",
    "train_catdata.info()\n",
    "train_catdata.isnull().sum()"
   ]
  },
  {
   "cell_type": "code",
   "execution_count": 57,
   "id": "9703c340",
   "metadata": {},
   "outputs": [
    {
     "data": {
      "text/html": [
       "<div>\n",
       "<style scoped>\n",
       "    .dataframe tbody tr th:only-of-type {\n",
       "        vertical-align: middle;\n",
       "    }\n",
       "\n",
       "    .dataframe tbody tr th {\n",
       "        vertical-align: top;\n",
       "    }\n",
       "\n",
       "    .dataframe thead th {\n",
       "        text-align: right;\n",
       "    }\n",
       "</style>\n",
       "<table border=\"1\" class=\"dataframe\">\n",
       "  <thead>\n",
       "    <tr style=\"text-align: right;\">\n",
       "      <th></th>\n",
       "      <th>Coverage</th>\n",
       "      <th>Education</th>\n",
       "      <th>EmploymentStatus</th>\n",
       "      <th>Gender</th>\n",
       "      <th>Location.Geo</th>\n",
       "      <th>Location.Code</th>\n",
       "      <th>Marital.Status</th>\n",
       "      <th>Policy.Type</th>\n",
       "      <th>Policy</th>\n",
       "      <th>Renew.Offer.Type</th>\n",
       "      <th>Sales.Channel</th>\n",
       "      <th>Vehicle.Class</th>\n",
       "    </tr>\n",
       "  </thead>\n",
       "  <tbody>\n",
       "    <tr>\n",
       "      <th>0</th>\n",
       "      <td>Basic</td>\n",
       "      <td>Bachelor</td>\n",
       "      <td>Unemployed</td>\n",
       "      <td>F</td>\n",
       "      <td>17.7,77.7</td>\n",
       "      <td>Urban</td>\n",
       "      <td>Married</td>\n",
       "      <td>Personal Auto</td>\n",
       "      <td>Personal L2</td>\n",
       "      <td>Offer2</td>\n",
       "      <td>Branch</td>\n",
       "      <td>Four-Door Car</td>\n",
       "    </tr>\n",
       "    <tr>\n",
       "      <th>1</th>\n",
       "      <td>Basic</td>\n",
       "      <td>College</td>\n",
       "      <td>Employed</td>\n",
       "      <td>M</td>\n",
       "      <td>28.8,76.6</td>\n",
       "      <td>Suburban</td>\n",
       "      <td>Married</td>\n",
       "      <td>Personal Auto</td>\n",
       "      <td>Personal L2</td>\n",
       "      <td>Offer2</td>\n",
       "      <td>Agent</td>\n",
       "      <td>SUV</td>\n",
       "    </tr>\n",
       "    <tr>\n",
       "      <th>2</th>\n",
       "      <td>Basic</td>\n",
       "      <td>High School or Below</td>\n",
       "      <td>Employed</td>\n",
       "      <td>F</td>\n",
       "      <td>21.6,88.4</td>\n",
       "      <td>Urban</td>\n",
       "      <td>Married</td>\n",
       "      <td>Personal Auto</td>\n",
       "      <td>Personal L1</td>\n",
       "      <td>Offer2</td>\n",
       "      <td>Branch</td>\n",
       "      <td>SUV</td>\n",
       "    </tr>\n",
       "    <tr>\n",
       "      <th>3</th>\n",
       "      <td>Basic</td>\n",
       "      <td>College</td>\n",
       "      <td>Employed</td>\n",
       "      <td>M</td>\n",
       "      <td>19,72.5</td>\n",
       "      <td>Suburban</td>\n",
       "      <td>Married</td>\n",
       "      <td>Corporate Auto</td>\n",
       "      <td>Corporate L3</td>\n",
       "      <td>Offer1</td>\n",
       "      <td>Branch</td>\n",
       "      <td>SUV</td>\n",
       "    </tr>\n",
       "    <tr>\n",
       "      <th>4</th>\n",
       "      <td>Basic</td>\n",
       "      <td>Bachelor</td>\n",
       "      <td>Retired</td>\n",
       "      <td>F</td>\n",
       "      <td>19.1,74.7</td>\n",
       "      <td>Suburban</td>\n",
       "      <td>Married</td>\n",
       "      <td>Personal Auto</td>\n",
       "      <td>Personal L1</td>\n",
       "      <td>Offer2</td>\n",
       "      <td>Web</td>\n",
       "      <td>Two-Door Car</td>\n",
       "    </tr>\n",
       "  </tbody>\n",
       "</table>\n",
       "</div>"
      ],
      "text/plain": [
       "  Coverage             Education EmploymentStatus Gender Location.Geo  \\\n",
       "0    Basic              Bachelor       Unemployed      F    17.7,77.7   \n",
       "1    Basic               College         Employed      M    28.8,76.6   \n",
       "2    Basic  High School or Below         Employed      F    21.6,88.4   \n",
       "3    Basic               College         Employed      M      19,72.5   \n",
       "4    Basic              Bachelor          Retired      F    19.1,74.7   \n",
       "\n",
       "  Location.Code Marital.Status     Policy.Type        Policy Renew.Offer.Type  \\\n",
       "0         Urban        Married   Personal Auto   Personal L2           Offer2   \n",
       "1      Suburban        Married   Personal Auto   Personal L2           Offer2   \n",
       "2         Urban        Married   Personal Auto   Personal L1           Offer2   \n",
       "3      Suburban        Married  Corporate Auto  Corporate L3           Offer1   \n",
       "4      Suburban        Married   Personal Auto   Personal L1           Offer2   \n",
       "\n",
       "  Sales.Channel  Vehicle.Class  \n",
       "0        Branch  Four-Door Car  \n",
       "1         Agent            SUV  \n",
       "2        Branch            SUV  \n",
       "3        Branch            SUV  \n",
       "4           Web   Two-Door Car  "
      ]
     },
     "execution_count": 57,
     "metadata": {},
     "output_type": "execute_result"
    }
   ],
   "source": [
    "train_catdata.head()"
   ]
  },
  {
   "cell_type": "code",
   "execution_count": 58,
   "id": "c2af1411",
   "metadata": {},
   "outputs": [
    {
     "name": "stdout",
     "output_type": "stream",
     "text": [
      "<class 'pandas.core.frame.DataFrame'>\n",
      "Int64Index: 9806 entries, 0 to 9805\n",
      "Data columns (total 8 columns):\n",
      " #   Column                         Non-Null Count  Dtype  \n",
      "---  ------                         --------------  -----  \n",
      " 0   Income                         9688 non-null   float64\n",
      " 1   Monthly.Premium.Auto           9012 non-null   float64\n",
      " 2   Months.Since.Last.Claim        9806 non-null   int64  \n",
      " 3   Months.Since.Policy.Inception  9806 non-null   int64  \n",
      " 4   Number.of.Open.Complaints      8988 non-null   float64\n",
      " 5   Number.of.Policies             9685 non-null   float64\n",
      " 6   Total.Claim.Amount             9806 non-null   float64\n",
      " 7   Vehicle.Size                   9680 non-null   float64\n",
      "dtypes: float64(6), int64(2)\n",
      "memory usage: 689.5 KB\n"
     ]
    },
    {
     "data": {
      "text/plain": [
       "Income                           118\n",
       "Monthly.Premium.Auto             794\n",
       "Months.Since.Last.Claim            0\n",
       "Months.Since.Policy.Inception      0\n",
       "Number.of.Open.Complaints        818\n",
       "Number.of.Policies               121\n",
       "Total.Claim.Amount                 0\n",
       "Vehicle.Size                     126\n",
       "dtype: int64"
      ]
     },
     "execution_count": 58,
     "metadata": {},
     "output_type": "execute_result"
    }
   ],
   "source": [
    "train_numdata=x[num_cols_train]\n",
    "train_numdata.info()\n",
    "train_numdata.isnull().sum()"
   ]
  },
  {
   "cell_type": "code",
   "execution_count": 59,
   "id": "24d62963",
   "metadata": {},
   "outputs": [
    {
     "data": {
      "text/html": [
       "<div>\n",
       "<style scoped>\n",
       "    .dataframe tbody tr th:only-of-type {\n",
       "        vertical-align: middle;\n",
       "    }\n",
       "\n",
       "    .dataframe tbody tr th {\n",
       "        vertical-align: top;\n",
       "    }\n",
       "\n",
       "    .dataframe thead th {\n",
       "        text-align: right;\n",
       "    }\n",
       "</style>\n",
       "<table border=\"1\" class=\"dataframe\">\n",
       "  <thead>\n",
       "    <tr style=\"text-align: right;\">\n",
       "      <th></th>\n",
       "      <th>Income</th>\n",
       "      <th>Monthly.Premium.Auto</th>\n",
       "      <th>Months.Since.Last.Claim</th>\n",
       "      <th>Months.Since.Policy.Inception</th>\n",
       "      <th>Number.of.Open.Complaints</th>\n",
       "      <th>Number.of.Policies</th>\n",
       "      <th>Total.Claim.Amount</th>\n",
       "      <th>Vehicle.Size</th>\n",
       "    </tr>\n",
       "  </thead>\n",
       "  <tbody>\n",
       "    <tr>\n",
       "      <th>0</th>\n",
       "      <td>0.0</td>\n",
       "      <td>67.0</td>\n",
       "      <td>2</td>\n",
       "      <td>33</td>\n",
       "      <td>NaN</td>\n",
       "      <td>2.0</td>\n",
       "      <td>267.214383</td>\n",
       "      <td>2.0</td>\n",
       "    </tr>\n",
       "    <tr>\n",
       "      <th>1</th>\n",
       "      <td>63357.0</td>\n",
       "      <td>101.0</td>\n",
       "      <td>26</td>\n",
       "      <td>42</td>\n",
       "      <td>0.0</td>\n",
       "      <td>5.0</td>\n",
       "      <td>565.508572</td>\n",
       "      <td>2.0</td>\n",
       "    </tr>\n",
       "    <tr>\n",
       "      <th>2</th>\n",
       "      <td>64125.0</td>\n",
       "      <td>108.0</td>\n",
       "      <td>3</td>\n",
       "      <td>44</td>\n",
       "      <td>0.0</td>\n",
       "      <td>3.0</td>\n",
       "      <td>369.818708</td>\n",
       "      <td>1.0</td>\n",
       "    </tr>\n",
       "    <tr>\n",
       "      <th>3</th>\n",
       "      <td>67544.0</td>\n",
       "      <td>116.0</td>\n",
       "      <td>2</td>\n",
       "      <td>15</td>\n",
       "      <td>NaN</td>\n",
       "      <td>3.0</td>\n",
       "      <td>556.800000</td>\n",
       "      <td>3.0</td>\n",
       "    </tr>\n",
       "    <tr>\n",
       "      <th>4</th>\n",
       "      <td>19651.0</td>\n",
       "      <td>72.0</td>\n",
       "      <td>3</td>\n",
       "      <td>68</td>\n",
       "      <td>0.0</td>\n",
       "      <td>5.0</td>\n",
       "      <td>345.600000</td>\n",
       "      <td>3.0</td>\n",
       "    </tr>\n",
       "  </tbody>\n",
       "</table>\n",
       "</div>"
      ],
      "text/plain": [
       "    Income  Monthly.Premium.Auto  Months.Since.Last.Claim  \\\n",
       "0      0.0                  67.0                        2   \n",
       "1  63357.0                 101.0                       26   \n",
       "2  64125.0                 108.0                        3   \n",
       "3  67544.0                 116.0                        2   \n",
       "4  19651.0                  72.0                        3   \n",
       "\n",
       "   Months.Since.Policy.Inception  Number.of.Open.Complaints  \\\n",
       "0                             33                        NaN   \n",
       "1                             42                        0.0   \n",
       "2                             44                        0.0   \n",
       "3                             15                        NaN   \n",
       "4                             68                        0.0   \n",
       "\n",
       "   Number.of.Policies  Total.Claim.Amount  Vehicle.Size  \n",
       "0                 2.0          267.214383           2.0  \n",
       "1                 5.0          565.508572           2.0  \n",
       "2                 3.0          369.818708           1.0  \n",
       "3                 3.0          556.800000           3.0  \n",
       "4                 5.0          345.600000           3.0  "
      ]
     },
     "execution_count": 59,
     "metadata": {},
     "output_type": "execute_result"
    }
   ],
   "source": [
    "train_numdata.head()"
   ]
  },
  {
   "cell_type": "code",
   "execution_count": 60,
   "id": "759836e4",
   "metadata": {},
   "outputs": [
    {
     "name": "stdout",
     "output_type": "stream",
     "text": [
      "<class 'pandas.core.frame.DataFrame'>\n",
      "Int64Index: 1767 entries, 0 to 1766\n",
      "Data columns (total 12 columns):\n",
      " #   Column            Non-Null Count  Dtype \n",
      "---  ------            --------------  ----- \n",
      " 0   Coverage          1767 non-null   object\n",
      " 1   Education         1767 non-null   object\n",
      " 2   EmploymentStatus  1767 non-null   object\n",
      " 3   Gender            1767 non-null   object\n",
      " 4   Location.Geo      1767 non-null   object\n",
      " 5   Location.Code     1767 non-null   object\n",
      " 6   Marital.Status    1767 non-null   object\n",
      " 7   Policy.Type       1725 non-null   object\n",
      " 8   Policy            1767 non-null   object\n",
      " 9   Renew.Offer.Type  1767 non-null   object\n",
      " 10  Sales.Channel     1767 non-null   object\n",
      " 11  Vehicle.Class     1767 non-null   object\n",
      "dtypes: object(12)\n",
      "memory usage: 179.5+ KB\n"
     ]
    },
    {
     "data": {
      "text/plain": [
       "Coverage             0\n",
       "Education            0\n",
       "EmploymentStatus     0\n",
       "Gender               0\n",
       "Location.Geo         0\n",
       "Location.Code        0\n",
       "Marital.Status       0\n",
       "Policy.Type         42\n",
       "Policy               0\n",
       "Renew.Offer.Type     0\n",
       "Sales.Channel        0\n",
       "Vehicle.Class        0\n",
       "dtype: int64"
      ]
     },
     "execution_count": 60,
     "metadata": {},
     "output_type": "execute_result"
    }
   ],
   "source": [
    "test_catdata=test[cat_cols_test]\n",
    "test_catdata.info()\n",
    "test_catdata.isnull().sum()"
   ]
  },
  {
   "cell_type": "code",
   "execution_count": 61,
   "id": "07681c7e",
   "metadata": {},
   "outputs": [
    {
     "data": {
      "text/html": [
       "<div>\n",
       "<style scoped>\n",
       "    .dataframe tbody tr th:only-of-type {\n",
       "        vertical-align: middle;\n",
       "    }\n",
       "\n",
       "    .dataframe tbody tr th {\n",
       "        vertical-align: top;\n",
       "    }\n",
       "\n",
       "    .dataframe thead th {\n",
       "        text-align: right;\n",
       "    }\n",
       "</style>\n",
       "<table border=\"1\" class=\"dataframe\">\n",
       "  <thead>\n",
       "    <tr style=\"text-align: right;\">\n",
       "      <th></th>\n",
       "      <th>Coverage</th>\n",
       "      <th>Education</th>\n",
       "      <th>EmploymentStatus</th>\n",
       "      <th>Gender</th>\n",
       "      <th>Location.Geo</th>\n",
       "      <th>Location.Code</th>\n",
       "      <th>Marital.Status</th>\n",
       "      <th>Policy.Type</th>\n",
       "      <th>Policy</th>\n",
       "      <th>Renew.Offer.Type</th>\n",
       "      <th>Sales.Channel</th>\n",
       "      <th>Vehicle.Class</th>\n",
       "    </tr>\n",
       "  </thead>\n",
       "  <tbody>\n",
       "    <tr>\n",
       "      <th>0</th>\n",
       "      <td>Basic</td>\n",
       "      <td>Bachelor</td>\n",
       "      <td>Employed</td>\n",
       "      <td>M</td>\n",
       "      <td>12.6,79.4</td>\n",
       "      <td>Rural</td>\n",
       "      <td>Single</td>\n",
       "      <td>Personal Auto</td>\n",
       "      <td>Personal L1</td>\n",
       "      <td>Offer1</td>\n",
       "      <td>Agent</td>\n",
       "      <td>Four-Door Car</td>\n",
       "    </tr>\n",
       "    <tr>\n",
       "      <th>1</th>\n",
       "      <td>Extended</td>\n",
       "      <td>College</td>\n",
       "      <td>Employed</td>\n",
       "      <td>F</td>\n",
       "      <td>17.3,78.4</td>\n",
       "      <td>Urban</td>\n",
       "      <td>Married</td>\n",
       "      <td>Special Auto</td>\n",
       "      <td>Special L2</td>\n",
       "      <td>Offer2</td>\n",
       "      <td>Branch</td>\n",
       "      <td>Four-Door Car</td>\n",
       "    </tr>\n",
       "    <tr>\n",
       "      <th>2</th>\n",
       "      <td>Premium</td>\n",
       "      <td>Master</td>\n",
       "      <td>Employed</td>\n",
       "      <td>M</td>\n",
       "      <td>18.4,73.5</td>\n",
       "      <td>Urban</td>\n",
       "      <td>Married</td>\n",
       "      <td>Corporate Auto</td>\n",
       "      <td>Corporate L1</td>\n",
       "      <td>Offer2</td>\n",
       "      <td>Agent</td>\n",
       "      <td>Four-Door Car</td>\n",
       "    </tr>\n",
       "    <tr>\n",
       "      <th>3</th>\n",
       "      <td>Basic</td>\n",
       "      <td>Bachelor</td>\n",
       "      <td>Employed</td>\n",
       "      <td>F</td>\n",
       "      <td>17.1,78.2</td>\n",
       "      <td>Rural</td>\n",
       "      <td>Married</td>\n",
       "      <td>Corporate Auto</td>\n",
       "      <td>Corporate L2</td>\n",
       "      <td>Offer2</td>\n",
       "      <td>Branch</td>\n",
       "      <td>Four-Door Car</td>\n",
       "    </tr>\n",
       "    <tr>\n",
       "      <th>4</th>\n",
       "      <td>Extended</td>\n",
       "      <td>Bachelor</td>\n",
       "      <td>Disabled</td>\n",
       "      <td>F</td>\n",
       "      <td>13,80.1</td>\n",
       "      <td>Suburban</td>\n",
       "      <td>Divorced</td>\n",
       "      <td>Personal Auto</td>\n",
       "      <td>Personal L3</td>\n",
       "      <td>Offer4</td>\n",
       "      <td>Call Center</td>\n",
       "      <td>Four-Door Car</td>\n",
       "    </tr>\n",
       "  </tbody>\n",
       "</table>\n",
       "</div>"
      ],
      "text/plain": [
       "   Coverage Education EmploymentStatus Gender Location.Geo Location.Code  \\\n",
       "0     Basic  Bachelor         Employed      M    12.6,79.4         Rural   \n",
       "1  Extended   College         Employed      F    17.3,78.4         Urban   \n",
       "2   Premium    Master         Employed      M    18.4,73.5         Urban   \n",
       "3     Basic  Bachelor         Employed      F    17.1,78.2         Rural   \n",
       "4  Extended  Bachelor         Disabled      F      13,80.1      Suburban   \n",
       "\n",
       "  Marital.Status     Policy.Type        Policy Renew.Offer.Type Sales.Channel  \\\n",
       "0         Single   Personal Auto   Personal L1           Offer1         Agent   \n",
       "1        Married    Special Auto    Special L2           Offer2        Branch   \n",
       "2        Married  Corporate Auto  Corporate L1           Offer2         Agent   \n",
       "3        Married  Corporate Auto  Corporate L2           Offer2        Branch   \n",
       "4       Divorced   Personal Auto   Personal L3           Offer4   Call Center   \n",
       "\n",
       "   Vehicle.Class  \n",
       "0  Four-Door Car  \n",
       "1  Four-Door Car  \n",
       "2  Four-Door Car  \n",
       "3  Four-Door Car  \n",
       "4  Four-Door Car  "
      ]
     },
     "execution_count": 61,
     "metadata": {},
     "output_type": "execute_result"
    }
   ],
   "source": [
    "test_catdata.head()"
   ]
  },
  {
   "cell_type": "code",
   "execution_count": 62,
   "id": "e696ec19",
   "metadata": {},
   "outputs": [
    {
     "name": "stdout",
     "output_type": "stream",
     "text": [
      "<class 'pandas.core.frame.DataFrame'>\n",
      "Int64Index: 1767 entries, 0 to 1766\n",
      "Data columns (total 8 columns):\n",
      " #   Column                         Non-Null Count  Dtype  \n",
      "---  ------                         --------------  -----  \n",
      " 0   Income                         1528 non-null   float64\n",
      " 1   Monthly.Premium.Auto           1695 non-null   float64\n",
      " 2   Months.Since.Last.Claim        1767 non-null   int64  \n",
      " 3   Months.Since.Policy.Inception  1767 non-null   int64  \n",
      " 4   Number.of.Open.Complaints      1767 non-null   int64  \n",
      " 5   Number.of.Policies             1767 non-null   int64  \n",
      " 6   Total.Claim.Amount             1767 non-null   float64\n",
      " 7   Vehicle.Size                   1767 non-null   float64\n",
      "dtypes: float64(4), int64(4)\n",
      "memory usage: 124.2 KB\n"
     ]
    },
    {
     "data": {
      "text/plain": [
       "Income                           239\n",
       "Monthly.Premium.Auto              72\n",
       "Months.Since.Last.Claim            0\n",
       "Months.Since.Policy.Inception      0\n",
       "Number.of.Open.Complaints          0\n",
       "Number.of.Policies                 0\n",
       "Total.Claim.Amount                 0\n",
       "Vehicle.Size                       0\n",
       "dtype: int64"
      ]
     },
     "execution_count": 62,
     "metadata": {},
     "output_type": "execute_result"
    }
   ],
   "source": [
    "test_numdata=test[num_cols_test]\n",
    "test_numdata.info()\n",
    "test_numdata.isnull().sum()"
   ]
  },
  {
   "cell_type": "code",
   "execution_count": 63,
   "id": "a30b7879",
   "metadata": {},
   "outputs": [
    {
     "data": {
      "text/html": [
       "<div>\n",
       "<style scoped>\n",
       "    .dataframe tbody tr th:only-of-type {\n",
       "        vertical-align: middle;\n",
       "    }\n",
       "\n",
       "    .dataframe tbody tr th {\n",
       "        vertical-align: top;\n",
       "    }\n",
       "\n",
       "    .dataframe thead th {\n",
       "        text-align: right;\n",
       "    }\n",
       "</style>\n",
       "<table border=\"1\" class=\"dataframe\">\n",
       "  <thead>\n",
       "    <tr style=\"text-align: right;\">\n",
       "      <th></th>\n",
       "      <th>Income</th>\n",
       "      <th>Monthly.Premium.Auto</th>\n",
       "      <th>Months.Since.Last.Claim</th>\n",
       "      <th>Months.Since.Policy.Inception</th>\n",
       "      <th>Number.of.Open.Complaints</th>\n",
       "      <th>Number.of.Policies</th>\n",
       "      <th>Total.Claim.Amount</th>\n",
       "      <th>Vehicle.Size</th>\n",
       "    </tr>\n",
       "  </thead>\n",
       "  <tbody>\n",
       "    <tr>\n",
       "      <th>0</th>\n",
       "      <td>43836.0</td>\n",
       "      <td>73.0</td>\n",
       "      <td>12</td>\n",
       "      <td>44</td>\n",
       "      <td>0</td>\n",
       "      <td>1</td>\n",
       "      <td>138.130879</td>\n",
       "      <td>2.0</td>\n",
       "    </tr>\n",
       "    <tr>\n",
       "      <th>1</th>\n",
       "      <td>28812.0</td>\n",
       "      <td>93.0</td>\n",
       "      <td>17</td>\n",
       "      <td>7</td>\n",
       "      <td>0</td>\n",
       "      <td>8</td>\n",
       "      <td>425.527834</td>\n",
       "      <td>2.0</td>\n",
       "    </tr>\n",
       "    <tr>\n",
       "      <th>2</th>\n",
       "      <td>77026.0</td>\n",
       "      <td>110.0</td>\n",
       "      <td>9</td>\n",
       "      <td>82</td>\n",
       "      <td>2</td>\n",
       "      <td>3</td>\n",
       "      <td>472.029737</td>\n",
       "      <td>2.0</td>\n",
       "    </tr>\n",
       "    <tr>\n",
       "      <th>3</th>\n",
       "      <td>24599.0</td>\n",
       "      <td>64.0</td>\n",
       "      <td>12</td>\n",
       "      <td>50</td>\n",
       "      <td>1</td>\n",
       "      <td>2</td>\n",
       "      <td>42.920271</td>\n",
       "      <td>2.0</td>\n",
       "    </tr>\n",
       "    <tr>\n",
       "      <th>4</th>\n",
       "      <td>13789.0</td>\n",
       "      <td>79.0</td>\n",
       "      <td>8</td>\n",
       "      <td>49</td>\n",
       "      <td>0</td>\n",
       "      <td>1</td>\n",
       "      <td>379.200000</td>\n",
       "      <td>2.0</td>\n",
       "    </tr>\n",
       "  </tbody>\n",
       "</table>\n",
       "</div>"
      ],
      "text/plain": [
       "    Income  Monthly.Premium.Auto  Months.Since.Last.Claim  \\\n",
       "0  43836.0                  73.0                       12   \n",
       "1  28812.0                  93.0                       17   \n",
       "2  77026.0                 110.0                        9   \n",
       "3  24599.0                  64.0                       12   \n",
       "4  13789.0                  79.0                        8   \n",
       "\n",
       "   Months.Since.Policy.Inception  Number.of.Open.Complaints  \\\n",
       "0                             44                          0   \n",
       "1                              7                          0   \n",
       "2                             82                          2   \n",
       "3                             50                          1   \n",
       "4                             49                          0   \n",
       "\n",
       "   Number.of.Policies  Total.Claim.Amount  Vehicle.Size  \n",
       "0                   1          138.130879           2.0  \n",
       "1                   8          425.527834           2.0  \n",
       "2                   3          472.029737           2.0  \n",
       "3                   2           42.920271           2.0  \n",
       "4                   1          379.200000           2.0  "
      ]
     },
     "execution_count": 63,
     "metadata": {},
     "output_type": "execute_result"
    }
   ],
   "source": [
    "test_numdata.head()"
   ]
  },
  {
   "cell_type": "code",
   "execution_count": 64,
   "id": "9a31740b",
   "metadata": {},
   "outputs": [],
   "source": [
    "#xtrain_catdata\n",
    "#xtrain_numdata\n",
    "#xtest_catdata\n",
    "#xtest_numdata"
   ]
  },
  {
   "cell_type": "markdown",
   "id": "709e81a4",
   "metadata": {},
   "source": [
    "# Train validation splitting"
   ]
  },
  {
   "cell_type": "code",
   "execution_count": 65,
   "id": "f9ec676b",
   "metadata": {},
   "outputs": [
    {
     "name": "stdout",
     "output_type": "stream",
     "text": [
      "(7844, 20)\n",
      "(1962, 20)\n",
      "(7844, 1)\n",
      "(1962, 1)\n"
     ]
    }
   ],
   "source": [
    "from sklearn.model_selection import train_test_split\n",
    "x_train,x_test,y_train,y_test=train_test_split(x,y,test_size=0.2,random_state=123)\n",
    "print(x_train.shape)\n",
    "print(x_test.shape)\n",
    "print(y_train.shape)\n",
    "print(y_test.shape)"
   ]
  },
  {
   "cell_type": "code",
   "execution_count": null,
   "id": "4e7fbf3d",
   "metadata": {},
   "outputs": [],
   "source": []
  },
  {
   "cell_type": "code",
   "execution_count": null,
   "id": "af23ef61",
   "metadata": {},
   "outputs": [],
   "source": []
  },
  {
   "cell_type": "markdown",
   "id": "dd848fdf",
   "metadata": {},
   "source": [
    "## imputing missing values using simple imputer"
   ]
  },
  {
   "cell_type": "code",
   "execution_count": 66,
   "id": "65517687",
   "metadata": {},
   "outputs": [],
   "source": [
    "##Imputing on cat data"
   ]
  },
  {
   "cell_type": "code",
   "execution_count": 67,
   "id": "0fbb32ac",
   "metadata": {},
   "outputs": [],
   "source": [
    "from sklearn.impute import SimpleImputer"
   ]
  },
  {
   "cell_type": "code",
   "execution_count": 68,
   "id": "6aa0e1eb",
   "metadata": {},
   "outputs": [
    {
     "data": {
      "text/html": [
       "<style>#sk-container-id-1 {color: black;background-color: white;}#sk-container-id-1 pre{padding: 0;}#sk-container-id-1 div.sk-toggleable {background-color: white;}#sk-container-id-1 label.sk-toggleable__label {cursor: pointer;display: block;width: 100%;margin-bottom: 0;padding: 0.3em;box-sizing: border-box;text-align: center;}#sk-container-id-1 label.sk-toggleable__label-arrow:before {content: \"▸\";float: left;margin-right: 0.25em;color: #696969;}#sk-container-id-1 label.sk-toggleable__label-arrow:hover:before {color: black;}#sk-container-id-1 div.sk-estimator:hover label.sk-toggleable__label-arrow:before {color: black;}#sk-container-id-1 div.sk-toggleable__content {max-height: 0;max-width: 0;overflow: hidden;text-align: left;background-color: #f0f8ff;}#sk-container-id-1 div.sk-toggleable__content pre {margin: 0.2em;color: black;border-radius: 0.25em;background-color: #f0f8ff;}#sk-container-id-1 input.sk-toggleable__control:checked~div.sk-toggleable__content {max-height: 200px;max-width: 100%;overflow: auto;}#sk-container-id-1 input.sk-toggleable__control:checked~label.sk-toggleable__label-arrow:before {content: \"▾\";}#sk-container-id-1 div.sk-estimator input.sk-toggleable__control:checked~label.sk-toggleable__label {background-color: #d4ebff;}#sk-container-id-1 div.sk-label input.sk-toggleable__control:checked~label.sk-toggleable__label {background-color: #d4ebff;}#sk-container-id-1 input.sk-hidden--visually {border: 0;clip: rect(1px 1px 1px 1px);clip: rect(1px, 1px, 1px, 1px);height: 1px;margin: -1px;overflow: hidden;padding: 0;position: absolute;width: 1px;}#sk-container-id-1 div.sk-estimator {font-family: monospace;background-color: #f0f8ff;border: 1px dotted black;border-radius: 0.25em;box-sizing: border-box;margin-bottom: 0.5em;}#sk-container-id-1 div.sk-estimator:hover {background-color: #d4ebff;}#sk-container-id-1 div.sk-parallel-item::after {content: \"\";width: 100%;border-bottom: 1px solid gray;flex-grow: 1;}#sk-container-id-1 div.sk-label:hover label.sk-toggleable__label {background-color: #d4ebff;}#sk-container-id-1 div.sk-serial::before {content: \"\";position: absolute;border-left: 1px solid gray;box-sizing: border-box;top: 0;bottom: 0;left: 50%;z-index: 0;}#sk-container-id-1 div.sk-serial {display: flex;flex-direction: column;align-items: center;background-color: white;padding-right: 0.2em;padding-left: 0.2em;position: relative;}#sk-container-id-1 div.sk-item {position: relative;z-index: 1;}#sk-container-id-1 div.sk-parallel {display: flex;align-items: stretch;justify-content: center;background-color: white;position: relative;}#sk-container-id-1 div.sk-item::before, #sk-container-id-1 div.sk-parallel-item::before {content: \"\";position: absolute;border-left: 1px solid gray;box-sizing: border-box;top: 0;bottom: 0;left: 50%;z-index: -1;}#sk-container-id-1 div.sk-parallel-item {display: flex;flex-direction: column;z-index: 1;position: relative;background-color: white;}#sk-container-id-1 div.sk-parallel-item:first-child::after {align-self: flex-end;width: 50%;}#sk-container-id-1 div.sk-parallel-item:last-child::after {align-self: flex-start;width: 50%;}#sk-container-id-1 div.sk-parallel-item:only-child::after {width: 0;}#sk-container-id-1 div.sk-dashed-wrapped {border: 1px dashed gray;margin: 0 0.4em 0.5em 0.4em;box-sizing: border-box;padding-bottom: 0.4em;background-color: white;}#sk-container-id-1 div.sk-label label {font-family: monospace;font-weight: bold;display: inline-block;line-height: 1.2em;}#sk-container-id-1 div.sk-label-container {text-align: center;}#sk-container-id-1 div.sk-container {/* jupyter's `normalize.less` sets `[hidden] { display: none; }` but bootstrap.min.css set `[hidden] { display: none !important; }` so we also need the `!important` here to be able to override the default hidden behavior on the sphinx rendered scikit-learn.org. See: https://github.com/scikit-learn/scikit-learn/issues/21755 */display: inline-block !important;position: relative;}#sk-container-id-1 div.sk-text-repr-fallback {display: none;}</style><div id=\"sk-container-id-1\" class=\"sk-top-container\"><div class=\"sk-text-repr-fallback\"><pre>SimpleImputer(strategy=&#x27;most_frequent&#x27;)</pre><b>In a Jupyter environment, please rerun this cell to show the HTML representation or trust the notebook. <br />On GitHub, the HTML representation is unable to render, please try loading this page with nbviewer.org.</b></div><div class=\"sk-container\" hidden><div class=\"sk-item\"><div class=\"sk-estimator sk-toggleable\"><input class=\"sk-toggleable__control sk-hidden--visually\" id=\"sk-estimator-id-1\" type=\"checkbox\" checked><label for=\"sk-estimator-id-1\" class=\"sk-toggleable__label sk-toggleable__label-arrow\">SimpleImputer</label><div class=\"sk-toggleable__content\"><pre>SimpleImputer(strategy=&#x27;most_frequent&#x27;)</pre></div></div></div></div></div>"
      ],
      "text/plain": [
       "SimpleImputer(strategy='most_frequent')"
      ]
     },
     "execution_count": 68,
     "metadata": {},
     "output_type": "execute_result"
    }
   ],
   "source": [
    "impute_catdata=SimpleImputer(strategy=\"most_frequent\")\n",
    "impute_catdata.fit(x_train[cat_cols_train])"
   ]
  },
  {
   "cell_type": "code",
   "execution_count": 69,
   "id": "2c4cc021",
   "metadata": {},
   "outputs": [
    {
     "data": {
      "text/plain": [
       "Coverage            0\n",
       "Education           0\n",
       "EmploymentStatus    0\n",
       "Gender              0\n",
       "Location.Geo        0\n",
       "Location.Code       0\n",
       "Marital.Status      0\n",
       "Policy.Type         0\n",
       "Policy              0\n",
       "Renew.Offer.Type    0\n",
       "Sales.Channel       0\n",
       "Vehicle.Class       0\n",
       "dtype: int64"
      ]
     },
     "execution_count": 69,
     "metadata": {},
     "output_type": "execute_result"
    }
   ],
   "source": [
    "xtrain_catdata=pd.DataFrame(impute_catdata.transform(x_train[cat_cols_train]),columns=cat_cols_train)\n",
    "xtrain_catdata.isnull().sum()"
   ]
  },
  {
   "cell_type": "code",
   "execution_count": 70,
   "id": "5effb8b4",
   "metadata": {},
   "outputs": [
    {
     "data": {
      "text/plain": [
       "Coverage            0\n",
       "Education           0\n",
       "EmploymentStatus    0\n",
       "Gender              0\n",
       "Location.Geo        0\n",
       "Location.Code       0\n",
       "Marital.Status      0\n",
       "Policy.Type         0\n",
       "Policy              0\n",
       "Renew.Offer.Type    0\n",
       "Sales.Channel       0\n",
       "Vehicle.Class       0\n",
       "dtype: int64"
      ]
     },
     "execution_count": 70,
     "metadata": {},
     "output_type": "execute_result"
    }
   ],
   "source": [
    "xtest_catdata=pd.DataFrame(impute_catdata.transform(x_test[cat_cols_train]),columns=cat_cols_train)\n",
    "xtest_catdata.isnull().sum()"
   ]
  },
  {
   "cell_type": "code",
   "execution_count": 71,
   "id": "4e8f52ed",
   "metadata": {},
   "outputs": [
    {
     "data": {
      "text/plain": [
       "Coverage            0\n",
       "Education           0\n",
       "EmploymentStatus    0\n",
       "Gender              0\n",
       "Location.Geo        0\n",
       "Location.Code       0\n",
       "Marital.Status      0\n",
       "Policy.Type         0\n",
       "Policy              0\n",
       "Renew.Offer.Type    0\n",
       "Sales.Channel       0\n",
       "Vehicle.Class       0\n",
       "dtype: int64"
      ]
     },
     "execution_count": 71,
     "metadata": {},
     "output_type": "execute_result"
    }
   ],
   "source": [
    "test_catdata=pd.DataFrame(impute_catdata.transform(test[cat_cols_train]),columns=cat_cols_test)\n",
    "test_catdata.isnull().sum()"
   ]
  },
  {
   "cell_type": "code",
   "execution_count": 72,
   "id": "3cbf3d27",
   "metadata": {},
   "outputs": [],
   "source": [
    "##Imputing on Num data"
   ]
  },
  {
   "cell_type": "code",
   "execution_count": 73,
   "id": "f25cc865",
   "metadata": {},
   "outputs": [
    {
     "data": {
      "text/html": [
       "<style>#sk-container-id-2 {color: black;background-color: white;}#sk-container-id-2 pre{padding: 0;}#sk-container-id-2 div.sk-toggleable {background-color: white;}#sk-container-id-2 label.sk-toggleable__label {cursor: pointer;display: block;width: 100%;margin-bottom: 0;padding: 0.3em;box-sizing: border-box;text-align: center;}#sk-container-id-2 label.sk-toggleable__label-arrow:before {content: \"▸\";float: left;margin-right: 0.25em;color: #696969;}#sk-container-id-2 label.sk-toggleable__label-arrow:hover:before {color: black;}#sk-container-id-2 div.sk-estimator:hover label.sk-toggleable__label-arrow:before {color: black;}#sk-container-id-2 div.sk-toggleable__content {max-height: 0;max-width: 0;overflow: hidden;text-align: left;background-color: #f0f8ff;}#sk-container-id-2 div.sk-toggleable__content pre {margin: 0.2em;color: black;border-radius: 0.25em;background-color: #f0f8ff;}#sk-container-id-2 input.sk-toggleable__control:checked~div.sk-toggleable__content {max-height: 200px;max-width: 100%;overflow: auto;}#sk-container-id-2 input.sk-toggleable__control:checked~label.sk-toggleable__label-arrow:before {content: \"▾\";}#sk-container-id-2 div.sk-estimator input.sk-toggleable__control:checked~label.sk-toggleable__label {background-color: #d4ebff;}#sk-container-id-2 div.sk-label input.sk-toggleable__control:checked~label.sk-toggleable__label {background-color: #d4ebff;}#sk-container-id-2 input.sk-hidden--visually {border: 0;clip: rect(1px 1px 1px 1px);clip: rect(1px, 1px, 1px, 1px);height: 1px;margin: -1px;overflow: hidden;padding: 0;position: absolute;width: 1px;}#sk-container-id-2 div.sk-estimator {font-family: monospace;background-color: #f0f8ff;border: 1px dotted black;border-radius: 0.25em;box-sizing: border-box;margin-bottom: 0.5em;}#sk-container-id-2 div.sk-estimator:hover {background-color: #d4ebff;}#sk-container-id-2 div.sk-parallel-item::after {content: \"\";width: 100%;border-bottom: 1px solid gray;flex-grow: 1;}#sk-container-id-2 div.sk-label:hover label.sk-toggleable__label {background-color: #d4ebff;}#sk-container-id-2 div.sk-serial::before {content: \"\";position: absolute;border-left: 1px solid gray;box-sizing: border-box;top: 0;bottom: 0;left: 50%;z-index: 0;}#sk-container-id-2 div.sk-serial {display: flex;flex-direction: column;align-items: center;background-color: white;padding-right: 0.2em;padding-left: 0.2em;position: relative;}#sk-container-id-2 div.sk-item {position: relative;z-index: 1;}#sk-container-id-2 div.sk-parallel {display: flex;align-items: stretch;justify-content: center;background-color: white;position: relative;}#sk-container-id-2 div.sk-item::before, #sk-container-id-2 div.sk-parallel-item::before {content: \"\";position: absolute;border-left: 1px solid gray;box-sizing: border-box;top: 0;bottom: 0;left: 50%;z-index: -1;}#sk-container-id-2 div.sk-parallel-item {display: flex;flex-direction: column;z-index: 1;position: relative;background-color: white;}#sk-container-id-2 div.sk-parallel-item:first-child::after {align-self: flex-end;width: 50%;}#sk-container-id-2 div.sk-parallel-item:last-child::after {align-self: flex-start;width: 50%;}#sk-container-id-2 div.sk-parallel-item:only-child::after {width: 0;}#sk-container-id-2 div.sk-dashed-wrapped {border: 1px dashed gray;margin: 0 0.4em 0.5em 0.4em;box-sizing: border-box;padding-bottom: 0.4em;background-color: white;}#sk-container-id-2 div.sk-label label {font-family: monospace;font-weight: bold;display: inline-block;line-height: 1.2em;}#sk-container-id-2 div.sk-label-container {text-align: center;}#sk-container-id-2 div.sk-container {/* jupyter's `normalize.less` sets `[hidden] { display: none; }` but bootstrap.min.css set `[hidden] { display: none !important; }` so we also need the `!important` here to be able to override the default hidden behavior on the sphinx rendered scikit-learn.org. See: https://github.com/scikit-learn/scikit-learn/issues/21755 */display: inline-block !important;position: relative;}#sk-container-id-2 div.sk-text-repr-fallback {display: none;}</style><div id=\"sk-container-id-2\" class=\"sk-top-container\"><div class=\"sk-text-repr-fallback\"><pre>SimpleImputer()</pre><b>In a Jupyter environment, please rerun this cell to show the HTML representation or trust the notebook. <br />On GitHub, the HTML representation is unable to render, please try loading this page with nbviewer.org.</b></div><div class=\"sk-container\" hidden><div class=\"sk-item\"><div class=\"sk-estimator sk-toggleable\"><input class=\"sk-toggleable__control sk-hidden--visually\" id=\"sk-estimator-id-2\" type=\"checkbox\" checked><label for=\"sk-estimator-id-2\" class=\"sk-toggleable__label sk-toggleable__label-arrow\">SimpleImputer</label><div class=\"sk-toggleable__content\"><pre>SimpleImputer()</pre></div></div></div></div></div>"
      ],
      "text/plain": [
       "SimpleImputer()"
      ]
     },
     "execution_count": 73,
     "metadata": {},
     "output_type": "execute_result"
    }
   ],
   "source": [
    "impute_numdata=SimpleImputer(strategy='mean')\n",
    "impute_numdata.fit(x_train[num_cols_train])"
   ]
  },
  {
   "cell_type": "code",
   "execution_count": 74,
   "id": "2d746ccc",
   "metadata": {},
   "outputs": [
    {
     "data": {
      "text/plain": [
       "Income                           0\n",
       "Monthly.Premium.Auto             0\n",
       "Months.Since.Last.Claim          0\n",
       "Months.Since.Policy.Inception    0\n",
       "Number.of.Open.Complaints        0\n",
       "Number.of.Policies               0\n",
       "Total.Claim.Amount               0\n",
       "Vehicle.Size                     0\n",
       "dtype: int64"
      ]
     },
     "execution_count": 74,
     "metadata": {},
     "output_type": "execute_result"
    }
   ],
   "source": [
    "xtrain_numdata=pd.DataFrame(impute_numdata.transform(x_train[num_cols_train]),columns=num_cols_train)\n",
    "xtrain_numdata.isnull().sum()"
   ]
  },
  {
   "cell_type": "code",
   "execution_count": 75,
   "id": "84c865fb",
   "metadata": {
    "scrolled": true
   },
   "outputs": [
    {
     "data": {
      "text/plain": [
       "Income                           0\n",
       "Monthly.Premium.Auto             0\n",
       "Months.Since.Last.Claim          0\n",
       "Months.Since.Policy.Inception    0\n",
       "Number.of.Open.Complaints        0\n",
       "Number.of.Policies               0\n",
       "Total.Claim.Amount               0\n",
       "Vehicle.Size                     0\n",
       "dtype: int64"
      ]
     },
     "execution_count": 75,
     "metadata": {},
     "output_type": "execute_result"
    }
   ],
   "source": [
    "xtest_numdata=pd.DataFrame(impute_numdata.transform(x_test[num_cols_train]),columns=num_cols_train)\n",
    "xtest_numdata.isnull().sum()"
   ]
  },
  {
   "cell_type": "code",
   "execution_count": 76,
   "id": "525ab54f",
   "metadata": {},
   "outputs": [
    {
     "data": {
      "text/plain": [
       "Income                           0\n",
       "Monthly.Premium.Auto             0\n",
       "Months.Since.Last.Claim          0\n",
       "Months.Since.Policy.Inception    0\n",
       "Number.of.Open.Complaints        0\n",
       "Number.of.Policies               0\n",
       "Total.Claim.Amount               0\n",
       "Vehicle.Size                     0\n",
       "dtype: int64"
      ]
     },
     "execution_count": 76,
     "metadata": {},
     "output_type": "execute_result"
    }
   ],
   "source": [
    "test_numdata=pd.DataFrame(impute_numdata.transform(test[num_cols_test]),columns=num_cols_test)\n",
    "test_numdata.isnull().sum()"
   ]
  },
  {
   "cell_type": "markdown",
   "id": "927e4bd0",
   "metadata": {},
   "source": [
    "### Feature Selection for Num Data"
   ]
  },
  {
   "cell_type": "code",
   "execution_count": 77,
   "id": "d34c67e9",
   "metadata": {},
   "outputs": [
    {
     "data": {
      "text/html": [
       "<div>\n",
       "<style scoped>\n",
       "    .dataframe tbody tr th:only-of-type {\n",
       "        vertical-align: middle;\n",
       "    }\n",
       "\n",
       "    .dataframe tbody tr th {\n",
       "        vertical-align: top;\n",
       "    }\n",
       "\n",
       "    .dataframe thead th {\n",
       "        text-align: right;\n",
       "    }\n",
       "</style>\n",
       "<table border=\"1\" class=\"dataframe\">\n",
       "  <thead>\n",
       "    <tr style=\"text-align: right;\">\n",
       "      <th></th>\n",
       "      <th>Income</th>\n",
       "      <th>Monthly.Premium.Auto</th>\n",
       "      <th>Months.Since.Last.Claim</th>\n",
       "      <th>Months.Since.Policy.Inception</th>\n",
       "      <th>Number.of.Open.Complaints</th>\n",
       "      <th>Number.of.Policies</th>\n",
       "      <th>Total.Claim.Amount</th>\n",
       "      <th>Vehicle.Size</th>\n",
       "    </tr>\n",
       "  </thead>\n",
       "  <tbody>\n",
       "    <tr>\n",
       "      <th>0</th>\n",
       "      <td>43478.0</td>\n",
       "      <td>82.0</td>\n",
       "      <td>18.0</td>\n",
       "      <td>34.0</td>\n",
       "      <td>0.0</td>\n",
       "      <td>7.0</td>\n",
       "      <td>582.690575</td>\n",
       "      <td>2.0</td>\n",
       "    </tr>\n",
       "    <tr>\n",
       "      <th>1</th>\n",
       "      <td>0.0</td>\n",
       "      <td>128.0</td>\n",
       "      <td>15.0</td>\n",
       "      <td>37.0</td>\n",
       "      <td>0.0</td>\n",
       "      <td>2.0</td>\n",
       "      <td>1345.317161</td>\n",
       "      <td>2.0</td>\n",
       "    </tr>\n",
       "    <tr>\n",
       "      <th>2</th>\n",
       "      <td>34986.0</td>\n",
       "      <td>91.0</td>\n",
       "      <td>7.0</td>\n",
       "      <td>75.0</td>\n",
       "      <td>0.0</td>\n",
       "      <td>1.0</td>\n",
       "      <td>73.839514</td>\n",
       "      <td>2.0</td>\n",
       "    </tr>\n",
       "    <tr>\n",
       "      <th>3</th>\n",
       "      <td>19240.0</td>\n",
       "      <td>99.0</td>\n",
       "      <td>25.0</td>\n",
       "      <td>69.0</td>\n",
       "      <td>0.0</td>\n",
       "      <td>1.0</td>\n",
       "      <td>475.200000</td>\n",
       "      <td>3.0</td>\n",
       "    </tr>\n",
       "    <tr>\n",
       "      <th>4</th>\n",
       "      <td>73758.0</td>\n",
       "      <td>74.0</td>\n",
       "      <td>27.0</td>\n",
       "      <td>3.0</td>\n",
       "      <td>0.0</td>\n",
       "      <td>3.0</td>\n",
       "      <td>99.509191</td>\n",
       "      <td>3.0</td>\n",
       "    </tr>\n",
       "  </tbody>\n",
       "</table>\n",
       "</div>"
      ],
      "text/plain": [
       "    Income  Monthly.Premium.Auto  Months.Since.Last.Claim  \\\n",
       "0  43478.0                  82.0                     18.0   \n",
       "1      0.0                 128.0                     15.0   \n",
       "2  34986.0                  91.0                      7.0   \n",
       "3  19240.0                  99.0                     25.0   \n",
       "4  73758.0                  74.0                     27.0   \n",
       "\n",
       "   Months.Since.Policy.Inception  Number.of.Open.Complaints  \\\n",
       "0                           34.0                        0.0   \n",
       "1                           37.0                        0.0   \n",
       "2                           75.0                        0.0   \n",
       "3                           69.0                        0.0   \n",
       "4                            3.0                        0.0   \n",
       "\n",
       "   Number.of.Policies  Total.Claim.Amount  Vehicle.Size  \n",
       "0                 7.0          582.690575           2.0  \n",
       "1                 2.0         1345.317161           2.0  \n",
       "2                 1.0           73.839514           2.0  \n",
       "3                 1.0          475.200000           3.0  \n",
       "4                 3.0           99.509191           3.0  "
      ]
     },
     "execution_count": 77,
     "metadata": {},
     "output_type": "execute_result"
    }
   ],
   "source": [
    "xtrain_numdata.head()"
   ]
  },
  {
   "cell_type": "markdown",
   "id": "e98d9a5b",
   "metadata": {},
   "source": [
    "## seeing correlation using heatmap"
   ]
  },
  {
   "cell_type": "code",
   "execution_count": 78,
   "id": "9598c26c",
   "metadata": {},
   "outputs": [
    {
     "data": {
      "text/plain": [
       "<AxesSubplot: >"
      ]
     },
     "execution_count": 78,
     "metadata": {},
     "output_type": "execute_result"
    },
    {
     "data": {
      "image/png": "[encoded data removed]",
      "text/plain": [
       "<Figure size 432x288 with 2 Axes>"
      ]
     },
     "metadata": {},
     "output_type": "display_data"
    }
   ],
   "source": [
    "sns.heatmap(x_train[num_cols_train].corr(),annot=True,cmap='Greens')"
   ]
  },
  {
   "cell_type": "code",
   "execution_count": 79,
   "id": "d4152b07",
   "metadata": {},
   "outputs": [],
   "source": [
    "## independent columns are not higghly correlated"
   ]
  },
  {
   "cell_type": "markdown",
   "id": "5ca7ccd1",
   "metadata": {},
   "source": [
    "## Feature selection Using Variance threshold"
   ]
  },
  {
   "cell_type": "code",
   "execution_count": 80,
   "id": "7e1d77e6",
   "metadata": {},
   "outputs": [
    {
     "data": {
      "text/html": [
       "<style>#sk-container-id-3 {color: black;background-color: white;}#sk-container-id-3 pre{padding: 0;}#sk-container-id-3 div.sk-toggleable {background-color: white;}#sk-container-id-3 label.sk-toggleable__label {cursor: pointer;display: block;width: 100%;margin-bottom: 0;padding: 0.3em;box-sizing: border-box;text-align: center;}#sk-container-id-3 label.sk-toggleable__label-arrow:before {content: \"▸\";float: left;margin-right: 0.25em;color: #696969;}#sk-container-id-3 label.sk-toggleable__label-arrow:hover:before {color: black;}#sk-container-id-3 div.sk-estimator:hover label.sk-toggleable__label-arrow:before {color: black;}#sk-container-id-3 div.sk-toggleable__content {max-height: 0;max-width: 0;overflow: hidden;text-align: left;background-color: #f0f8ff;}#sk-container-id-3 div.sk-toggleable__content pre {margin: 0.2em;color: black;border-radius: 0.25em;background-color: #f0f8ff;}#sk-container-id-3 input.sk-toggleable__control:checked~div.sk-toggleable__content {max-height: 200px;max-width: 100%;overflow: auto;}#sk-container-id-3 input.sk-toggleable__control:checked~label.sk-toggleable__label-arrow:before {content: \"▾\";}#sk-container-id-3 div.sk-estimator input.sk-toggleable__control:checked~label.sk-toggleable__label {background-color: #d4ebff;}#sk-container-id-3 div.sk-label input.sk-toggleable__control:checked~label.sk-toggleable__label {background-color: #d4ebff;}#sk-container-id-3 input.sk-hidden--visually {border: 0;clip: rect(1px 1px 1px 1px);clip: rect(1px, 1px, 1px, 1px);height: 1px;margin: -1px;overflow: hidden;padding: 0;position: absolute;width: 1px;}#sk-container-id-3 div.sk-estimator {font-family: monospace;background-color: #f0f8ff;border: 1px dotted black;border-radius: 0.25em;box-sizing: border-box;margin-bottom: 0.5em;}#sk-container-id-3 div.sk-estimator:hover {background-color: #d4ebff;}#sk-container-id-3 div.sk-parallel-item::after {content: \"\";width: 100%;border-bottom: 1px solid gray;flex-grow: 1;}#sk-container-id-3 div.sk-label:hover label.sk-toggleable__label {background-color: #d4ebff;}#sk-container-id-3 div.sk-serial::before {content: \"\";position: absolute;border-left: 1px solid gray;box-sizing: border-box;top: 0;bottom: 0;left: 50%;z-index: 0;}#sk-container-id-3 div.sk-serial {display: flex;flex-direction: column;align-items: center;background-color: white;padding-right: 0.2em;padding-left: 0.2em;position: relative;}#sk-container-id-3 div.sk-item {position: relative;z-index: 1;}#sk-container-id-3 div.sk-parallel {display: flex;align-items: stretch;justify-content: center;background-color: white;position: relative;}#sk-container-id-3 div.sk-item::before, #sk-container-id-3 div.sk-parallel-item::before {content: \"\";position: absolute;border-left: 1px solid gray;box-sizing: border-box;top: 0;bottom: 0;left: 50%;z-index: -1;}#sk-container-id-3 div.sk-parallel-item {display: flex;flex-direction: column;z-index: 1;position: relative;background-color: white;}#sk-container-id-3 div.sk-parallel-item:first-child::after {align-self: flex-end;width: 50%;}#sk-container-id-3 div.sk-parallel-item:last-child::after {align-self: flex-start;width: 50%;}#sk-container-id-3 div.sk-parallel-item:only-child::after {width: 0;}#sk-container-id-3 div.sk-dashed-wrapped {border: 1px dashed gray;margin: 0 0.4em 0.5em 0.4em;box-sizing: border-box;padding-bottom: 0.4em;background-color: white;}#sk-container-id-3 div.sk-label label {font-family: monospace;font-weight: bold;display: inline-block;line-height: 1.2em;}#sk-container-id-3 div.sk-label-container {text-align: center;}#sk-container-id-3 div.sk-container {/* jupyter's `normalize.less` sets `[hidden] { display: none; }` but bootstrap.min.css set `[hidden] { display: none !important; }` so we also need the `!important` here to be able to override the default hidden behavior on the sphinx rendered scikit-learn.org. See: https://github.com/scikit-learn/scikit-learn/issues/21755 */display: inline-block !important;position: relative;}#sk-container-id-3 div.sk-text-repr-fallback {display: none;}</style><div id=\"sk-container-id-3\" class=\"sk-top-container\"><div class=\"sk-text-repr-fallback\"><pre>VarianceThreshold(threshold=0)</pre><b>In a Jupyter environment, please rerun this cell to show the HTML representation or trust the notebook. <br />On GitHub, the HTML representation is unable to render, please try loading this page with nbviewer.org.</b></div><div class=\"sk-container\" hidden><div class=\"sk-item\"><div class=\"sk-estimator sk-toggleable\"><input class=\"sk-toggleable__control sk-hidden--visually\" id=\"sk-estimator-id-3\" type=\"checkbox\" checked><label for=\"sk-estimator-id-3\" class=\"sk-toggleable__label sk-toggleable__label-arrow\">VarianceThreshold</label><div class=\"sk-toggleable__content\"><pre>VarianceThreshold(threshold=0)</pre></div></div></div></div></div>"
      ],
      "text/plain": [
       "VarianceThreshold(threshold=0)"
      ]
     },
     "execution_count": 80,
     "metadata": {},
     "output_type": "execute_result"
    }
   ],
   "source": [
    "from sklearn.feature_selection import VarianceThreshold\n",
    "var_th=VarianceThreshold(threshold=0)\n",
    "var_th.fit(xtrain_numdata)"
   ]
  },
  {
   "cell_type": "code",
   "execution_count": 81,
   "id": "e8d7d3f4",
   "metadata": {},
   "outputs": [
    {
     "data": {
      "text/plain": [
       "array([ True,  True,  True,  True,  True,  True,  True,  True])"
      ]
     },
     "execution_count": 81,
     "metadata": {},
     "output_type": "execute_result"
    }
   ],
   "source": [
    "var_th.get_support()"
   ]
  },
  {
   "cell_type": "code",
   "execution_count": 82,
   "id": "e7801ea5",
   "metadata": {},
   "outputs": [],
   "source": [
    "##No costant columns"
   ]
  },
  {
   "cell_type": "code",
   "execution_count": null,
   "id": "8a70356c",
   "metadata": {},
   "outputs": [],
   "source": []
  },
  {
   "cell_type": "markdown",
   "id": "9f92f891",
   "metadata": {},
   "source": [
    "## Scaling on Num data"
   ]
  },
  {
   "cell_type": "code",
   "execution_count": 83,
   "id": "7e6def85",
   "metadata": {},
   "outputs": [
    {
     "data": {
      "text/html": [
       "<style>#sk-container-id-4 {color: black;background-color: white;}#sk-container-id-4 pre{padding: 0;}#sk-container-id-4 div.sk-toggleable {background-color: white;}#sk-container-id-4 label.sk-toggleable__label {cursor: pointer;display: block;width: 100%;margin-bottom: 0;padding: 0.3em;box-sizing: border-box;text-align: center;}#sk-container-id-4 label.sk-toggleable__label-arrow:before {content: \"▸\";float: left;margin-right: 0.25em;color: #696969;}#sk-container-id-4 label.sk-toggleable__label-arrow:hover:before {color: black;}#sk-container-id-4 div.sk-estimator:hover label.sk-toggleable__label-arrow:before {color: black;}#sk-container-id-4 div.sk-toggleable__content {max-height: 0;max-width: 0;overflow: hidden;text-align: left;background-color: #f0f8ff;}#sk-container-id-4 div.sk-toggleable__content pre {margin: 0.2em;color: black;border-radius: 0.25em;background-color: #f0f8ff;}#sk-container-id-4 input.sk-toggleable__control:checked~div.sk-toggleable__content {max-height: 200px;max-width: 100%;overflow: auto;}#sk-container-id-4 input.sk-toggleable__control:checked~label.sk-toggleable__label-arrow:before {content: \"▾\";}#sk-container-id-4 div.sk-estimator input.sk-toggleable__control:checked~label.sk-toggleable__label {background-color: #d4ebff;}#sk-container-id-4 div.sk-label input.sk-toggleable__control:checked~label.sk-toggleable__label {background-color: #d4ebff;}#sk-container-id-4 input.sk-hidden--visually {border: 0;clip: rect(1px 1px 1px 1px);clip: rect(1px, 1px, 1px, 1px);height: 1px;margin: -1px;overflow: hidden;padding: 0;position: absolute;width: 1px;}#sk-container-id-4 div.sk-estimator {font-family: monospace;background-color: #f0f8ff;border: 1px dotted black;border-radius: 0.25em;box-sizing: border-box;margin-bottom: 0.5em;}#sk-container-id-4 div.sk-estimator:hover {background-color: #d4ebff;}#sk-container-id-4 div.sk-parallel-item::after {content: \"\";width: 100%;border-bottom: 1px solid gray;flex-grow: 1;}#sk-container-id-4 div.sk-label:hover label.sk-toggleable__label {background-color: #d4ebff;}#sk-container-id-4 div.sk-serial::before {content: \"\";position: absolute;border-left: 1px solid gray;box-sizing: border-box;top: 0;bottom: 0;left: 50%;z-index: 0;}#sk-container-id-4 div.sk-serial {display: flex;flex-direction: column;align-items: center;background-color: white;padding-right: 0.2em;padding-left: 0.2em;position: relative;}#sk-container-id-4 div.sk-item {position: relative;z-index: 1;}#sk-container-id-4 div.sk-parallel {display: flex;align-items: stretch;justify-content: center;background-color: white;position: relative;}#sk-container-id-4 div.sk-item::before, #sk-container-id-4 div.sk-parallel-item::before {content: \"\";position: absolute;border-left: 1px solid gray;box-sizing: border-box;top: 0;bottom: 0;left: 50%;z-index: -1;}#sk-container-id-4 div.sk-parallel-item {display: flex;flex-direction: column;z-index: 1;position: relative;background-color: white;}#sk-container-id-4 div.sk-parallel-item:first-child::after {align-self: flex-end;width: 50%;}#sk-container-id-4 div.sk-parallel-item:last-child::after {align-self: flex-start;width: 50%;}#sk-container-id-4 div.sk-parallel-item:only-child::after {width: 0;}#sk-container-id-4 div.sk-dashed-wrapped {border: 1px dashed gray;margin: 0 0.4em 0.5em 0.4em;box-sizing: border-box;padding-bottom: 0.4em;background-color: white;}#sk-container-id-4 div.sk-label label {font-family: monospace;font-weight: bold;display: inline-block;line-height: 1.2em;}#sk-container-id-4 div.sk-label-container {text-align: center;}#sk-container-id-4 div.sk-container {/* jupyter's `normalize.less` sets `[hidden] { display: none; }` but bootstrap.min.css set `[hidden] { display: none !important; }` so we also need the `!important` here to be able to override the default hidden behavior on the sphinx rendered scikit-learn.org. See: https://github.com/scikit-learn/scikit-learn/issues/21755 */display: inline-block !important;position: relative;}#sk-container-id-4 div.sk-text-repr-fallback {display: none;}</style><div id=\"sk-container-id-4\" class=\"sk-top-container\"><div class=\"sk-text-repr-fallback\"><pre>StandardScaler()</pre><b>In a Jupyter environment, please rerun this cell to show the HTML representation or trust the notebook. <br />On GitHub, the HTML representation is unable to render, please try loading this page with nbviewer.org.</b></div><div class=\"sk-container\" hidden><div class=\"sk-item\"><div class=\"sk-estimator sk-toggleable\"><input class=\"sk-toggleable__control sk-hidden--visually\" id=\"sk-estimator-id-4\" type=\"checkbox\" checked><label for=\"sk-estimator-id-4\" class=\"sk-toggleable__label sk-toggleable__label-arrow\">StandardScaler</label><div class=\"sk-toggleable__content\"><pre>StandardScaler()</pre></div></div></div></div></div>"
      ],
      "text/plain": [
       "StandardScaler()"
      ]
     },
     "execution_count": 83,
     "metadata": {},
     "output_type": "execute_result"
    }
   ],
   "source": [
    "from sklearn.preprocessing import StandardScaler\n",
    "scale=StandardScaler()\n",
    "scale.fit(xtrain_numdata)"
   ]
  },
  {
   "cell_type": "code",
   "execution_count": 84,
   "id": "e4351622",
   "metadata": {},
   "outputs": [
    {
     "data": {
      "text/plain": [
       "Income                           0\n",
       "Monthly.Premium.Auto             0\n",
       "Months.Since.Last.Claim          0\n",
       "Months.Since.Policy.Inception    0\n",
       "Number.of.Open.Complaints        0\n",
       "Number.of.Policies               0\n",
       "Total.Claim.Amount               0\n",
       "Vehicle.Size                     0\n",
       "dtype: int64"
      ]
     },
     "execution_count": 84,
     "metadata": {},
     "output_type": "execute_result"
    }
   ],
   "source": [
    "xtrain_numdata_scale=pd.DataFrame(scale.transform(xtrain_numdata),columns=num_cols_train)\n",
    "xtrain_numdata_scale.isnull().sum()"
   ]
  },
  {
   "cell_type": "code",
   "execution_count": 85,
   "id": "cf3bd6b1",
   "metadata": {
    "scrolled": true
   },
   "outputs": [
    {
     "data": {
      "text/html": [
       "<div>\n",
       "<style scoped>\n",
       "    .dataframe tbody tr th:only-of-type {\n",
       "        vertical-align: middle;\n",
       "    }\n",
       "\n",
       "    .dataframe tbody tr th {\n",
       "        vertical-align: top;\n",
       "    }\n",
       "\n",
       "    .dataframe thead th {\n",
       "        text-align: right;\n",
       "    }\n",
       "</style>\n",
       "<table border=\"1\" class=\"dataframe\">\n",
       "  <thead>\n",
       "    <tr style=\"text-align: right;\">\n",
       "      <th></th>\n",
       "      <th>Income</th>\n",
       "      <th>Monthly.Premium.Auto</th>\n",
       "      <th>Months.Since.Last.Claim</th>\n",
       "      <th>Months.Since.Policy.Inception</th>\n",
       "      <th>Number.of.Open.Complaints</th>\n",
       "      <th>Number.of.Policies</th>\n",
       "      <th>Total.Claim.Amount</th>\n",
       "      <th>Vehicle.Size</th>\n",
       "    </tr>\n",
       "  </thead>\n",
       "  <tbody>\n",
       "    <tr>\n",
       "      <th>0</th>\n",
       "      <td>-0.503595</td>\n",
       "      <td>-9.479714e-01</td>\n",
       "      <td>1.872936</td>\n",
       "      <td>1.332142</td>\n",
       "      <td>-0.444433</td>\n",
       "      <td>-0.829176</td>\n",
       "      <td>-0.477885</td>\n",
       "      <td>1.719903</td>\n",
       "    </tr>\n",
       "    <tr>\n",
       "      <th>1</th>\n",
       "      <td>-0.527591</td>\n",
       "      <td>4.265857e-16</td>\n",
       "      <td>-1.520483</td>\n",
       "      <td>0.398593</td>\n",
       "      <td>-0.444433</td>\n",
       "      <td>-0.410015</td>\n",
       "      <td>-0.615433</td>\n",
       "      <td>-0.155760</td>\n",
       "    </tr>\n",
       "    <tr>\n",
       "      <th>2</th>\n",
       "      <td>1.618464</td>\n",
       "      <td>7.330533e-01</td>\n",
       "      <td>1.174291</td>\n",
       "      <td>1.368048</td>\n",
       "      <td>-0.444433</td>\n",
       "      <td>-0.410015</td>\n",
       "      <td>-0.519409</td>\n",
       "      <td>-2.031424</td>\n",
       "    </tr>\n",
       "    <tr>\n",
       "      <th>3</th>\n",
       "      <td>-0.179838</td>\n",
       "      <td>-7.078251e-01</td>\n",
       "      <td>-0.322806</td>\n",
       "      <td>0.362687</td>\n",
       "      <td>-0.444433</td>\n",
       "      <td>-0.410015</td>\n",
       "      <td>-0.346989</td>\n",
       "      <td>1.719903</td>\n",
       "    </tr>\n",
       "    <tr>\n",
       "      <th>4</th>\n",
       "      <td>-0.211545</td>\n",
       "      <td>-4.742250e-02</td>\n",
       "      <td>0.475646</td>\n",
       "      <td>-1.037637</td>\n",
       "      <td>-0.444433</td>\n",
       "      <td>-0.410015</td>\n",
       "      <td>0.012977</td>\n",
       "      <td>1.719903</td>\n",
       "    </tr>\n",
       "  </tbody>\n",
       "</table>\n",
       "</div>"
      ],
      "text/plain": [
       "     Income  Monthly.Premium.Auto  Months.Since.Last.Claim  \\\n",
       "0 -0.503595         -9.479714e-01                 1.872936   \n",
       "1 -0.527591          4.265857e-16                -1.520483   \n",
       "2  1.618464          7.330533e-01                 1.174291   \n",
       "3 -0.179838         -7.078251e-01                -0.322806   \n",
       "4 -0.211545         -4.742250e-02                 0.475646   \n",
       "\n",
       "   Months.Since.Policy.Inception  Number.of.Open.Complaints  \\\n",
       "0                       1.332142                  -0.444433   \n",
       "1                       0.398593                  -0.444433   \n",
       "2                       1.368048                  -0.444433   \n",
       "3                       0.362687                  -0.444433   \n",
       "4                      -1.037637                  -0.444433   \n",
       "\n",
       "   Number.of.Policies  Total.Claim.Amount  Vehicle.Size  \n",
       "0           -0.829176           -0.477885      1.719903  \n",
       "1           -0.410015           -0.615433     -0.155760  \n",
       "2           -0.410015           -0.519409     -2.031424  \n",
       "3           -0.410015           -0.346989      1.719903  \n",
       "4           -0.410015            0.012977      1.719903  "
      ]
     },
     "execution_count": 85,
     "metadata": {},
     "output_type": "execute_result"
    }
   ],
   "source": [
    "xtest_numdata_scale=pd.DataFrame(scale.transform(xtest_numdata),columns=num_cols_train)\n",
    "xtest_numdata_scale.head()"
   ]
  },
  {
   "cell_type": "code",
   "execution_count": 86,
   "id": "c3eca6ac",
   "metadata": {},
   "outputs": [
    {
     "data": {
      "text/html": [
       "<div>\n",
       "<style scoped>\n",
       "    .dataframe tbody tr th:only-of-type {\n",
       "        vertical-align: middle;\n",
       "    }\n",
       "\n",
       "    .dataframe tbody tr th {\n",
       "        vertical-align: top;\n",
       "    }\n",
       "\n",
       "    .dataframe thead th {\n",
       "        text-align: right;\n",
       "    }\n",
       "</style>\n",
       "<table border=\"1\" class=\"dataframe\">\n",
       "  <thead>\n",
       "    <tr style=\"text-align: right;\">\n",
       "      <th></th>\n",
       "      <th>Income</th>\n",
       "      <th>Monthly.Premium.Auto</th>\n",
       "      <th>Months.Since.Last.Claim</th>\n",
       "      <th>Months.Since.Policy.Inception</th>\n",
       "      <th>Number.of.Open.Complaints</th>\n",
       "      <th>Number.of.Policies</th>\n",
       "      <th>Total.Claim.Amount</th>\n",
       "      <th>Vehicle.Size</th>\n",
       "    </tr>\n",
       "  </thead>\n",
       "  <tbody>\n",
       "    <tr>\n",
       "      <th>0</th>\n",
       "      <td>0.211205</td>\n",
       "      <td>-0.617770</td>\n",
       "      <td>-0.322806</td>\n",
       "      <td>-0.139993</td>\n",
       "      <td>-0.444433</td>\n",
       "      <td>-0.829176</td>\n",
       "      <td>-1.021478</td>\n",
       "      <td>-0.15576</td>\n",
       "    </tr>\n",
       "    <tr>\n",
       "      <th>1</th>\n",
       "      <td>-0.286047</td>\n",
       "      <td>-0.017404</td>\n",
       "      <td>0.176226</td>\n",
       "      <td>-1.468505</td>\n",
       "      <td>-0.444433</td>\n",
       "      <td>2.104951</td>\n",
       "      <td>-0.041809</td>\n",
       "      <td>-0.15576</td>\n",
       "    </tr>\n",
       "    <tr>\n",
       "      <th>2</th>\n",
       "      <td>1.309700</td>\n",
       "      <td>0.492907</td>\n",
       "      <td>-0.622225</td>\n",
       "      <td>1.224425</td>\n",
       "      <td>1.883055</td>\n",
       "      <td>0.009146</td>\n",
       "      <td>0.116705</td>\n",
       "      <td>-0.15576</td>\n",
       "    </tr>\n",
       "    <tr>\n",
       "      <th>3</th>\n",
       "      <td>-0.425486</td>\n",
       "      <td>-0.887935</td>\n",
       "      <td>-0.322806</td>\n",
       "      <td>0.075441</td>\n",
       "      <td>0.719311</td>\n",
       "      <td>-0.410015</td>\n",
       "      <td>-1.346028</td>\n",
       "      <td>-0.15576</td>\n",
       "    </tr>\n",
       "    <tr>\n",
       "      <th>4</th>\n",
       "      <td>-0.783266</td>\n",
       "      <td>-0.437660</td>\n",
       "      <td>-0.722032</td>\n",
       "      <td>0.039536</td>\n",
       "      <td>-0.444433</td>\n",
       "      <td>-0.829176</td>\n",
       "      <td>-0.199730</td>\n",
       "      <td>-0.15576</td>\n",
       "    </tr>\n",
       "  </tbody>\n",
       "</table>\n",
       "</div>"
      ],
      "text/plain": [
       "     Income  Monthly.Premium.Auto  Months.Since.Last.Claim  \\\n",
       "0  0.211205             -0.617770                -0.322806   \n",
       "1 -0.286047             -0.017404                 0.176226   \n",
       "2  1.309700              0.492907                -0.622225   \n",
       "3 -0.425486             -0.887935                -0.322806   \n",
       "4 -0.783266             -0.437660                -0.722032   \n",
       "\n",
       "   Months.Since.Policy.Inception  Number.of.Open.Complaints  \\\n",
       "0                      -0.139993                  -0.444433   \n",
       "1                      -1.468505                  -0.444433   \n",
       "2                       1.224425                   1.883055   \n",
       "3                       0.075441                   0.719311   \n",
       "4                       0.039536                  -0.444433   \n",
       "\n",
       "   Number.of.Policies  Total.Claim.Amount  Vehicle.Size  \n",
       "0           -0.829176           -1.021478      -0.15576  \n",
       "1            2.104951           -0.041809      -0.15576  \n",
       "2            0.009146            0.116705      -0.15576  \n",
       "3           -0.410015           -1.346028      -0.15576  \n",
       "4           -0.829176           -0.199730      -0.15576  "
      ]
     },
     "execution_count": 86,
     "metadata": {},
     "output_type": "execute_result"
    }
   ],
   "source": [
    "test_numdata_scale=pd.DataFrame(scale.transform(test_numdata),columns=num_cols_test)\n",
    "test_numdata_scale.head()"
   ]
  },
  {
   "cell_type": "code",
   "execution_count": null,
   "id": "ed545e88",
   "metadata": {},
   "outputs": [],
   "source": []
  },
  {
   "cell_type": "markdown",
   "id": "fa3d5063",
   "metadata": {},
   "source": [
    "### Dummification on categorical data using OneHot encoder"
   ]
  },
  {
   "cell_type": "code",
   "execution_count": 87,
   "id": "b0596ecd",
   "metadata": {},
   "outputs": [
    {
     "name": "stdout",
     "output_type": "stream",
     "text": [
      "<class 'pandas.core.frame.DataFrame'>\n",
      "RangeIndex: 7844 entries, 0 to 7843\n",
      "Data columns (total 12 columns):\n",
      " #   Column            Non-Null Count  Dtype \n",
      "---  ------            --------------  ----- \n",
      " 0   Coverage          7844 non-null   object\n",
      " 1   Education         7844 non-null   object\n",
      " 2   EmploymentStatus  7844 non-null   object\n",
      " 3   Gender            7844 non-null   object\n",
      " 4   Location.Geo      7844 non-null   object\n",
      " 5   Location.Code     7844 non-null   object\n",
      " 6   Marital.Status    7844 non-null   object\n",
      " 7   Policy.Type       7844 non-null   object\n",
      " 8   Policy            7844 non-null   object\n",
      " 9   Renew.Offer.Type  7844 non-null   object\n",
      " 10  Sales.Channel     7844 non-null   object\n",
      " 11  Vehicle.Class     7844 non-null   object\n",
      "dtypes: object(12)\n",
      "memory usage: 735.5+ KB\n"
     ]
    },
    {
     "data": {
      "text/html": [
       "<div>\n",
       "<style scoped>\n",
       "    .dataframe tbody tr th:only-of-type {\n",
       "        vertical-align: middle;\n",
       "    }\n",
       "\n",
       "    .dataframe tbody tr th {\n",
       "        vertical-align: top;\n",
       "    }\n",
       "\n",
       "    .dataframe thead th {\n",
       "        text-align: right;\n",
       "    }\n",
       "</style>\n",
       "<table border=\"1\" class=\"dataframe\">\n",
       "  <thead>\n",
       "    <tr style=\"text-align: right;\">\n",
       "      <th></th>\n",
       "      <th>Coverage</th>\n",
       "      <th>Education</th>\n",
       "      <th>EmploymentStatus</th>\n",
       "      <th>Gender</th>\n",
       "      <th>Location.Geo</th>\n",
       "      <th>Location.Code</th>\n",
       "      <th>Marital.Status</th>\n",
       "      <th>Policy.Type</th>\n",
       "      <th>Policy</th>\n",
       "      <th>Renew.Offer.Type</th>\n",
       "      <th>Sales.Channel</th>\n",
       "      <th>Vehicle.Class</th>\n",
       "    </tr>\n",
       "  </thead>\n",
       "  <tbody>\n",
       "    <tr>\n",
       "      <th>0</th>\n",
       "      <td>Extended</td>\n",
       "      <td>Bachelor</td>\n",
       "      <td>Employed</td>\n",
       "      <td>M</td>\n",
       "      <td>18.5,72.8</td>\n",
       "      <td>Suburban</td>\n",
       "      <td>Married</td>\n",
       "      <td>Personal Auto</td>\n",
       "      <td>Personal L3</td>\n",
       "      <td>Offer2</td>\n",
       "      <td>Call Center</td>\n",
       "      <td>Four-Door Car</td>\n",
       "    </tr>\n",
       "    <tr>\n",
       "      <th>1</th>\n",
       "      <td>Extended</td>\n",
       "      <td>Bachelor</td>\n",
       "      <td>Unemployed</td>\n",
       "      <td>M</td>\n",
       "      <td>18.3,73.3</td>\n",
       "      <td>Suburban</td>\n",
       "      <td>Single</td>\n",
       "      <td>Personal Auto</td>\n",
       "      <td>Personal L2</td>\n",
       "      <td>Offer1</td>\n",
       "      <td>Agent</td>\n",
       "      <td>SUV</td>\n",
       "    </tr>\n",
       "    <tr>\n",
       "      <th>2</th>\n",
       "      <td>Extended</td>\n",
       "      <td>Bachelor</td>\n",
       "      <td>Employed</td>\n",
       "      <td>F</td>\n",
       "      <td>18.6,72.8</td>\n",
       "      <td>Rural</td>\n",
       "      <td>Married</td>\n",
       "      <td>Corporate Auto</td>\n",
       "      <td>Corporate L3</td>\n",
       "      <td>Offer4</td>\n",
       "      <td>Web</td>\n",
       "      <td>Four-Door Car</td>\n",
       "    </tr>\n",
       "    <tr>\n",
       "      <th>3</th>\n",
       "      <td>Extended</td>\n",
       "      <td>Bachelor</td>\n",
       "      <td>Disabled</td>\n",
       "      <td>F</td>\n",
       "      <td>20.2,73.9</td>\n",
       "      <td>Suburban</td>\n",
       "      <td>Married</td>\n",
       "      <td>Personal Auto</td>\n",
       "      <td>Personal L2</td>\n",
       "      <td>Offer3</td>\n",
       "      <td>Call Center</td>\n",
       "      <td>Four-Door Car</td>\n",
       "    </tr>\n",
       "    <tr>\n",
       "      <th>4</th>\n",
       "      <td>Basic</td>\n",
       "      <td>High School or Below</td>\n",
       "      <td>Employed</td>\n",
       "      <td>M</td>\n",
       "      <td>28.4,77.6</td>\n",
       "      <td>Rural</td>\n",
       "      <td>Divorced</td>\n",
       "      <td>Personal Auto</td>\n",
       "      <td>Personal L1</td>\n",
       "      <td>Offer1</td>\n",
       "      <td>Branch</td>\n",
       "      <td>Four-Door Car</td>\n",
       "    </tr>\n",
       "  </tbody>\n",
       "</table>\n",
       "</div>"
      ],
      "text/plain": [
       "   Coverage             Education EmploymentStatus Gender Location.Geo  \\\n",
       "0  Extended              Bachelor         Employed      M    18.5,72.8   \n",
       "1  Extended              Bachelor       Unemployed      M    18.3,73.3   \n",
       "2  Extended              Bachelor         Employed      F    18.6,72.8   \n",
       "3  Extended              Bachelor         Disabled      F    20.2,73.9   \n",
       "4     Basic  High School or Below         Employed      M    28.4,77.6   \n",
       "\n",
       "  Location.Code Marital.Status     Policy.Type        Policy Renew.Offer.Type  \\\n",
       "0      Suburban        Married   Personal Auto   Personal L3           Offer2   \n",
       "1      Suburban         Single   Personal Auto   Personal L2           Offer1   \n",
       "2         Rural        Married  Corporate Auto  Corporate L3           Offer4   \n",
       "3      Suburban        Married   Personal Auto   Personal L2           Offer3   \n",
       "4         Rural       Divorced   Personal Auto   Personal L1           Offer1   \n",
       "\n",
       "  Sales.Channel  Vehicle.Class  \n",
       "0   Call Center  Four-Door Car  \n",
       "1         Agent            SUV  \n",
       "2           Web  Four-Door Car  \n",
       "3   Call Center  Four-Door Car  \n",
       "4        Branch  Four-Door Car  "
      ]
     },
     "execution_count": 87,
     "metadata": {},
     "output_type": "execute_result"
    }
   ],
   "source": [
    "xtrain_catdata.info()\n",
    "xtrain_catdata.head()\n"
   ]
  },
  {
   "cell_type": "code",
   "execution_count": 88,
   "id": "1535173d",
   "metadata": {
    "scrolled": true
   },
   "outputs": [
    {
     "name": "stdout",
     "output_type": "stream",
     "text": [
      "<class 'pandas.core.frame.DataFrame'>\n",
      "RangeIndex: 1962 entries, 0 to 1961\n",
      "Data columns (total 12 columns):\n",
      " #   Column            Non-Null Count  Dtype \n",
      "---  ------            --------------  ----- \n",
      " 0   Coverage          1962 non-null   object\n",
      " 1   Education         1962 non-null   object\n",
      " 2   EmploymentStatus  1962 non-null   object\n",
      " 3   Gender            1962 non-null   object\n",
      " 4   Location.Geo      1962 non-null   object\n",
      " 5   Location.Code     1962 non-null   object\n",
      " 6   Marital.Status    1962 non-null   object\n",
      " 7   Policy.Type       1962 non-null   object\n",
      " 8   Policy            1962 non-null   object\n",
      " 9   Renew.Offer.Type  1962 non-null   object\n",
      " 10  Sales.Channel     1962 non-null   object\n",
      " 11  Vehicle.Class     1962 non-null   object\n",
      "dtypes: object(12)\n",
      "memory usage: 184.1+ KB\n"
     ]
    },
    {
     "data": {
      "text/html": [
       "<div>\n",
       "<style scoped>\n",
       "    .dataframe tbody tr th:only-of-type {\n",
       "        vertical-align: middle;\n",
       "    }\n",
       "\n",
       "    .dataframe tbody tr th {\n",
       "        vertical-align: top;\n",
       "    }\n",
       "\n",
       "    .dataframe thead th {\n",
       "        text-align: right;\n",
       "    }\n",
       "</style>\n",
       "<table border=\"1\" class=\"dataframe\">\n",
       "  <thead>\n",
       "    <tr style=\"text-align: right;\">\n",
       "      <th></th>\n",
       "      <th>Coverage</th>\n",
       "      <th>Education</th>\n",
       "      <th>EmploymentStatus</th>\n",
       "      <th>Gender</th>\n",
       "      <th>Location.Geo</th>\n",
       "      <th>Location.Code</th>\n",
       "      <th>Marital.Status</th>\n",
       "      <th>Policy.Type</th>\n",
       "      <th>Policy</th>\n",
       "      <th>Renew.Offer.Type</th>\n",
       "      <th>Sales.Channel</th>\n",
       "      <th>Vehicle.Class</th>\n",
       "    </tr>\n",
       "  </thead>\n",
       "  <tbody>\n",
       "    <tr>\n",
       "      <th>0</th>\n",
       "      <td>Basic</td>\n",
       "      <td>Master</td>\n",
       "      <td>Disabled</td>\n",
       "      <td>M</td>\n",
       "      <td>29,76.6</td>\n",
       "      <td>Suburban</td>\n",
       "      <td>Married</td>\n",
       "      <td>Personal Auto</td>\n",
       "      <td>Personal L3</td>\n",
       "      <td>Offer2</td>\n",
       "      <td>Branch</td>\n",
       "      <td>Four-Door Car</td>\n",
       "    </tr>\n",
       "    <tr>\n",
       "      <th>1</th>\n",
       "      <td>Basic</td>\n",
       "      <td>Master</td>\n",
       "      <td>Retired</td>\n",
       "      <td>F</td>\n",
       "      <td>17.7,77.7</td>\n",
       "      <td>Urban</td>\n",
       "      <td>Married</td>\n",
       "      <td>Personal Auto</td>\n",
       "      <td>Personal L2</td>\n",
       "      <td>Offer1</td>\n",
       "      <td>Agent</td>\n",
       "      <td>Two-Door Car</td>\n",
       "    </tr>\n",
       "    <tr>\n",
       "      <th>2</th>\n",
       "      <td>Basic</td>\n",
       "      <td>Bachelor</td>\n",
       "      <td>Employed</td>\n",
       "      <td>F</td>\n",
       "      <td>22.6,88.8</td>\n",
       "      <td>Rural</td>\n",
       "      <td>Married</td>\n",
       "      <td>Personal Auto</td>\n",
       "      <td>Personal L3</td>\n",
       "      <td>Offer1</td>\n",
       "      <td>Agent</td>\n",
       "      <td>Sports Car</td>\n",
       "    </tr>\n",
       "    <tr>\n",
       "      <th>3</th>\n",
       "      <td>Basic</td>\n",
       "      <td>Bachelor</td>\n",
       "      <td>Employed</td>\n",
       "      <td>F</td>\n",
       "      <td>28.6,74.8</td>\n",
       "      <td>Suburban</td>\n",
       "      <td>Single</td>\n",
       "      <td>Personal Auto</td>\n",
       "      <td>Personal L2</td>\n",
       "      <td>Offer1</td>\n",
       "      <td>Call Center</td>\n",
       "      <td>Four-Door Car</td>\n",
       "    </tr>\n",
       "    <tr>\n",
       "      <th>4</th>\n",
       "      <td>Extended</td>\n",
       "      <td>High School or Below</td>\n",
       "      <td>Employed</td>\n",
       "      <td>M</td>\n",
       "      <td>29.2,77.9</td>\n",
       "      <td>Suburban</td>\n",
       "      <td>Married</td>\n",
       "      <td>Personal Auto</td>\n",
       "      <td>Personal L2</td>\n",
       "      <td>Offer2</td>\n",
       "      <td>Agent</td>\n",
       "      <td>Four-Door Car</td>\n",
       "    </tr>\n",
       "  </tbody>\n",
       "</table>\n",
       "</div>"
      ],
      "text/plain": [
       "   Coverage             Education EmploymentStatus Gender Location.Geo  \\\n",
       "0     Basic                Master         Disabled      M      29,76.6   \n",
       "1     Basic                Master          Retired      F    17.7,77.7   \n",
       "2     Basic              Bachelor         Employed      F    22.6,88.8   \n",
       "3     Basic              Bachelor         Employed      F    28.6,74.8   \n",
       "4  Extended  High School or Below         Employed      M    29.2,77.9   \n",
       "\n",
       "  Location.Code Marital.Status    Policy.Type       Policy Renew.Offer.Type  \\\n",
       "0      Suburban        Married  Personal Auto  Personal L3           Offer2   \n",
       "1         Urban        Married  Personal Auto  Personal L2           Offer1   \n",
       "2         Rural        Married  Personal Auto  Personal L3           Offer1   \n",
       "3      Suburban         Single  Personal Auto  Personal L2           Offer1   \n",
       "4      Suburban        Married  Personal Auto  Personal L2           Offer2   \n",
       "\n",
       "  Sales.Channel  Vehicle.Class  \n",
       "0        Branch  Four-Door Car  \n",
       "1         Agent   Two-Door Car  \n",
       "2         Agent     Sports Car  \n",
       "3   Call Center  Four-Door Car  \n",
       "4         Agent  Four-Door Car  "
      ]
     },
     "execution_count": 88,
     "metadata": {},
     "output_type": "execute_result"
    }
   ],
   "source": [
    "xtest_catdata.info()\n",
    "xtest_catdata.head()"
   ]
  },
  {
   "cell_type": "code",
   "execution_count": 89,
   "id": "74a398c2",
   "metadata": {},
   "outputs": [
    {
     "name": "stdout",
     "output_type": "stream",
     "text": [
      "<class 'pandas.core.frame.DataFrame'>\n",
      "RangeIndex: 7844 entries, 0 to 7843\n",
      "Data columns (total 12 columns):\n",
      " #   Column            Non-Null Count  Dtype   \n",
      "---  ------            --------------  -----   \n",
      " 0   Coverage          7844 non-null   category\n",
      " 1   Education         7844 non-null   category\n",
      " 2   EmploymentStatus  7844 non-null   category\n",
      " 3   Gender            7844 non-null   category\n",
      " 4   Location.Geo      7844 non-null   category\n",
      " 5   Location.Code     7844 non-null   category\n",
      " 6   Marital.Status    7844 non-null   category\n",
      " 7   Policy.Type       7844 non-null   category\n",
      " 8   Policy            7844 non-null   category\n",
      " 9   Renew.Offer.Type  7844 non-null   category\n",
      " 10  Sales.Channel     7844 non-null   category\n",
      " 11  Vehicle.Class     7844 non-null   category\n",
      "dtypes: category(12)\n",
      "memory usage: 186.6 KB\n"
     ]
    }
   ],
   "source": [
    "xtrain_catdata[cat_cols_train]=xtrain_catdata[cat_cols_train].astype(\"category\")\n",
    "xtrain_catdata.info()"
   ]
  },
  {
   "cell_type": "code",
   "execution_count": 90,
   "id": "a090a976",
   "metadata": {},
   "outputs": [
    {
     "name": "stdout",
     "output_type": "stream",
     "text": [
      "<class 'pandas.core.frame.DataFrame'>\n",
      "RangeIndex: 1962 entries, 0 to 1961\n",
      "Data columns (total 12 columns):\n",
      " #   Column            Non-Null Count  Dtype   \n",
      "---  ------            --------------  -----   \n",
      " 0   Coverage          1962 non-null   category\n",
      " 1   Education         1962 non-null   category\n",
      " 2   EmploymentStatus  1962 non-null   category\n",
      " 3   Gender            1962 non-null   category\n",
      " 4   Location.Geo      1962 non-null   category\n",
      " 5   Location.Code     1962 non-null   category\n",
      " 6   Marital.Status    1962 non-null   category\n",
      " 7   Policy.Type       1962 non-null   category\n",
      " 8   Policy            1962 non-null   category\n",
      " 9   Renew.Offer.Type  1962 non-null   category\n",
      " 10  Sales.Channel     1962 non-null   category\n",
      " 11  Vehicle.Class     1962 non-null   category\n",
      "dtypes: category(12)\n",
      "memory usage: 69.1 KB\n"
     ]
    }
   ],
   "source": [
    "xtest_catdata[cat_cols_test]=xtest_catdata[cat_cols_test].astype(\"category\")\n",
    "xtest_catdata.info()"
   ]
  },
  {
   "cell_type": "code",
   "execution_count": 91,
   "id": "fe88079e",
   "metadata": {
    "scrolled": true
   },
   "outputs": [
    {
     "data": {
      "text/html": [
       "<style>#sk-container-id-5 {color: black;background-color: white;}#sk-container-id-5 pre{padding: 0;}#sk-container-id-5 div.sk-toggleable {background-color: white;}#sk-container-id-5 label.sk-toggleable__label {cursor: pointer;display: block;width: 100%;margin-bottom: 0;padding: 0.3em;box-sizing: border-box;text-align: center;}#sk-container-id-5 label.sk-toggleable__label-arrow:before {content: \"▸\";float: left;margin-right: 0.25em;color: #696969;}#sk-container-id-5 label.sk-toggleable__label-arrow:hover:before {color: black;}#sk-container-id-5 div.sk-estimator:hover label.sk-toggleable__label-arrow:before {color: black;}#sk-container-id-5 div.sk-toggleable__content {max-height: 0;max-width: 0;overflow: hidden;text-align: left;background-color: #f0f8ff;}#sk-container-id-5 div.sk-toggleable__content pre {margin: 0.2em;color: black;border-radius: 0.25em;background-color: #f0f8ff;}#sk-container-id-5 input.sk-toggleable__control:checked~div.sk-toggleable__content {max-height: 200px;max-width: 100%;overflow: auto;}#sk-container-id-5 input.sk-toggleable__control:checked~label.sk-toggleable__label-arrow:before {content: \"▾\";}#sk-container-id-5 div.sk-estimator input.sk-toggleable__control:checked~label.sk-toggleable__label {background-color: #d4ebff;}#sk-container-id-5 div.sk-label input.sk-toggleable__control:checked~label.sk-toggleable__label {background-color: #d4ebff;}#sk-container-id-5 input.sk-hidden--visually {border: 0;clip: rect(1px 1px 1px 1px);clip: rect(1px, 1px, 1px, 1px);height: 1px;margin: -1px;overflow: hidden;padding: 0;position: absolute;width: 1px;}#sk-container-id-5 div.sk-estimator {font-family: monospace;background-color: #f0f8ff;border: 1px dotted black;border-radius: 0.25em;box-sizing: border-box;margin-bottom: 0.5em;}#sk-container-id-5 div.sk-estimator:hover {background-color: #d4ebff;}#sk-container-id-5 div.sk-parallel-item::after {content: \"\";width: 100%;border-bottom: 1px solid gray;flex-grow: 1;}#sk-container-id-5 div.sk-label:hover label.sk-toggleable__label {background-color: #d4ebff;}#sk-container-id-5 div.sk-serial::before {content: \"\";position: absolute;border-left: 1px solid gray;box-sizing: border-box;top: 0;bottom: 0;left: 50%;z-index: 0;}#sk-container-id-5 div.sk-serial {display: flex;flex-direction: column;align-items: center;background-color: white;padding-right: 0.2em;padding-left: 0.2em;position: relative;}#sk-container-id-5 div.sk-item {position: relative;z-index: 1;}#sk-container-id-5 div.sk-parallel {display: flex;align-items: stretch;justify-content: center;background-color: white;position: relative;}#sk-container-id-5 div.sk-item::before, #sk-container-id-5 div.sk-parallel-item::before {content: \"\";position: absolute;border-left: 1px solid gray;box-sizing: border-box;top: 0;bottom: 0;left: 50%;z-index: -1;}#sk-container-id-5 div.sk-parallel-item {display: flex;flex-direction: column;z-index: 1;position: relative;background-color: white;}#sk-container-id-5 div.sk-parallel-item:first-child::after {align-self: flex-end;width: 50%;}#sk-container-id-5 div.sk-parallel-item:last-child::after {align-self: flex-start;width: 50%;}#sk-container-id-5 div.sk-parallel-item:only-child::after {width: 0;}#sk-container-id-5 div.sk-dashed-wrapped {border: 1px dashed gray;margin: 0 0.4em 0.5em 0.4em;box-sizing: border-box;padding-bottom: 0.4em;background-color: white;}#sk-container-id-5 div.sk-label label {font-family: monospace;font-weight: bold;display: inline-block;line-height: 1.2em;}#sk-container-id-5 div.sk-label-container {text-align: center;}#sk-container-id-5 div.sk-container {/* jupyter's `normalize.less` sets `[hidden] { display: none; }` but bootstrap.min.css set `[hidden] { display: none !important; }` so we also need the `!important` here to be able to override the default hidden behavior on the sphinx rendered scikit-learn.org. See: https://github.com/scikit-learn/scikit-learn/issues/21755 */display: inline-block !important;position: relative;}#sk-container-id-5 div.sk-text-repr-fallback {display: none;}</style><div id=\"sk-container-id-5\" class=\"sk-top-container\"><div class=\"sk-text-repr-fallback\"><pre>OneHotEncoder(handle_unknown=&#x27;ignore&#x27;)</pre><b>In a Jupyter environment, please rerun this cell to show the HTML representation or trust the notebook. <br />On GitHub, the HTML representation is unable to render, please try loading this page with nbviewer.org.</b></div><div class=\"sk-container\" hidden><div class=\"sk-item\"><div class=\"sk-estimator sk-toggleable\"><input class=\"sk-toggleable__control sk-hidden--visually\" id=\"sk-estimator-id-5\" type=\"checkbox\" checked><label for=\"sk-estimator-id-5\" class=\"sk-toggleable__label sk-toggleable__label-arrow\">OneHotEncoder</label><div class=\"sk-toggleable__content\"><pre>OneHotEncoder(handle_unknown=&#x27;ignore&#x27;)</pre></div></div></div></div></div>"
      ],
      "text/plain": [
       "OneHotEncoder(handle_unknown='ignore')"
      ]
     },
     "execution_count": 91,
     "metadata": {},
     "output_type": "execute_result"
    }
   ],
   "source": [
    "#using OneHotEncoder for categorical data \n",
    "from sklearn.preprocessing import OneHotEncoder\n",
    "ohe=OneHotEncoder(handle_unknown=\"ignore\")   # ignore used to remove the classes in test featrure which are not in train feature\n",
    "#fitting on the train data\n",
    "ohe.fit(xtrain_catdata)\n"
   ]
  },
  {
   "cell_type": "code",
   "execution_count": 92,
   "id": "fc30e096",
   "metadata": {},
   "outputs": [],
   "source": [
    "#list out the columns names\n",
    "cols=list(ohe.get_feature_names(xtrain_catdata.columns))"
   ]
  },
  {
   "cell_type": "code",
   "execution_count": 93,
   "id": "47af5320",
   "metadata": {},
   "outputs": [],
   "source": [
    "#transform onto the train data\n",
    "xtrain_cat=pd.DataFrame(ohe.transform(xtrain_catdata).todense(),columns=cols)\n",
    "xtest_cat=pd.DataFrame(ohe.transform(xtest_catdata).todense(),columns=cols)\n",
    "test_cat=pd.DataFrame(ohe.transform(test_catdata).todense(),columns=cols)"
   ]
  },
  {
   "cell_type": "code",
   "execution_count": 94,
   "id": "d52ab1ab",
   "metadata": {},
   "outputs": [
    {
     "data": {
      "text/html": [
       "<div>\n",
       "<style scoped>\n",
       "    .dataframe tbody tr th:only-of-type {\n",
       "        vertical-align: middle;\n",
       "    }\n",
       "\n",
       "    .dataframe tbody tr th {\n",
       "        vertical-align: top;\n",
       "    }\n",
       "\n",
       "    .dataframe thead th {\n",
       "        text-align: right;\n",
       "    }\n",
       "</style>\n",
       "<table border=\"1\" class=\"dataframe\">\n",
       "  <thead>\n",
       "    <tr style=\"text-align: right;\">\n",
       "      <th></th>\n",
       "      <th>Coverage_Basic</th>\n",
       "      <th>Coverage_Extended</th>\n",
       "      <th>Coverage_Premium</th>\n",
       "      <th>Education_Bachelor</th>\n",
       "      <th>Education_College</th>\n",
       "      <th>Education_Doctor</th>\n",
       "      <th>Education_High School or Below</th>\n",
       "      <th>Education_Master</th>\n",
       "      <th>EmploymentStatus_Disabled</th>\n",
       "      <th>EmploymentStatus_Employed</th>\n",
       "      <th>...</th>\n",
       "      <th>Sales.Channel_Agent</th>\n",
       "      <th>Sales.Channel_Branch</th>\n",
       "      <th>Sales.Channel_Call Center</th>\n",
       "      <th>Sales.Channel_Web</th>\n",
       "      <th>Vehicle.Class_Four-Door Car</th>\n",
       "      <th>Vehicle.Class_Luxury Car</th>\n",
       "      <th>Vehicle.Class_Luxury SUV</th>\n",
       "      <th>Vehicle.Class_SUV</th>\n",
       "      <th>Vehicle.Class_Sports Car</th>\n",
       "      <th>Vehicle.Class_Two-Door Car</th>\n",
       "    </tr>\n",
       "  </thead>\n",
       "  <tbody>\n",
       "    <tr>\n",
       "      <th>0</th>\n",
       "      <td>0.0</td>\n",
       "      <td>1.0</td>\n",
       "      <td>0.0</td>\n",
       "      <td>1.0</td>\n",
       "      <td>0.0</td>\n",
       "      <td>0.0</td>\n",
       "      <td>0.0</td>\n",
       "      <td>0.0</td>\n",
       "      <td>0.0</td>\n",
       "      <td>1.0</td>\n",
       "      <td>...</td>\n",
       "      <td>0.0</td>\n",
       "      <td>0.0</td>\n",
       "      <td>1.0</td>\n",
       "      <td>0.0</td>\n",
       "      <td>1.0</td>\n",
       "      <td>0.0</td>\n",
       "      <td>0.0</td>\n",
       "      <td>0.0</td>\n",
       "      <td>0.0</td>\n",
       "      <td>0.0</td>\n",
       "    </tr>\n",
       "    <tr>\n",
       "      <th>1</th>\n",
       "      <td>0.0</td>\n",
       "      <td>1.0</td>\n",
       "      <td>0.0</td>\n",
       "      <td>1.0</td>\n",
       "      <td>0.0</td>\n",
       "      <td>0.0</td>\n",
       "      <td>0.0</td>\n",
       "      <td>0.0</td>\n",
       "      <td>0.0</td>\n",
       "      <td>0.0</td>\n",
       "      <td>...</td>\n",
       "      <td>1.0</td>\n",
       "      <td>0.0</td>\n",
       "      <td>0.0</td>\n",
       "      <td>0.0</td>\n",
       "      <td>0.0</td>\n",
       "      <td>0.0</td>\n",
       "      <td>0.0</td>\n",
       "      <td>1.0</td>\n",
       "      <td>0.0</td>\n",
       "      <td>0.0</td>\n",
       "    </tr>\n",
       "    <tr>\n",
       "      <th>2</th>\n",
       "      <td>0.0</td>\n",
       "      <td>1.0</td>\n",
       "      <td>0.0</td>\n",
       "      <td>1.0</td>\n",
       "      <td>0.0</td>\n",
       "      <td>0.0</td>\n",
       "      <td>0.0</td>\n",
       "      <td>0.0</td>\n",
       "      <td>0.0</td>\n",
       "      <td>1.0</td>\n",
       "      <td>...</td>\n",
       "      <td>0.0</td>\n",
       "      <td>0.0</td>\n",
       "      <td>0.0</td>\n",
       "      <td>1.0</td>\n",
       "      <td>1.0</td>\n",
       "      <td>0.0</td>\n",
       "      <td>0.0</td>\n",
       "      <td>0.0</td>\n",
       "      <td>0.0</td>\n",
       "      <td>0.0</td>\n",
       "    </tr>\n",
       "    <tr>\n",
       "      <th>3</th>\n",
       "      <td>0.0</td>\n",
       "      <td>1.0</td>\n",
       "      <td>0.0</td>\n",
       "      <td>1.0</td>\n",
       "      <td>0.0</td>\n",
       "      <td>0.0</td>\n",
       "      <td>0.0</td>\n",
       "      <td>0.0</td>\n",
       "      <td>1.0</td>\n",
       "      <td>0.0</td>\n",
       "      <td>...</td>\n",
       "      <td>0.0</td>\n",
       "      <td>0.0</td>\n",
       "      <td>1.0</td>\n",
       "      <td>0.0</td>\n",
       "      <td>1.0</td>\n",
       "      <td>0.0</td>\n",
       "      <td>0.0</td>\n",
       "      <td>0.0</td>\n",
       "      <td>0.0</td>\n",
       "      <td>0.0</td>\n",
       "    </tr>\n",
       "    <tr>\n",
       "      <th>4</th>\n",
       "      <td>1.0</td>\n",
       "      <td>0.0</td>\n",
       "      <td>0.0</td>\n",
       "      <td>0.0</td>\n",
       "      <td>0.0</td>\n",
       "      <td>0.0</td>\n",
       "      <td>1.0</td>\n",
       "      <td>0.0</td>\n",
       "      <td>0.0</td>\n",
       "      <td>1.0</td>\n",
       "      <td>...</td>\n",
       "      <td>0.0</td>\n",
       "      <td>1.0</td>\n",
       "      <td>0.0</td>\n",
       "      <td>0.0</td>\n",
       "      <td>1.0</td>\n",
       "      <td>0.0</td>\n",
       "      <td>0.0</td>\n",
       "      <td>0.0</td>\n",
       "      <td>0.0</td>\n",
       "      <td>0.0</td>\n",
       "    </tr>\n",
       "  </tbody>\n",
       "</table>\n",
       "<p>5 rows × 2649 columns</p>\n",
       "</div>"
      ],
      "text/plain": [
       "   Coverage_Basic  Coverage_Extended  Coverage_Premium  Education_Bachelor  \\\n",
       "0             0.0                1.0               0.0                 1.0   \n",
       "1             0.0                1.0               0.0                 1.0   \n",
       "2             0.0                1.0               0.0                 1.0   \n",
       "3             0.0                1.0               0.0                 1.0   \n",
       "4             1.0                0.0               0.0                 0.0   \n",
       "\n",
       "   Education_College  Education_Doctor  Education_High School or Below  \\\n",
       "0                0.0               0.0                             0.0   \n",
       "1                0.0               0.0                             0.0   \n",
       "2                0.0               0.0                             0.0   \n",
       "3                0.0               0.0                             0.0   \n",
       "4                0.0               0.0                             1.0   \n",
       "\n",
       "   Education_Master  EmploymentStatus_Disabled  EmploymentStatus_Employed  \\\n",
       "0               0.0                        0.0                        1.0   \n",
       "1               0.0                        0.0                        0.0   \n",
       "2               0.0                        0.0                        1.0   \n",
       "3               0.0                        1.0                        0.0   \n",
       "4               0.0                        0.0                        1.0   \n",
       "\n",
       "   ...  Sales.Channel_Agent  Sales.Channel_Branch  Sales.Channel_Call Center  \\\n",
       "0  ...                  0.0                   0.0                        1.0   \n",
       "1  ...                  1.0                   0.0                        0.0   \n",
       "2  ...                  0.0                   0.0                        0.0   \n",
       "3  ...                  0.0                   0.0                        1.0   \n",
       "4  ...                  0.0                   1.0                        0.0   \n",
       "\n",
       "   Sales.Channel_Web  Vehicle.Class_Four-Door Car  Vehicle.Class_Luxury Car  \\\n",
       "0                0.0                          1.0                       0.0   \n",
       "1                0.0                          0.0                       0.0   \n",
       "2                1.0                          1.0                       0.0   \n",
       "3                0.0                          1.0                       0.0   \n",
       "4                0.0                          1.0                       0.0   \n",
       "\n",
       "   Vehicle.Class_Luxury SUV  Vehicle.Class_SUV  Vehicle.Class_Sports Car  \\\n",
       "0                       0.0                0.0                       0.0   \n",
       "1                       0.0                1.0                       0.0   \n",
       "2                       0.0                0.0                       0.0   \n",
       "3                       0.0                0.0                       0.0   \n",
       "4                       0.0                0.0                       0.0   \n",
       "\n",
       "   Vehicle.Class_Two-Door Car  \n",
       "0                         0.0  \n",
       "1                         0.0  \n",
       "2                         0.0  \n",
       "3                         0.0  \n",
       "4                         0.0  \n",
       "\n",
       "[5 rows x 2649 columns]"
      ]
     },
     "execution_count": 94,
     "metadata": {},
     "output_type": "execute_result"
    }
   ],
   "source": [
    "xtrain_cat.head()"
   ]
  },
  {
   "cell_type": "code",
   "execution_count": 95,
   "id": "0bfa97c6",
   "metadata": {},
   "outputs": [
    {
     "name": "stdout",
     "output_type": "stream",
     "text": [
      "<class 'pandas.core.frame.DataFrame'>\n",
      "RangeIndex: 7844 entries, 0 to 7843\n",
      "Columns: 2649 entries, Coverage_Basic to Vehicle.Class_Two-Door Car\n",
      "dtypes: float64(2649)\n",
      "memory usage: 158.5 MB\n"
     ]
    },
    {
     "data": {
      "text/html": [
       "<div>\n",
       "<style scoped>\n",
       "    .dataframe tbody tr th:only-of-type {\n",
       "        vertical-align: middle;\n",
       "    }\n",
       "\n",
       "    .dataframe tbody tr th {\n",
       "        vertical-align: top;\n",
       "    }\n",
       "\n",
       "    .dataframe thead th {\n",
       "        text-align: right;\n",
       "    }\n",
       "</style>\n",
       "<table border=\"1\" class=\"dataframe\">\n",
       "  <thead>\n",
       "    <tr style=\"text-align: right;\">\n",
       "      <th></th>\n",
       "      <th>Coverage_Basic</th>\n",
       "      <th>Coverage_Extended</th>\n",
       "      <th>Coverage_Premium</th>\n",
       "      <th>Education_Bachelor</th>\n",
       "      <th>Education_College</th>\n",
       "      <th>Education_Doctor</th>\n",
       "      <th>Education_High School or Below</th>\n",
       "      <th>Education_Master</th>\n",
       "      <th>EmploymentStatus_Disabled</th>\n",
       "      <th>EmploymentStatus_Employed</th>\n",
       "      <th>...</th>\n",
       "      <th>Sales.Channel_Agent</th>\n",
       "      <th>Sales.Channel_Branch</th>\n",
       "      <th>Sales.Channel_Call Center</th>\n",
       "      <th>Sales.Channel_Web</th>\n",
       "      <th>Vehicle.Class_Four-Door Car</th>\n",
       "      <th>Vehicle.Class_Luxury Car</th>\n",
       "      <th>Vehicle.Class_Luxury SUV</th>\n",
       "      <th>Vehicle.Class_SUV</th>\n",
       "      <th>Vehicle.Class_Sports Car</th>\n",
       "      <th>Vehicle.Class_Two-Door Car</th>\n",
       "    </tr>\n",
       "  </thead>\n",
       "  <tbody>\n",
       "    <tr>\n",
       "      <th>0</th>\n",
       "      <td>0.0</td>\n",
       "      <td>1.0</td>\n",
       "      <td>0.0</td>\n",
       "      <td>1.0</td>\n",
       "      <td>0.0</td>\n",
       "      <td>0.0</td>\n",
       "      <td>0.0</td>\n",
       "      <td>0.0</td>\n",
       "      <td>0.0</td>\n",
       "      <td>1.0</td>\n",
       "      <td>...</td>\n",
       "      <td>0.0</td>\n",
       "      <td>0.0</td>\n",
       "      <td>1.0</td>\n",
       "      <td>0.0</td>\n",
       "      <td>1.0</td>\n",
       "      <td>0.0</td>\n",
       "      <td>0.0</td>\n",
       "      <td>0.0</td>\n",
       "      <td>0.0</td>\n",
       "      <td>0.0</td>\n",
       "    </tr>\n",
       "    <tr>\n",
       "      <th>1</th>\n",
       "      <td>0.0</td>\n",
       "      <td>1.0</td>\n",
       "      <td>0.0</td>\n",
       "      <td>1.0</td>\n",
       "      <td>0.0</td>\n",
       "      <td>0.0</td>\n",
       "      <td>0.0</td>\n",
       "      <td>0.0</td>\n",
       "      <td>0.0</td>\n",
       "      <td>0.0</td>\n",
       "      <td>...</td>\n",
       "      <td>1.0</td>\n",
       "      <td>0.0</td>\n",
       "      <td>0.0</td>\n",
       "      <td>0.0</td>\n",
       "      <td>0.0</td>\n",
       "      <td>0.0</td>\n",
       "      <td>0.0</td>\n",
       "      <td>1.0</td>\n",
       "      <td>0.0</td>\n",
       "      <td>0.0</td>\n",
       "    </tr>\n",
       "    <tr>\n",
       "      <th>2</th>\n",
       "      <td>0.0</td>\n",
       "      <td>1.0</td>\n",
       "      <td>0.0</td>\n",
       "      <td>1.0</td>\n",
       "      <td>0.0</td>\n",
       "      <td>0.0</td>\n",
       "      <td>0.0</td>\n",
       "      <td>0.0</td>\n",
       "      <td>0.0</td>\n",
       "      <td>1.0</td>\n",
       "      <td>...</td>\n",
       "      <td>0.0</td>\n",
       "      <td>0.0</td>\n",
       "      <td>0.0</td>\n",
       "      <td>1.0</td>\n",
       "      <td>1.0</td>\n",
       "      <td>0.0</td>\n",
       "      <td>0.0</td>\n",
       "      <td>0.0</td>\n",
       "      <td>0.0</td>\n",
       "      <td>0.0</td>\n",
       "    </tr>\n",
       "    <tr>\n",
       "      <th>3</th>\n",
       "      <td>0.0</td>\n",
       "      <td>1.0</td>\n",
       "      <td>0.0</td>\n",
       "      <td>1.0</td>\n",
       "      <td>0.0</td>\n",
       "      <td>0.0</td>\n",
       "      <td>0.0</td>\n",
       "      <td>0.0</td>\n",
       "      <td>1.0</td>\n",
       "      <td>0.0</td>\n",
       "      <td>...</td>\n",
       "      <td>0.0</td>\n",
       "      <td>0.0</td>\n",
       "      <td>1.0</td>\n",
       "      <td>0.0</td>\n",
       "      <td>1.0</td>\n",
       "      <td>0.0</td>\n",
       "      <td>0.0</td>\n",
       "      <td>0.0</td>\n",
       "      <td>0.0</td>\n",
       "      <td>0.0</td>\n",
       "    </tr>\n",
       "    <tr>\n",
       "      <th>4</th>\n",
       "      <td>1.0</td>\n",
       "      <td>0.0</td>\n",
       "      <td>0.0</td>\n",
       "      <td>0.0</td>\n",
       "      <td>0.0</td>\n",
       "      <td>0.0</td>\n",
       "      <td>1.0</td>\n",
       "      <td>0.0</td>\n",
       "      <td>0.0</td>\n",
       "      <td>1.0</td>\n",
       "      <td>...</td>\n",
       "      <td>0.0</td>\n",
       "      <td>1.0</td>\n",
       "      <td>0.0</td>\n",
       "      <td>0.0</td>\n",
       "      <td>1.0</td>\n",
       "      <td>0.0</td>\n",
       "      <td>0.0</td>\n",
       "      <td>0.0</td>\n",
       "      <td>0.0</td>\n",
       "      <td>0.0</td>\n",
       "    </tr>\n",
       "  </tbody>\n",
       "</table>\n",
       "<p>5 rows × 2649 columns</p>\n",
       "</div>"
      ],
      "text/plain": [
       "   Coverage_Basic  Coverage_Extended  Coverage_Premium  Education_Bachelor  \\\n",
       "0             0.0                1.0               0.0                 1.0   \n",
       "1             0.0                1.0               0.0                 1.0   \n",
       "2             0.0                1.0               0.0                 1.0   \n",
       "3             0.0                1.0               0.0                 1.0   \n",
       "4             1.0                0.0               0.0                 0.0   \n",
       "\n",
       "   Education_College  Education_Doctor  Education_High School or Below  \\\n",
       "0                0.0               0.0                             0.0   \n",
       "1                0.0               0.0                             0.0   \n",
       "2                0.0               0.0                             0.0   \n",
       "3                0.0               0.0                             0.0   \n",
       "4                0.0               0.0                             1.0   \n",
       "\n",
       "   Education_Master  EmploymentStatus_Disabled  EmploymentStatus_Employed  \\\n",
       "0               0.0                        0.0                        1.0   \n",
       "1               0.0                        0.0                        0.0   \n",
       "2               0.0                        0.0                        1.0   \n",
       "3               0.0                        1.0                        0.0   \n",
       "4               0.0                        0.0                        1.0   \n",
       "\n",
       "   ...  Sales.Channel_Agent  Sales.Channel_Branch  Sales.Channel_Call Center  \\\n",
       "0  ...                  0.0                   0.0                        1.0   \n",
       "1  ...                  1.0                   0.0                        0.0   \n",
       "2  ...                  0.0                   0.0                        0.0   \n",
       "3  ...                  0.0                   0.0                        1.0   \n",
       "4  ...                  0.0                   1.0                        0.0   \n",
       "\n",
       "   Sales.Channel_Web  Vehicle.Class_Four-Door Car  Vehicle.Class_Luxury Car  \\\n",
       "0                0.0                          1.0                       0.0   \n",
       "1                0.0                          0.0                       0.0   \n",
       "2                1.0                          1.0                       0.0   \n",
       "3                0.0                          1.0                       0.0   \n",
       "4                0.0                          1.0                       0.0   \n",
       "\n",
       "   Vehicle.Class_Luxury SUV  Vehicle.Class_SUV  Vehicle.Class_Sports Car  \\\n",
       "0                       0.0                0.0                       0.0   \n",
       "1                       0.0                1.0                       0.0   \n",
       "2                       0.0                0.0                       0.0   \n",
       "3                       0.0                0.0                       0.0   \n",
       "4                       0.0                0.0                       0.0   \n",
       "\n",
       "   Vehicle.Class_Two-Door Car  \n",
       "0                         0.0  \n",
       "1                         0.0  \n",
       "2                         0.0  \n",
       "3                         0.0  \n",
       "4                         0.0  \n",
       "\n",
       "[5 rows x 2649 columns]"
      ]
     },
     "execution_count": 95,
     "metadata": {},
     "output_type": "execute_result"
    }
   ],
   "source": [
    "xtrain_cat.info()\n",
    "xtrain_cat.head()"
   ]
  },
  {
   "cell_type": "code",
   "execution_count": 96,
   "id": "5c5de5fc",
   "metadata": {},
   "outputs": [
    {
     "name": "stdout",
     "output_type": "stream",
     "text": [
      "<class 'pandas.core.frame.DataFrame'>\n",
      "RangeIndex: 1962 entries, 0 to 1961\n",
      "Columns: 2649 entries, Coverage_Basic to Vehicle.Class_Two-Door Car\n",
      "dtypes: float64(2649)\n",
      "memory usage: 39.7 MB\n"
     ]
    },
    {
     "data": {
      "text/html": [
       "<div>\n",
       "<style scoped>\n",
       "    .dataframe tbody tr th:only-of-type {\n",
       "        vertical-align: middle;\n",
       "    }\n",
       "\n",
       "    .dataframe tbody tr th {\n",
       "        vertical-align: top;\n",
       "    }\n",
       "\n",
       "    .dataframe thead th {\n",
       "        text-align: right;\n",
       "    }\n",
       "</style>\n",
       "<table border=\"1\" class=\"dataframe\">\n",
       "  <thead>\n",
       "    <tr style=\"text-align: right;\">\n",
       "      <th></th>\n",
       "      <th>Coverage_Basic</th>\n",
       "      <th>Coverage_Extended</th>\n",
       "      <th>Coverage_Premium</th>\n",
       "      <th>Education_Bachelor</th>\n",
       "      <th>Education_College</th>\n",
       "      <th>Education_Doctor</th>\n",
       "      <th>Education_High School or Below</th>\n",
       "      <th>Education_Master</th>\n",
       "      <th>EmploymentStatus_Disabled</th>\n",
       "      <th>EmploymentStatus_Employed</th>\n",
       "      <th>...</th>\n",
       "      <th>Sales.Channel_Agent</th>\n",
       "      <th>Sales.Channel_Branch</th>\n",
       "      <th>Sales.Channel_Call Center</th>\n",
       "      <th>Sales.Channel_Web</th>\n",
       "      <th>Vehicle.Class_Four-Door Car</th>\n",
       "      <th>Vehicle.Class_Luxury Car</th>\n",
       "      <th>Vehicle.Class_Luxury SUV</th>\n",
       "      <th>Vehicle.Class_SUV</th>\n",
       "      <th>Vehicle.Class_Sports Car</th>\n",
       "      <th>Vehicle.Class_Two-Door Car</th>\n",
       "    </tr>\n",
       "  </thead>\n",
       "  <tbody>\n",
       "    <tr>\n",
       "      <th>0</th>\n",
       "      <td>1.0</td>\n",
       "      <td>0.0</td>\n",
       "      <td>0.0</td>\n",
       "      <td>0.0</td>\n",
       "      <td>0.0</td>\n",
       "      <td>0.0</td>\n",
       "      <td>0.0</td>\n",
       "      <td>1.0</td>\n",
       "      <td>1.0</td>\n",
       "      <td>0.0</td>\n",
       "      <td>...</td>\n",
       "      <td>0.0</td>\n",
       "      <td>1.0</td>\n",
       "      <td>0.0</td>\n",
       "      <td>0.0</td>\n",
       "      <td>1.0</td>\n",
       "      <td>0.0</td>\n",
       "      <td>0.0</td>\n",
       "      <td>0.0</td>\n",
       "      <td>0.0</td>\n",
       "      <td>0.0</td>\n",
       "    </tr>\n",
       "    <tr>\n",
       "      <th>1</th>\n",
       "      <td>1.0</td>\n",
       "      <td>0.0</td>\n",
       "      <td>0.0</td>\n",
       "      <td>0.0</td>\n",
       "      <td>0.0</td>\n",
       "      <td>0.0</td>\n",
       "      <td>0.0</td>\n",
       "      <td>1.0</td>\n",
       "      <td>0.0</td>\n",
       "      <td>0.0</td>\n",
       "      <td>...</td>\n",
       "      <td>1.0</td>\n",
       "      <td>0.0</td>\n",
       "      <td>0.0</td>\n",
       "      <td>0.0</td>\n",
       "      <td>0.0</td>\n",
       "      <td>0.0</td>\n",
       "      <td>0.0</td>\n",
       "      <td>0.0</td>\n",
       "      <td>0.0</td>\n",
       "      <td>1.0</td>\n",
       "    </tr>\n",
       "    <tr>\n",
       "      <th>2</th>\n",
       "      <td>1.0</td>\n",
       "      <td>0.0</td>\n",
       "      <td>0.0</td>\n",
       "      <td>1.0</td>\n",
       "      <td>0.0</td>\n",
       "      <td>0.0</td>\n",
       "      <td>0.0</td>\n",
       "      <td>0.0</td>\n",
       "      <td>0.0</td>\n",
       "      <td>1.0</td>\n",
       "      <td>...</td>\n",
       "      <td>1.0</td>\n",
       "      <td>0.0</td>\n",
       "      <td>0.0</td>\n",
       "      <td>0.0</td>\n",
       "      <td>0.0</td>\n",
       "      <td>0.0</td>\n",
       "      <td>0.0</td>\n",
       "      <td>0.0</td>\n",
       "      <td>1.0</td>\n",
       "      <td>0.0</td>\n",
       "    </tr>\n",
       "    <tr>\n",
       "      <th>3</th>\n",
       "      <td>1.0</td>\n",
       "      <td>0.0</td>\n",
       "      <td>0.0</td>\n",
       "      <td>1.0</td>\n",
       "      <td>0.0</td>\n",
       "      <td>0.0</td>\n",
       "      <td>0.0</td>\n",
       "      <td>0.0</td>\n",
       "      <td>0.0</td>\n",
       "      <td>1.0</td>\n",
       "      <td>...</td>\n",
       "      <td>0.0</td>\n",
       "      <td>0.0</td>\n",
       "      <td>1.0</td>\n",
       "      <td>0.0</td>\n",
       "      <td>1.0</td>\n",
       "      <td>0.0</td>\n",
       "      <td>0.0</td>\n",
       "      <td>0.0</td>\n",
       "      <td>0.0</td>\n",
       "      <td>0.0</td>\n",
       "    </tr>\n",
       "    <tr>\n",
       "      <th>4</th>\n",
       "      <td>0.0</td>\n",
       "      <td>1.0</td>\n",
       "      <td>0.0</td>\n",
       "      <td>0.0</td>\n",
       "      <td>0.0</td>\n",
       "      <td>0.0</td>\n",
       "      <td>1.0</td>\n",
       "      <td>0.0</td>\n",
       "      <td>0.0</td>\n",
       "      <td>1.0</td>\n",
       "      <td>...</td>\n",
       "      <td>1.0</td>\n",
       "      <td>0.0</td>\n",
       "      <td>0.0</td>\n",
       "      <td>0.0</td>\n",
       "      <td>1.0</td>\n",
       "      <td>0.0</td>\n",
       "      <td>0.0</td>\n",
       "      <td>0.0</td>\n",
       "      <td>0.0</td>\n",
       "      <td>0.0</td>\n",
       "    </tr>\n",
       "  </tbody>\n",
       "</table>\n",
       "<p>5 rows × 2649 columns</p>\n",
       "</div>"
      ],
      "text/plain": [
       "   Coverage_Basic  Coverage_Extended  Coverage_Premium  Education_Bachelor  \\\n",
       "0             1.0                0.0               0.0                 0.0   \n",
       "1             1.0                0.0               0.0                 0.0   \n",
       "2             1.0                0.0               0.0                 1.0   \n",
       "3             1.0                0.0               0.0                 1.0   \n",
       "4             0.0                1.0               0.0                 0.0   \n",
       "\n",
       "   Education_College  Education_Doctor  Education_High School or Below  \\\n",
       "0                0.0               0.0                             0.0   \n",
       "1                0.0               0.0                             0.0   \n",
       "2                0.0               0.0                             0.0   \n",
       "3                0.0               0.0                             0.0   \n",
       "4                0.0               0.0                             1.0   \n",
       "\n",
       "   Education_Master  EmploymentStatus_Disabled  EmploymentStatus_Employed  \\\n",
       "0               1.0                        1.0                        0.0   \n",
       "1               1.0                        0.0                        0.0   \n",
       "2               0.0                        0.0                        1.0   \n",
       "3               0.0                        0.0                        1.0   \n",
       "4               0.0                        0.0                        1.0   \n",
       "\n",
       "   ...  Sales.Channel_Agent  Sales.Channel_Branch  Sales.Channel_Call Center  \\\n",
       "0  ...                  0.0                   1.0                        0.0   \n",
       "1  ...                  1.0                   0.0                        0.0   \n",
       "2  ...                  1.0                   0.0                        0.0   \n",
       "3  ...                  0.0                   0.0                        1.0   \n",
       "4  ...                  1.0                   0.0                        0.0   \n",
       "\n",
       "   Sales.Channel_Web  Vehicle.Class_Four-Door Car  Vehicle.Class_Luxury Car  \\\n",
       "0                0.0                          1.0                       0.0   \n",
       "1                0.0                          0.0                       0.0   \n",
       "2                0.0                          0.0                       0.0   \n",
       "3                0.0                          1.0                       0.0   \n",
       "4                0.0                          1.0                       0.0   \n",
       "\n",
       "   Vehicle.Class_Luxury SUV  Vehicle.Class_SUV  Vehicle.Class_Sports Car  \\\n",
       "0                       0.0                0.0                       0.0   \n",
       "1                       0.0                0.0                       0.0   \n",
       "2                       0.0                0.0                       1.0   \n",
       "3                       0.0                0.0                       0.0   \n",
       "4                       0.0                0.0                       0.0   \n",
       "\n",
       "   Vehicle.Class_Two-Door Car  \n",
       "0                         0.0  \n",
       "1                         1.0  \n",
       "2                         0.0  \n",
       "3                         0.0  \n",
       "4                         0.0  \n",
       "\n",
       "[5 rows x 2649 columns]"
      ]
     },
     "execution_count": 96,
     "metadata": {},
     "output_type": "execute_result"
    }
   ],
   "source": [
    "xtest_cat.info()\n",
    "xtest_cat.head()"
   ]
  },
  {
   "cell_type": "markdown",
   "id": "c629c821",
   "metadata": {},
   "source": [
    "## concatinating both encoded categorical columns and standardized numerical columns"
   ]
  },
  {
   "cell_type": "code",
   "execution_count": 97,
   "id": "71c34a57",
   "metadata": {},
   "outputs": [
    {
     "data": {
      "text/html": [
       "<div>\n",
       "<style scoped>\n",
       "    .dataframe tbody tr th:only-of-type {\n",
       "        vertical-align: middle;\n",
       "    }\n",
       "\n",
       "    .dataframe tbody tr th {\n",
       "        vertical-align: top;\n",
       "    }\n",
       "\n",
       "    .dataframe thead th {\n",
       "        text-align: right;\n",
       "    }\n",
       "</style>\n",
       "<table border=\"1\" class=\"dataframe\">\n",
       "  <thead>\n",
       "    <tr style=\"text-align: right;\">\n",
       "      <th></th>\n",
       "      <th>Income</th>\n",
       "      <th>Monthly.Premium.Auto</th>\n",
       "      <th>Months.Since.Last.Claim</th>\n",
       "      <th>Months.Since.Policy.Inception</th>\n",
       "      <th>Number.of.Open.Complaints</th>\n",
       "      <th>Number.of.Policies</th>\n",
       "      <th>Total.Claim.Amount</th>\n",
       "      <th>Vehicle.Size</th>\n",
       "      <th>Coverage_Basic</th>\n",
       "      <th>Coverage_Extended</th>\n",
       "      <th>...</th>\n",
       "      <th>Sales.Channel_Agent</th>\n",
       "      <th>Sales.Channel_Branch</th>\n",
       "      <th>Sales.Channel_Call Center</th>\n",
       "      <th>Sales.Channel_Web</th>\n",
       "      <th>Vehicle.Class_Four-Door Car</th>\n",
       "      <th>Vehicle.Class_Luxury Car</th>\n",
       "      <th>Vehicle.Class_Luxury SUV</th>\n",
       "      <th>Vehicle.Class_SUV</th>\n",
       "      <th>Vehicle.Class_Sports Car</th>\n",
       "      <th>Vehicle.Class_Two-Door Car</th>\n",
       "    </tr>\n",
       "  </thead>\n",
       "  <tbody>\n",
       "    <tr>\n",
       "      <th>0</th>\n",
       "      <td>43478.000000</td>\n",
       "      <td>82.0</td>\n",
       "      <td>18.0</td>\n",
       "      <td>34.0</td>\n",
       "      <td>0.0</td>\n",
       "      <td>7.000000</td>\n",
       "      <td>582.690575</td>\n",
       "      <td>2.0</td>\n",
       "      <td>0.0</td>\n",
       "      <td>1.0</td>\n",
       "      <td>...</td>\n",
       "      <td>0.0</td>\n",
       "      <td>0.0</td>\n",
       "      <td>1.0</td>\n",
       "      <td>0.0</td>\n",
       "      <td>1.0</td>\n",
       "      <td>0.0</td>\n",
       "      <td>0.0</td>\n",
       "      <td>0.0</td>\n",
       "      <td>0.0</td>\n",
       "      <td>0.0</td>\n",
       "    </tr>\n",
       "    <tr>\n",
       "      <th>1</th>\n",
       "      <td>0.000000</td>\n",
       "      <td>128.0</td>\n",
       "      <td>15.0</td>\n",
       "      <td>37.0</td>\n",
       "      <td>0.0</td>\n",
       "      <td>2.000000</td>\n",
       "      <td>1345.317161</td>\n",
       "      <td>2.0</td>\n",
       "      <td>0.0</td>\n",
       "      <td>1.0</td>\n",
       "      <td>...</td>\n",
       "      <td>1.0</td>\n",
       "      <td>0.0</td>\n",
       "      <td>0.0</td>\n",
       "      <td>0.0</td>\n",
       "      <td>0.0</td>\n",
       "      <td>0.0</td>\n",
       "      <td>0.0</td>\n",
       "      <td>1.0</td>\n",
       "      <td>0.0</td>\n",
       "      <td>0.0</td>\n",
       "    </tr>\n",
       "    <tr>\n",
       "      <th>2</th>\n",
       "      <td>34986.000000</td>\n",
       "      <td>91.0</td>\n",
       "      <td>7.0</td>\n",
       "      <td>75.0</td>\n",
       "      <td>0.0</td>\n",
       "      <td>1.000000</td>\n",
       "      <td>73.839514</td>\n",
       "      <td>2.0</td>\n",
       "      <td>0.0</td>\n",
       "      <td>1.0</td>\n",
       "      <td>...</td>\n",
       "      <td>0.0</td>\n",
       "      <td>0.0</td>\n",
       "      <td>0.0</td>\n",
       "      <td>1.0</td>\n",
       "      <td>1.0</td>\n",
       "      <td>0.0</td>\n",
       "      <td>0.0</td>\n",
       "      <td>0.0</td>\n",
       "      <td>0.0</td>\n",
       "      <td>0.0</td>\n",
       "    </tr>\n",
       "    <tr>\n",
       "      <th>3</th>\n",
       "      <td>19240.000000</td>\n",
       "      <td>99.0</td>\n",
       "      <td>25.0</td>\n",
       "      <td>69.0</td>\n",
       "      <td>0.0</td>\n",
       "      <td>1.000000</td>\n",
       "      <td>475.200000</td>\n",
       "      <td>3.0</td>\n",
       "      <td>0.0</td>\n",
       "      <td>1.0</td>\n",
       "      <td>...</td>\n",
       "      <td>0.0</td>\n",
       "      <td>0.0</td>\n",
       "      <td>1.0</td>\n",
       "      <td>0.0</td>\n",
       "      <td>1.0</td>\n",
       "      <td>0.0</td>\n",
       "      <td>0.0</td>\n",
       "      <td>0.0</td>\n",
       "      <td>0.0</td>\n",
       "      <td>0.0</td>\n",
       "    </tr>\n",
       "    <tr>\n",
       "      <th>4</th>\n",
       "      <td>73758.000000</td>\n",
       "      <td>74.0</td>\n",
       "      <td>27.0</td>\n",
       "      <td>3.0</td>\n",
       "      <td>0.0</td>\n",
       "      <td>3.000000</td>\n",
       "      <td>99.509191</td>\n",
       "      <td>3.0</td>\n",
       "      <td>1.0</td>\n",
       "      <td>0.0</td>\n",
       "      <td>...</td>\n",
       "      <td>0.0</td>\n",
       "      <td>1.0</td>\n",
       "      <td>0.0</td>\n",
       "      <td>0.0</td>\n",
       "      <td>1.0</td>\n",
       "      <td>0.0</td>\n",
       "      <td>0.0</td>\n",
       "      <td>0.0</td>\n",
       "      <td>0.0</td>\n",
       "      <td>0.0</td>\n",
       "    </tr>\n",
       "    <tr>\n",
       "      <th>...</th>\n",
       "      <td>...</td>\n",
       "      <td>...</td>\n",
       "      <td>...</td>\n",
       "      <td>...</td>\n",
       "      <td>...</td>\n",
       "      <td>...</td>\n",
       "      <td>...</td>\n",
       "      <td>...</td>\n",
       "      <td>...</td>\n",
       "      <td>...</td>\n",
       "      <td>...</td>\n",
       "      <td>...</td>\n",
       "      <td>...</td>\n",
       "      <td>...</td>\n",
       "      <td>...</td>\n",
       "      <td>...</td>\n",
       "      <td>...</td>\n",
       "      <td>...</td>\n",
       "      <td>...</td>\n",
       "      <td>...</td>\n",
       "      <td>...</td>\n",
       "    </tr>\n",
       "    <tr>\n",
       "      <th>7839</th>\n",
       "      <td>37454.645761</td>\n",
       "      <td>68.0</td>\n",
       "      <td>21.0</td>\n",
       "      <td>16.0</td>\n",
       "      <td>0.0</td>\n",
       "      <td>2.978179</td>\n",
       "      <td>504.000000</td>\n",
       "      <td>2.0</td>\n",
       "      <td>1.0</td>\n",
       "      <td>0.0</td>\n",
       "      <td>...</td>\n",
       "      <td>0.0</td>\n",
       "      <td>0.0</td>\n",
       "      <td>1.0</td>\n",
       "      <td>0.0</td>\n",
       "      <td>1.0</td>\n",
       "      <td>0.0</td>\n",
       "      <td>0.0</td>\n",
       "      <td>0.0</td>\n",
       "      <td>0.0</td>\n",
       "      <td>0.0</td>\n",
       "    </tr>\n",
       "    <tr>\n",
       "      <th>7840</th>\n",
       "      <td>53375.000000</td>\n",
       "      <td>79.0</td>\n",
       "      <td>20.0</td>\n",
       "      <td>92.0</td>\n",
       "      <td>0.0</td>\n",
       "      <td>2.000000</td>\n",
       "      <td>127.322656</td>\n",
       "      <td>2.0</td>\n",
       "      <td>0.0</td>\n",
       "      <td>1.0</td>\n",
       "      <td>...</td>\n",
       "      <td>1.0</td>\n",
       "      <td>0.0</td>\n",
       "      <td>0.0</td>\n",
       "      <td>0.0</td>\n",
       "      <td>1.0</td>\n",
       "      <td>0.0</td>\n",
       "      <td>0.0</td>\n",
       "      <td>0.0</td>\n",
       "      <td>0.0</td>\n",
       "      <td>0.0</td>\n",
       "    </tr>\n",
       "    <tr>\n",
       "      <th>7841</th>\n",
       "      <td>27444.000000</td>\n",
       "      <td>66.0</td>\n",
       "      <td>21.0</td>\n",
       "      <td>88.0</td>\n",
       "      <td>0.0</td>\n",
       "      <td>3.000000</td>\n",
       "      <td>313.931213</td>\n",
       "      <td>1.0</td>\n",
       "      <td>1.0</td>\n",
       "      <td>0.0</td>\n",
       "      <td>...</td>\n",
       "      <td>0.0</td>\n",
       "      <td>0.0</td>\n",
       "      <td>0.0</td>\n",
       "      <td>1.0</td>\n",
       "      <td>1.0</td>\n",
       "      <td>0.0</td>\n",
       "      <td>0.0</td>\n",
       "      <td>0.0</td>\n",
       "      <td>0.0</td>\n",
       "      <td>0.0</td>\n",
       "    </tr>\n",
       "    <tr>\n",
       "      <th>7842</th>\n",
       "      <td>0.000000</td>\n",
       "      <td>88.0</td>\n",
       "      <td>2.0</td>\n",
       "      <td>43.0</td>\n",
       "      <td>0.0</td>\n",
       "      <td>3.000000</td>\n",
       "      <td>539.280951</td>\n",
       "      <td>2.0</td>\n",
       "      <td>0.0</td>\n",
       "      <td>1.0</td>\n",
       "      <td>...</td>\n",
       "      <td>1.0</td>\n",
       "      <td>0.0</td>\n",
       "      <td>0.0</td>\n",
       "      <td>0.0</td>\n",
       "      <td>1.0</td>\n",
       "      <td>0.0</td>\n",
       "      <td>0.0</td>\n",
       "      <td>0.0</td>\n",
       "      <td>0.0</td>\n",
       "      <td>0.0</td>\n",
       "    </tr>\n",
       "    <tr>\n",
       "      <th>7843</th>\n",
       "      <td>34430.000000</td>\n",
       "      <td>117.0</td>\n",
       "      <td>16.0</td>\n",
       "      <td>51.0</td>\n",
       "      <td>0.0</td>\n",
       "      <td>8.000000</td>\n",
       "      <td>232.875794</td>\n",
       "      <td>2.0</td>\n",
       "      <td>0.0</td>\n",
       "      <td>0.0</td>\n",
       "      <td>...</td>\n",
       "      <td>0.0</td>\n",
       "      <td>1.0</td>\n",
       "      <td>0.0</td>\n",
       "      <td>0.0</td>\n",
       "      <td>1.0</td>\n",
       "      <td>0.0</td>\n",
       "      <td>0.0</td>\n",
       "      <td>0.0</td>\n",
       "      <td>0.0</td>\n",
       "      <td>0.0</td>\n",
       "    </tr>\n",
       "  </tbody>\n",
       "</table>\n",
       "<p>7844 rows × 2657 columns</p>\n",
       "</div>"
      ],
      "text/plain": [
       "            Income  Monthly.Premium.Auto  Months.Since.Last.Claim  \\\n",
       "0     43478.000000                  82.0                     18.0   \n",
       "1         0.000000                 128.0                     15.0   \n",
       "2     34986.000000                  91.0                      7.0   \n",
       "3     19240.000000                  99.0                     25.0   \n",
       "4     73758.000000                  74.0                     27.0   \n",
       "...            ...                   ...                      ...   \n",
       "7839  37454.645761                  68.0                     21.0   \n",
       "7840  53375.000000                  79.0                     20.0   \n",
       "7841  27444.000000                  66.0                     21.0   \n",
       "7842      0.000000                  88.0                      2.0   \n",
       "7843  34430.000000                 117.0                     16.0   \n",
       "\n",
       "      Months.Since.Policy.Inception  Number.of.Open.Complaints  \\\n",
       "0                              34.0                        0.0   \n",
       "1                              37.0                        0.0   \n",
       "2                              75.0                        0.0   \n",
       "3                              69.0                        0.0   \n",
       "4                               3.0                        0.0   \n",
       "...                             ...                        ...   \n",
       "7839                           16.0                        0.0   \n",
       "7840                           92.0                        0.0   \n",
       "7841                           88.0                        0.0   \n",
       "7842                           43.0                        0.0   \n",
       "7843                           51.0                        0.0   \n",
       "\n",
       "      Number.of.Policies  Total.Claim.Amount  Vehicle.Size  Coverage_Basic  \\\n",
       "0               7.000000          582.690575           2.0             0.0   \n",
       "1               2.000000         1345.317161           2.0             0.0   \n",
       "2               1.000000           73.839514           2.0             0.0   \n",
       "3               1.000000          475.200000           3.0             0.0   \n",
       "4               3.000000           99.509191           3.0             1.0   \n",
       "...                  ...                 ...           ...             ...   \n",
       "7839            2.978179          504.000000           2.0             1.0   \n",
       "7840            2.000000          127.322656           2.0             0.0   \n",
       "7841            3.000000          313.931213           1.0             1.0   \n",
       "7842            3.000000          539.280951           2.0             0.0   \n",
       "7843            8.000000          232.875794           2.0             0.0   \n",
       "\n",
       "      Coverage_Extended  ...  Sales.Channel_Agent  Sales.Channel_Branch  \\\n",
       "0                   1.0  ...                  0.0                   0.0   \n",
       "1                   1.0  ...                  1.0                   0.0   \n",
       "2                   1.0  ...                  0.0                   0.0   \n",
       "3                   1.0  ...                  0.0                   0.0   \n",
       "4                   0.0  ...                  0.0                   1.0   \n",
       "...                 ...  ...                  ...                   ...   \n",
       "7839                0.0  ...                  0.0                   0.0   \n",
       "7840                1.0  ...                  1.0                   0.0   \n",
       "7841                0.0  ...                  0.0                   0.0   \n",
       "7842                1.0  ...                  1.0                   0.0   \n",
       "7843                0.0  ...                  0.0                   1.0   \n",
       "\n",
       "      Sales.Channel_Call Center  Sales.Channel_Web  \\\n",
       "0                           1.0                0.0   \n",
       "1                           0.0                0.0   \n",
       "2                           0.0                1.0   \n",
       "3                           1.0                0.0   \n",
       "4                           0.0                0.0   \n",
       "...                         ...                ...   \n",
       "7839                        1.0                0.0   \n",
       "7840                        0.0                0.0   \n",
       "7841                        0.0                1.0   \n",
       "7842                        0.0                0.0   \n",
       "7843                        0.0                0.0   \n",
       "\n",
       "      Vehicle.Class_Four-Door Car  Vehicle.Class_Luxury Car  \\\n",
       "0                             1.0                       0.0   \n",
       "1                             0.0                       0.0   \n",
       "2                             1.0                       0.0   \n",
       "3                             1.0                       0.0   \n",
       "4                             1.0                       0.0   \n",
       "...                           ...                       ...   \n",
       "7839                          1.0                       0.0   \n",
       "7840                          1.0                       0.0   \n",
       "7841                          1.0                       0.0   \n",
       "7842                          1.0                       0.0   \n",
       "7843                          1.0                       0.0   \n",
       "\n",
       "      Vehicle.Class_Luxury SUV  Vehicle.Class_SUV  Vehicle.Class_Sports Car  \\\n",
       "0                          0.0                0.0                       0.0   \n",
       "1                          0.0                1.0                       0.0   \n",
       "2                          0.0                0.0                       0.0   \n",
       "3                          0.0                0.0                       0.0   \n",
       "4                          0.0                0.0                       0.0   \n",
       "...                        ...                ...                       ...   \n",
       "7839                       0.0                0.0                       0.0   \n",
       "7840                       0.0                0.0                       0.0   \n",
       "7841                       0.0                0.0                       0.0   \n",
       "7842                       0.0                0.0                       0.0   \n",
       "7843                       0.0                0.0                       0.0   \n",
       "\n",
       "      Vehicle.Class_Two-Door Car  \n",
       "0                            0.0  \n",
       "1                            0.0  \n",
       "2                            0.0  \n",
       "3                            0.0  \n",
       "4                            0.0  \n",
       "...                          ...  \n",
       "7839                         0.0  \n",
       "7840                         0.0  \n",
       "7841                         0.0  \n",
       "7842                         0.0  \n",
       "7843                         0.0  \n",
       "\n",
       "[7844 rows x 2657 columns]"
      ]
     },
     "execution_count": 97,
     "metadata": {},
     "output_type": "execute_result"
    }
   ],
   "source": [
    "###concating both num and catdum data\n",
    "train_data=pd.concat([xtrain_numdata,xtrain_cat],axis=1)\n",
    "train_data\n"
   ]
  },
  {
   "cell_type": "code",
   "execution_count": 98,
   "id": "b2aa7680",
   "metadata": {
    "scrolled": true
   },
   "outputs": [
    {
     "data": {
      "text/html": [
       "<div>\n",
       "<style scoped>\n",
       "    .dataframe tbody tr th:only-of-type {\n",
       "        vertical-align: middle;\n",
       "    }\n",
       "\n",
       "    .dataframe tbody tr th {\n",
       "        vertical-align: top;\n",
       "    }\n",
       "\n",
       "    .dataframe thead th {\n",
       "        text-align: right;\n",
       "    }\n",
       "</style>\n",
       "<table border=\"1\" class=\"dataframe\">\n",
       "  <thead>\n",
       "    <tr style=\"text-align: right;\">\n",
       "      <th></th>\n",
       "      <th>Income</th>\n",
       "      <th>Monthly.Premium.Auto</th>\n",
       "      <th>Months.Since.Last.Claim</th>\n",
       "      <th>Months.Since.Policy.Inception</th>\n",
       "      <th>Number.of.Open.Complaints</th>\n",
       "      <th>Number.of.Policies</th>\n",
       "      <th>Total.Claim.Amount</th>\n",
       "      <th>Vehicle.Size</th>\n",
       "      <th>Coverage_Basic</th>\n",
       "      <th>Coverage_Extended</th>\n",
       "      <th>...</th>\n",
       "      <th>Sales.Channel_Agent</th>\n",
       "      <th>Sales.Channel_Branch</th>\n",
       "      <th>Sales.Channel_Call Center</th>\n",
       "      <th>Sales.Channel_Web</th>\n",
       "      <th>Vehicle.Class_Four-Door Car</th>\n",
       "      <th>Vehicle.Class_Luxury Car</th>\n",
       "      <th>Vehicle.Class_Luxury SUV</th>\n",
       "      <th>Vehicle.Class_SUV</th>\n",
       "      <th>Vehicle.Class_Sports Car</th>\n",
       "      <th>Vehicle.Class_Two-Door Car</th>\n",
       "    </tr>\n",
       "  </thead>\n",
       "  <tbody>\n",
       "    <tr>\n",
       "      <th>0</th>\n",
       "      <td>22239.0</td>\n",
       "      <td>62.000000</td>\n",
       "      <td>34.0</td>\n",
       "      <td>85.0</td>\n",
       "      <td>0.0</td>\n",
       "      <td>1.0</td>\n",
       "      <td>297.600000</td>\n",
       "      <td>3.0</td>\n",
       "      <td>1.0</td>\n",
       "      <td>0.0</td>\n",
       "      <td>...</td>\n",
       "      <td>0.0</td>\n",
       "      <td>1.0</td>\n",
       "      <td>0.0</td>\n",
       "      <td>0.0</td>\n",
       "      <td>1.0</td>\n",
       "      <td>0.0</td>\n",
       "      <td>0.0</td>\n",
       "      <td>0.0</td>\n",
       "      <td>0.0</td>\n",
       "      <td>0.0</td>\n",
       "    </tr>\n",
       "    <tr>\n",
       "      <th>1</th>\n",
       "      <td>21514.0</td>\n",
       "      <td>93.579786</td>\n",
       "      <td>0.0</td>\n",
       "      <td>59.0</td>\n",
       "      <td>0.0</td>\n",
       "      <td>2.0</td>\n",
       "      <td>257.248789</td>\n",
       "      <td>2.0</td>\n",
       "      <td>1.0</td>\n",
       "      <td>0.0</td>\n",
       "      <td>...</td>\n",
       "      <td>1.0</td>\n",
       "      <td>0.0</td>\n",
       "      <td>0.0</td>\n",
       "      <td>0.0</td>\n",
       "      <td>0.0</td>\n",
       "      <td>0.0</td>\n",
       "      <td>0.0</td>\n",
       "      <td>0.0</td>\n",
       "      <td>0.0</td>\n",
       "      <td>1.0</td>\n",
       "    </tr>\n",
       "    <tr>\n",
       "      <th>2</th>\n",
       "      <td>86355.0</td>\n",
       "      <td>118.000000</td>\n",
       "      <td>27.0</td>\n",
       "      <td>86.0</td>\n",
       "      <td>0.0</td>\n",
       "      <td>2.0</td>\n",
       "      <td>285.418473</td>\n",
       "      <td>1.0</td>\n",
       "      <td>1.0</td>\n",
       "      <td>0.0</td>\n",
       "      <td>...</td>\n",
       "      <td>1.0</td>\n",
       "      <td>0.0</td>\n",
       "      <td>0.0</td>\n",
       "      <td>0.0</td>\n",
       "      <td>0.0</td>\n",
       "      <td>0.0</td>\n",
       "      <td>0.0</td>\n",
       "      <td>0.0</td>\n",
       "      <td>1.0</td>\n",
       "      <td>0.0</td>\n",
       "    </tr>\n",
       "    <tr>\n",
       "      <th>3</th>\n",
       "      <td>32021.0</td>\n",
       "      <td>70.000000</td>\n",
       "      <td>12.0</td>\n",
       "      <td>58.0</td>\n",
       "      <td>0.0</td>\n",
       "      <td>2.0</td>\n",
       "      <td>336.000000</td>\n",
       "      <td>3.0</td>\n",
       "      <td>1.0</td>\n",
       "      <td>0.0</td>\n",
       "      <td>...</td>\n",
       "      <td>0.0</td>\n",
       "      <td>0.0</td>\n",
       "      <td>1.0</td>\n",
       "      <td>0.0</td>\n",
       "      <td>1.0</td>\n",
       "      <td>0.0</td>\n",
       "      <td>0.0</td>\n",
       "      <td>0.0</td>\n",
       "      <td>0.0</td>\n",
       "      <td>0.0</td>\n",
       "    </tr>\n",
       "    <tr>\n",
       "      <th>4</th>\n",
       "      <td>31063.0</td>\n",
       "      <td>92.000000</td>\n",
       "      <td>20.0</td>\n",
       "      <td>19.0</td>\n",
       "      <td>0.0</td>\n",
       "      <td>2.0</td>\n",
       "      <td>441.600000</td>\n",
       "      <td>3.0</td>\n",
       "      <td>0.0</td>\n",
       "      <td>1.0</td>\n",
       "      <td>...</td>\n",
       "      <td>1.0</td>\n",
       "      <td>0.0</td>\n",
       "      <td>0.0</td>\n",
       "      <td>0.0</td>\n",
       "      <td>1.0</td>\n",
       "      <td>0.0</td>\n",
       "      <td>0.0</td>\n",
       "      <td>0.0</td>\n",
       "      <td>0.0</td>\n",
       "      <td>0.0</td>\n",
       "    </tr>\n",
       "  </tbody>\n",
       "</table>\n",
       "<p>5 rows × 2657 columns</p>\n",
       "</div>"
      ],
      "text/plain": [
       "    Income  Monthly.Premium.Auto  Months.Since.Last.Claim  \\\n",
       "0  22239.0             62.000000                     34.0   \n",
       "1  21514.0             93.579786                      0.0   \n",
       "2  86355.0            118.000000                     27.0   \n",
       "3  32021.0             70.000000                     12.0   \n",
       "4  31063.0             92.000000                     20.0   \n",
       "\n",
       "   Months.Since.Policy.Inception  Number.of.Open.Complaints  \\\n",
       "0                           85.0                        0.0   \n",
       "1                           59.0                        0.0   \n",
       "2                           86.0                        0.0   \n",
       "3                           58.0                        0.0   \n",
       "4                           19.0                        0.0   \n",
       "\n",
       "   Number.of.Policies  Total.Claim.Amount  Vehicle.Size  Coverage_Basic  \\\n",
       "0                 1.0          297.600000           3.0             1.0   \n",
       "1                 2.0          257.248789           2.0             1.0   \n",
       "2                 2.0          285.418473           1.0             1.0   \n",
       "3                 2.0          336.000000           3.0             1.0   \n",
       "4                 2.0          441.600000           3.0             0.0   \n",
       "\n",
       "   Coverage_Extended  ...  Sales.Channel_Agent  Sales.Channel_Branch  \\\n",
       "0                0.0  ...                  0.0                   1.0   \n",
       "1                0.0  ...                  1.0                   0.0   \n",
       "2                0.0  ...                  1.0                   0.0   \n",
       "3                0.0  ...                  0.0                   0.0   \n",
       "4                1.0  ...                  1.0                   0.0   \n",
       "\n",
       "   Sales.Channel_Call Center  Sales.Channel_Web  Vehicle.Class_Four-Door Car  \\\n",
       "0                        0.0                0.0                          1.0   \n",
       "1                        0.0                0.0                          0.0   \n",
       "2                        0.0                0.0                          0.0   \n",
       "3                        1.0                0.0                          1.0   \n",
       "4                        0.0                0.0                          1.0   \n",
       "\n",
       "   Vehicle.Class_Luxury Car  Vehicle.Class_Luxury SUV  Vehicle.Class_SUV  \\\n",
       "0                       0.0                       0.0                0.0   \n",
       "1                       0.0                       0.0                0.0   \n",
       "2                       0.0                       0.0                0.0   \n",
       "3                       0.0                       0.0                0.0   \n",
       "4                       0.0                       0.0                0.0   \n",
       "\n",
       "   Vehicle.Class_Sports Car  Vehicle.Class_Two-Door Car  \n",
       "0                       0.0                         0.0  \n",
       "1                       0.0                         1.0  \n",
       "2                       1.0                         0.0  \n",
       "3                       0.0                         0.0  \n",
       "4                       0.0                         0.0  \n",
       "\n",
       "[5 rows x 2657 columns]"
      ]
     },
     "execution_count": 98,
     "metadata": {},
     "output_type": "execute_result"
    }
   ],
   "source": [
    "\n",
    "valid_data=pd.concat([xtest_numdata,xtest_cat],axis=1)\n",
    "valid_data.head()"
   ]
  },
  {
   "cell_type": "code",
   "execution_count": 99,
   "id": "8f6d3bea",
   "metadata": {},
   "outputs": [
    {
     "data": {
      "text/html": [
       "<div>\n",
       "<style scoped>\n",
       "    .dataframe tbody tr th:only-of-type {\n",
       "        vertical-align: middle;\n",
       "    }\n",
       "\n",
       "    .dataframe tbody tr th {\n",
       "        vertical-align: top;\n",
       "    }\n",
       "\n",
       "    .dataframe thead th {\n",
       "        text-align: right;\n",
       "    }\n",
       "</style>\n",
       "<table border=\"1\" class=\"dataframe\">\n",
       "  <thead>\n",
       "    <tr style=\"text-align: right;\">\n",
       "      <th></th>\n",
       "      <th>Income</th>\n",
       "      <th>Monthly.Premium.Auto</th>\n",
       "      <th>Months.Since.Last.Claim</th>\n",
       "      <th>Months.Since.Policy.Inception</th>\n",
       "      <th>Number.of.Open.Complaints</th>\n",
       "      <th>Number.of.Policies</th>\n",
       "      <th>Total.Claim.Amount</th>\n",
       "      <th>Vehicle.Size</th>\n",
       "      <th>Coverage_Basic</th>\n",
       "      <th>Coverage_Extended</th>\n",
       "      <th>...</th>\n",
       "      <th>Sales.Channel_Agent</th>\n",
       "      <th>Sales.Channel_Branch</th>\n",
       "      <th>Sales.Channel_Call Center</th>\n",
       "      <th>Sales.Channel_Web</th>\n",
       "      <th>Vehicle.Class_Four-Door Car</th>\n",
       "      <th>Vehicle.Class_Luxury Car</th>\n",
       "      <th>Vehicle.Class_Luxury SUV</th>\n",
       "      <th>Vehicle.Class_SUV</th>\n",
       "      <th>Vehicle.Class_Sports Car</th>\n",
       "      <th>Vehicle.Class_Two-Door Car</th>\n",
       "    </tr>\n",
       "  </thead>\n",
       "  <tbody>\n",
       "    <tr>\n",
       "      <th>0</th>\n",
       "      <td>43836.0</td>\n",
       "      <td>73.0</td>\n",
       "      <td>12.0</td>\n",
       "      <td>44.0</td>\n",
       "      <td>0.0</td>\n",
       "      <td>1.0</td>\n",
       "      <td>138.130879</td>\n",
       "      <td>2.0</td>\n",
       "      <td>1.0</td>\n",
       "      <td>0.0</td>\n",
       "      <td>...</td>\n",
       "      <td>1.0</td>\n",
       "      <td>0.0</td>\n",
       "      <td>0.0</td>\n",
       "      <td>0.0</td>\n",
       "      <td>1.0</td>\n",
       "      <td>0.0</td>\n",
       "      <td>0.0</td>\n",
       "      <td>0.0</td>\n",
       "      <td>0.0</td>\n",
       "      <td>0.0</td>\n",
       "    </tr>\n",
       "    <tr>\n",
       "      <th>1</th>\n",
       "      <td>28812.0</td>\n",
       "      <td>93.0</td>\n",
       "      <td>17.0</td>\n",
       "      <td>7.0</td>\n",
       "      <td>0.0</td>\n",
       "      <td>8.0</td>\n",
       "      <td>425.527834</td>\n",
       "      <td>2.0</td>\n",
       "      <td>0.0</td>\n",
       "      <td>1.0</td>\n",
       "      <td>...</td>\n",
       "      <td>0.0</td>\n",
       "      <td>1.0</td>\n",
       "      <td>0.0</td>\n",
       "      <td>0.0</td>\n",
       "      <td>1.0</td>\n",
       "      <td>0.0</td>\n",
       "      <td>0.0</td>\n",
       "      <td>0.0</td>\n",
       "      <td>0.0</td>\n",
       "      <td>0.0</td>\n",
       "    </tr>\n",
       "    <tr>\n",
       "      <th>2</th>\n",
       "      <td>77026.0</td>\n",
       "      <td>110.0</td>\n",
       "      <td>9.0</td>\n",
       "      <td>82.0</td>\n",
       "      <td>2.0</td>\n",
       "      <td>3.0</td>\n",
       "      <td>472.029737</td>\n",
       "      <td>2.0</td>\n",
       "      <td>0.0</td>\n",
       "      <td>0.0</td>\n",
       "      <td>...</td>\n",
       "      <td>1.0</td>\n",
       "      <td>0.0</td>\n",
       "      <td>0.0</td>\n",
       "      <td>0.0</td>\n",
       "      <td>1.0</td>\n",
       "      <td>0.0</td>\n",
       "      <td>0.0</td>\n",
       "      <td>0.0</td>\n",
       "      <td>0.0</td>\n",
       "      <td>0.0</td>\n",
       "    </tr>\n",
       "    <tr>\n",
       "      <th>3</th>\n",
       "      <td>24599.0</td>\n",
       "      <td>64.0</td>\n",
       "      <td>12.0</td>\n",
       "      <td>50.0</td>\n",
       "      <td>1.0</td>\n",
       "      <td>2.0</td>\n",
       "      <td>42.920271</td>\n",
       "      <td>2.0</td>\n",
       "      <td>1.0</td>\n",
       "      <td>0.0</td>\n",
       "      <td>...</td>\n",
       "      <td>0.0</td>\n",
       "      <td>1.0</td>\n",
       "      <td>0.0</td>\n",
       "      <td>0.0</td>\n",
       "      <td>1.0</td>\n",
       "      <td>0.0</td>\n",
       "      <td>0.0</td>\n",
       "      <td>0.0</td>\n",
       "      <td>0.0</td>\n",
       "      <td>0.0</td>\n",
       "    </tr>\n",
       "    <tr>\n",
       "      <th>4</th>\n",
       "      <td>13789.0</td>\n",
       "      <td>79.0</td>\n",
       "      <td>8.0</td>\n",
       "      <td>49.0</td>\n",
       "      <td>0.0</td>\n",
       "      <td>1.0</td>\n",
       "      <td>379.200000</td>\n",
       "      <td>2.0</td>\n",
       "      <td>0.0</td>\n",
       "      <td>1.0</td>\n",
       "      <td>...</td>\n",
       "      <td>0.0</td>\n",
       "      <td>0.0</td>\n",
       "      <td>1.0</td>\n",
       "      <td>0.0</td>\n",
       "      <td>1.0</td>\n",
       "      <td>0.0</td>\n",
       "      <td>0.0</td>\n",
       "      <td>0.0</td>\n",
       "      <td>0.0</td>\n",
       "      <td>0.0</td>\n",
       "    </tr>\n",
       "  </tbody>\n",
       "</table>\n",
       "<p>5 rows × 2657 columns</p>\n",
       "</div>"
      ],
      "text/plain": [
       "    Income  Monthly.Premium.Auto  Months.Since.Last.Claim  \\\n",
       "0  43836.0                  73.0                     12.0   \n",
       "1  28812.0                  93.0                     17.0   \n",
       "2  77026.0                 110.0                      9.0   \n",
       "3  24599.0                  64.0                     12.0   \n",
       "4  13789.0                  79.0                      8.0   \n",
       "\n",
       "   Months.Since.Policy.Inception  Number.of.Open.Complaints  \\\n",
       "0                           44.0                        0.0   \n",
       "1                            7.0                        0.0   \n",
       "2                           82.0                        2.0   \n",
       "3                           50.0                        1.0   \n",
       "4                           49.0                        0.0   \n",
       "\n",
       "   Number.of.Policies  Total.Claim.Amount  Vehicle.Size  Coverage_Basic  \\\n",
       "0                 1.0          138.130879           2.0             1.0   \n",
       "1                 8.0          425.527834           2.0             0.0   \n",
       "2                 3.0          472.029737           2.0             0.0   \n",
       "3                 2.0           42.920271           2.0             1.0   \n",
       "4                 1.0          379.200000           2.0             0.0   \n",
       "\n",
       "   Coverage_Extended  ...  Sales.Channel_Agent  Sales.Channel_Branch  \\\n",
       "0                0.0  ...                  1.0                   0.0   \n",
       "1                1.0  ...                  0.0                   1.0   \n",
       "2                0.0  ...                  1.0                   0.0   \n",
       "3                0.0  ...                  0.0                   1.0   \n",
       "4                1.0  ...                  0.0                   0.0   \n",
       "\n",
       "   Sales.Channel_Call Center  Sales.Channel_Web  Vehicle.Class_Four-Door Car  \\\n",
       "0                        0.0                0.0                          1.0   \n",
       "1                        0.0                0.0                          1.0   \n",
       "2                        0.0                0.0                          1.0   \n",
       "3                        0.0                0.0                          1.0   \n",
       "4                        1.0                0.0                          1.0   \n",
       "\n",
       "   Vehicle.Class_Luxury Car  Vehicle.Class_Luxury SUV  Vehicle.Class_SUV  \\\n",
       "0                       0.0                       0.0                0.0   \n",
       "1                       0.0                       0.0                0.0   \n",
       "2                       0.0                       0.0                0.0   \n",
       "3                       0.0                       0.0                0.0   \n",
       "4                       0.0                       0.0                0.0   \n",
       "\n",
       "   Vehicle.Class_Sports Car  Vehicle.Class_Two-Door Car  \n",
       "0                       0.0                         0.0  \n",
       "1                       0.0                         0.0  \n",
       "2                       0.0                         0.0  \n",
       "3                       0.0                         0.0  \n",
       "4                       0.0                         0.0  \n",
       "\n",
       "[5 rows x 2657 columns]"
      ]
     },
     "execution_count": 99,
     "metadata": {},
     "output_type": "execute_result"
    }
   ],
   "source": [
    "test_data=pd.concat([test_numdata,test_cat],axis=1)\n",
    "test_data.head()"
   ]
  },
  {
   "cell_type": "code",
   "execution_count": null,
   "id": "fb75da37",
   "metadata": {},
   "outputs": [],
   "source": []
  },
  {
   "cell_type": "markdown",
   "id": "ab286d9a",
   "metadata": {},
   "source": [
    "## Model building"
   ]
  },
  {
   "cell_type": "markdown",
   "id": "accbf6a3",
   "metadata": {},
   "source": [
    "### Model1: linear_regression_model"
   ]
  },
  {
   "cell_type": "code",
   "execution_count": 100,
   "id": "edd24569",
   "metadata": {},
   "outputs": [
    {
     "data": {
      "text/html": [
       "<style>#sk-container-id-6 {color: black;background-color: white;}#sk-container-id-6 pre{padding: 0;}#sk-container-id-6 div.sk-toggleable {background-color: white;}#sk-container-id-6 label.sk-toggleable__label {cursor: pointer;display: block;width: 100%;margin-bottom: 0;padding: 0.3em;box-sizing: border-box;text-align: center;}#sk-container-id-6 label.sk-toggleable__label-arrow:before {content: \"▸\";float: left;margin-right: 0.25em;color: #696969;}#sk-container-id-6 label.sk-toggleable__label-arrow:hover:before {color: black;}#sk-container-id-6 div.sk-estimator:hover label.sk-toggleable__label-arrow:before {color: black;}#sk-container-id-6 div.sk-toggleable__content {max-height: 0;max-width: 0;overflow: hidden;text-align: left;background-color: #f0f8ff;}#sk-container-id-6 div.sk-toggleable__content pre {margin: 0.2em;color: black;border-radius: 0.25em;background-color: #f0f8ff;}#sk-container-id-6 input.sk-toggleable__control:checked~div.sk-toggleable__content {max-height: 200px;max-width: 100%;overflow: auto;}#sk-container-id-6 input.sk-toggleable__control:checked~label.sk-toggleable__label-arrow:before {content: \"▾\";}#sk-container-id-6 div.sk-estimator input.sk-toggleable__control:checked~label.sk-toggleable__label {background-color: #d4ebff;}#sk-container-id-6 div.sk-label input.sk-toggleable__control:checked~label.sk-toggleable__label {background-color: #d4ebff;}#sk-container-id-6 input.sk-hidden--visually {border: 0;clip: rect(1px 1px 1px 1px);clip: rect(1px, 1px, 1px, 1px);height: 1px;margin: -1px;overflow: hidden;padding: 0;position: absolute;width: 1px;}#sk-container-id-6 div.sk-estimator {font-family: monospace;background-color: #f0f8ff;border: 1px dotted black;border-radius: 0.25em;box-sizing: border-box;margin-bottom: 0.5em;}#sk-container-id-6 div.sk-estimator:hover {background-color: #d4ebff;}#sk-container-id-6 div.sk-parallel-item::after {content: \"\";width: 100%;border-bottom: 1px solid gray;flex-grow: 1;}#sk-container-id-6 div.sk-label:hover label.sk-toggleable__label {background-color: #d4ebff;}#sk-container-id-6 div.sk-serial::before {content: \"\";position: absolute;border-left: 1px solid gray;box-sizing: border-box;top: 0;bottom: 0;left: 50%;z-index: 0;}#sk-container-id-6 div.sk-serial {display: flex;flex-direction: column;align-items: center;background-color: white;padding-right: 0.2em;padding-left: 0.2em;position: relative;}#sk-container-id-6 div.sk-item {position: relative;z-index: 1;}#sk-container-id-6 div.sk-parallel {display: flex;align-items: stretch;justify-content: center;background-color: white;position: relative;}#sk-container-id-6 div.sk-item::before, #sk-container-id-6 div.sk-parallel-item::before {content: \"\";position: absolute;border-left: 1px solid gray;box-sizing: border-box;top: 0;bottom: 0;left: 50%;z-index: -1;}#sk-container-id-6 div.sk-parallel-item {display: flex;flex-direction: column;z-index: 1;position: relative;background-color: white;}#sk-container-id-6 div.sk-parallel-item:first-child::after {align-self: flex-end;width: 50%;}#sk-container-id-6 div.sk-parallel-item:last-child::after {align-self: flex-start;width: 50%;}#sk-container-id-6 div.sk-parallel-item:only-child::after {width: 0;}#sk-container-id-6 div.sk-dashed-wrapped {border: 1px dashed gray;margin: 0 0.4em 0.5em 0.4em;box-sizing: border-box;padding-bottom: 0.4em;background-color: white;}#sk-container-id-6 div.sk-label label {font-family: monospace;font-weight: bold;display: inline-block;line-height: 1.2em;}#sk-container-id-6 div.sk-label-container {text-align: center;}#sk-container-id-6 div.sk-container {/* jupyter's `normalize.less` sets `[hidden] { display: none; }` but bootstrap.min.css set `[hidden] { display: none !important; }` so we also need the `!important` here to be able to override the default hidden behavior on the sphinx rendered scikit-learn.org. See: https://github.com/scikit-learn/scikit-learn/issues/21755 */display: inline-block !important;position: relative;}#sk-container-id-6 div.sk-text-repr-fallback {display: none;}</style><div id=\"sk-container-id-6\" class=\"sk-top-container\"><div class=\"sk-text-repr-fallback\"><pre>LinearRegression()</pre><b>In a Jupyter environment, please rerun this cell to show the HTML representation or trust the notebook. <br />On GitHub, the HTML representation is unable to render, please try loading this page with nbviewer.org.</b></div><div class=\"sk-container\" hidden><div class=\"sk-item\"><div class=\"sk-estimator sk-toggleable\"><input class=\"sk-toggleable__control sk-hidden--visually\" id=\"sk-estimator-id-6\" type=\"checkbox\" checked><label for=\"sk-estimator-id-6\" class=\"sk-toggleable__label sk-toggleable__label-arrow\">LinearRegression</label><div class=\"sk-toggleable__content\"><pre>LinearRegression()</pre></div></div></div></div></div>"
      ],
      "text/plain": [
       "LinearRegression()"
      ]
     },
     "execution_count": 100,
     "metadata": {},
     "output_type": "execute_result"
    }
   ],
   "source": [
    "from sklearn.linear_model import LinearRegression\n",
    "from sklearn.metrics import mean_squared_error as mse\n",
    "linear_reg=LinearRegression()\n",
    "linear_reg.fit(train_data,y_train)"
   ]
  },
  {
   "cell_type": "code",
   "execution_count": 101,
   "id": "4c3fe222",
   "metadata": {},
   "outputs": [],
   "source": [
    "train_preds=linear_reg.predict(train_data)\n",
    "valid_preds=linear_reg.predict(valid_data)"
   ]
  },
  {
   "cell_type": "code",
   "execution_count": 102,
   "id": "ecbb817f",
   "metadata": {},
   "outputs": [
    {
     "name": "stdout",
     "output_type": "stream",
     "text": [
      "-------RMSE on Train Data-----------\n",
      "5116.043132723676\n",
      "-------RMSE on validation Data-----------\n",
      "7073.488627005815\n"
     ]
    }
   ],
   "source": [
    "print(\"-------RMSE on Train Data-----------\")\n",
    "print(np.sqrt(mse(y_train,train_preds)))\n",
    "print(\"-------RMSE on validation Data-----------\")\n",
    "print(np.sqrt(mse(y_test,valid_preds)))"
   ]
  },
  {
   "cell_type": "markdown",
   "id": "3a0d9a7c",
   "metadata": {},
   "source": [
    "## Creating submission file for model1"
   ]
  },
  {
   "cell_type": "code",
   "execution_count": 103,
   "id": "ed95eea1",
   "metadata": {},
   "outputs": [
    {
     "data": {
      "text/html": [
       "<div>\n",
       "<style scoped>\n",
       "    .dataframe tbody tr th:only-of-type {\n",
       "        vertical-align: middle;\n",
       "    }\n",
       "\n",
       "    .dataframe tbody tr th {\n",
       "        vertical-align: top;\n",
       "    }\n",
       "\n",
       "    .dataframe thead th {\n",
       "        text-align: right;\n",
       "    }\n",
       "</style>\n",
       "<table border=\"1\" class=\"dataframe\">\n",
       "  <thead>\n",
       "    <tr style=\"text-align: right;\">\n",
       "      <th></th>\n",
       "      <th>Customer.Lifetime.Value</th>\n",
       "    </tr>\n",
       "  </thead>\n",
       "  <tbody>\n",
       "    <tr>\n",
       "      <th>0</th>\n",
       "      <td>6287.155409</td>\n",
       "    </tr>\n",
       "    <tr>\n",
       "      <th>1</th>\n",
       "      <td>7982.235682</td>\n",
       "    </tr>\n",
       "    <tr>\n",
       "      <th>2</th>\n",
       "      <td>12051.237119</td>\n",
       "    </tr>\n",
       "    <tr>\n",
       "      <th>3</th>\n",
       "      <td>4719.093086</td>\n",
       "    </tr>\n",
       "    <tr>\n",
       "      <th>4</th>\n",
       "      <td>5224.198313</td>\n",
       "    </tr>\n",
       "    <tr>\n",
       "      <th>...</th>\n",
       "      <td>...</td>\n",
       "    </tr>\n",
       "    <tr>\n",
       "      <th>1762</th>\n",
       "      <td>14355.160885</td>\n",
       "    </tr>\n",
       "    <tr>\n",
       "      <th>1763</th>\n",
       "      <td>8199.712839</td>\n",
       "    </tr>\n",
       "    <tr>\n",
       "      <th>1764</th>\n",
       "      <td>15115.282703</td>\n",
       "    </tr>\n",
       "    <tr>\n",
       "      <th>1765</th>\n",
       "      <td>6611.546889</td>\n",
       "    </tr>\n",
       "    <tr>\n",
       "      <th>1766</th>\n",
       "      <td>5423.230390</td>\n",
       "    </tr>\n",
       "  </tbody>\n",
       "</table>\n",
       "<p>1767 rows × 1 columns</p>\n",
       "</div>"
      ],
      "text/plain": [
       "      Customer.Lifetime.Value\n",
       "0                 6287.155409\n",
       "1                 7982.235682\n",
       "2                12051.237119\n",
       "3                 4719.093086\n",
       "4                 5224.198313\n",
       "...                       ...\n",
       "1762             14355.160885\n",
       "1763              8199.712839\n",
       "1764             15115.282703\n",
       "1765              6611.546889\n",
       "1766              5423.230390\n",
       "\n",
       "[1767 rows x 1 columns]"
      ]
     },
     "execution_count": 103,
     "metadata": {},
     "output_type": "execute_result"
    }
   ],
   "source": [
    "\n",
    "col=y_train.columns\n",
    "model1_preds=pd.DataFrame(linear_reg.predict(test_data),columns=col)\n",
    "model1_preds"
   ]
  },
  {
   "cell_type": "code",
   "execution_count": 104,
   "id": "88d953ce",
   "metadata": {},
   "outputs": [
    {
     "data": {
      "text/html": [
       "<div>\n",
       "<style scoped>\n",
       "    .dataframe tbody tr th:only-of-type {\n",
       "        vertical-align: middle;\n",
       "    }\n",
       "\n",
       "    .dataframe tbody tr th {\n",
       "        vertical-align: top;\n",
       "    }\n",
       "\n",
       "    .dataframe thead th {\n",
       "        text-align: right;\n",
       "    }\n",
       "</style>\n",
       "<table border=\"1\" class=\"dataframe\">\n",
       "  <thead>\n",
       "    <tr style=\"text-align: right;\">\n",
       "      <th></th>\n",
       "      <th>CustomerID</th>\n",
       "    </tr>\n",
       "  </thead>\n",
       "  <tbody>\n",
       "    <tr>\n",
       "      <th>0</th>\n",
       "      <td>17</td>\n",
       "    </tr>\n",
       "    <tr>\n",
       "      <th>1</th>\n",
       "      <td>19</td>\n",
       "    </tr>\n",
       "    <tr>\n",
       "      <th>2</th>\n",
       "      <td>29</td>\n",
       "    </tr>\n",
       "    <tr>\n",
       "      <th>3</th>\n",
       "      <td>34</td>\n",
       "    </tr>\n",
       "    <tr>\n",
       "      <th>4</th>\n",
       "      <td>37</td>\n",
       "    </tr>\n",
       "  </tbody>\n",
       "</table>\n",
       "</div>"
      ],
      "text/plain": [
       "   CustomerID\n",
       "0          17\n",
       "1          19\n",
       "2          29\n",
       "3          34\n",
       "4          37"
      ]
     },
     "execution_count": 104,
     "metadata": {},
     "output_type": "execute_result"
    }
   ],
   "source": [
    "subm=df_test[[\"CustomerID\"]]\n",
    "subm.head()"
   ]
  },
  {
   "cell_type": "code",
   "execution_count": 105,
   "id": "ca31bc29",
   "metadata": {},
   "outputs": [
    {
     "data": {
      "text/html": [
       "<div>\n",
       "<style scoped>\n",
       "    .dataframe tbody tr th:only-of-type {\n",
       "        vertical-align: middle;\n",
       "    }\n",
       "\n",
       "    .dataframe tbody tr th {\n",
       "        vertical-align: top;\n",
       "    }\n",
       "\n",
       "    .dataframe thead th {\n",
       "        text-align: right;\n",
       "    }\n",
       "</style>\n",
       "<table border=\"1\" class=\"dataframe\">\n",
       "  <thead>\n",
       "    <tr style=\"text-align: right;\">\n",
       "      <th></th>\n",
       "      <th>CustomerID</th>\n",
       "      <th>Customer.Lifetime.Value</th>\n",
       "    </tr>\n",
       "  </thead>\n",
       "  <tbody>\n",
       "    <tr>\n",
       "      <th>0</th>\n",
       "      <td>17</td>\n",
       "      <td>6287.155409</td>\n",
       "    </tr>\n",
       "    <tr>\n",
       "      <th>1</th>\n",
       "      <td>19</td>\n",
       "      <td>7982.235682</td>\n",
       "    </tr>\n",
       "    <tr>\n",
       "      <th>2</th>\n",
       "      <td>29</td>\n",
       "      <td>12051.237119</td>\n",
       "    </tr>\n",
       "    <tr>\n",
       "      <th>3</th>\n",
       "      <td>34</td>\n",
       "      <td>4719.093086</td>\n",
       "    </tr>\n",
       "    <tr>\n",
       "      <th>4</th>\n",
       "      <td>37</td>\n",
       "      <td>5224.198313</td>\n",
       "    </tr>\n",
       "    <tr>\n",
       "      <th>...</th>\n",
       "      <td>...</td>\n",
       "      <td>...</td>\n",
       "    </tr>\n",
       "    <tr>\n",
       "      <th>1762</th>\n",
       "      <td>11553</td>\n",
       "      <td>14355.160885</td>\n",
       "    </tr>\n",
       "    <tr>\n",
       "      <th>1763</th>\n",
       "      <td>11557</td>\n",
       "      <td>8199.712839</td>\n",
       "    </tr>\n",
       "    <tr>\n",
       "      <th>1764</th>\n",
       "      <td>11559</td>\n",
       "      <td>15115.282703</td>\n",
       "    </tr>\n",
       "    <tr>\n",
       "      <th>1765</th>\n",
       "      <td>11570</td>\n",
       "      <td>6611.546889</td>\n",
       "    </tr>\n",
       "    <tr>\n",
       "      <th>1766</th>\n",
       "      <td>11572</td>\n",
       "      <td>5423.230390</td>\n",
       "    </tr>\n",
       "  </tbody>\n",
       "</table>\n",
       "<p>1767 rows × 2 columns</p>\n",
       "</div>"
      ],
      "text/plain": [
       "      CustomerID  Customer.Lifetime.Value\n",
       "0             17              6287.155409\n",
       "1             19              7982.235682\n",
       "2             29             12051.237119\n",
       "3             34              4719.093086\n",
       "4             37              5224.198313\n",
       "...          ...                      ...\n",
       "1762       11553             14355.160885\n",
       "1763       11557              8199.712839\n",
       "1764       11559             15115.282703\n",
       "1765       11570              6611.546889\n",
       "1766       11572              5423.230390\n",
       "\n",
       "[1767 rows x 2 columns]"
      ]
     },
     "execution_count": 105,
     "metadata": {},
     "output_type": "execute_result"
    }
   ],
   "source": [
    "submission_model1=pd.concat([subm,model1_preds],axis=1)\n",
    "submission_model1"
   ]
  },
  {
   "cell_type": "markdown",
   "id": "0cf2f8ad",
   "metadata": {},
   "source": [
    "### Model2:Lasso_model"
   ]
  },
  {
   "cell_type": "code",
   "execution_count": 106,
   "id": "35df4d95",
   "metadata": {},
   "outputs": [],
   "source": [
    "from sklearn.linear_model import Lasso\n",
    "lasso=Lasso()"
   ]
  },
  {
   "cell_type": "code",
   "execution_count": 107,
   "id": "d9ba8097",
   "metadata": {},
   "outputs": [],
   "source": [
    "from sklearn.model_selection import GridSearchCV"
   ]
  },
  {
   "cell_type": "code",
   "execution_count": 108,
   "id": "d4199a00",
   "metadata": {},
   "outputs": [],
   "source": [
    "param_grid={\n",
    "    'alpha':[0.001,0.1,1,10,100],\n",
    "    'max_iter':[10,20,30,50,100,150,200],\n",
    "    'random_state':[123,456]}"
   ]
  },
  {
   "cell_type": "code",
   "execution_count": 109,
   "id": "9fc0a370",
   "metadata": {},
   "outputs": [],
   "source": [
    "lasso_grid=GridSearchCV(estimator=lasso,param_grid=param_grid,cv=5,verbose=1)"
   ]
  },
  {
   "cell_type": "code",
   "execution_count": 110,
   "id": "d5fec967",
   "metadata": {},
   "outputs": [
    {
     "name": "stdout",
     "output_type": "stream",
     "text": [
      "Fitting 5 folds for each of 70 candidates, totalling 350 fits\n"
     ]
    },
    {
     "data": {
      "text/html": [
       "<style>#sk-container-id-7 {color: black;background-color: white;}#sk-container-id-7 pre{padding: 0;}#sk-container-id-7 div.sk-toggleable {background-color: white;}#sk-container-id-7 label.sk-toggleable__label {cursor: pointer;display: block;width: 100%;margin-bottom: 0;padding: 0.3em;box-sizing: border-box;text-align: center;}#sk-container-id-7 label.sk-toggleable__label-arrow:before {content: \"▸\";float: left;margin-right: 0.25em;color: #696969;}#sk-container-id-7 label.sk-toggleable__label-arrow:hover:before {color: black;}#sk-container-id-7 div.sk-estimator:hover label.sk-toggleable__label-arrow:before {color: black;}#sk-container-id-7 div.sk-toggleable__content {max-height: 0;max-width: 0;overflow: hidden;text-align: left;background-color: #f0f8ff;}#sk-container-id-7 div.sk-toggleable__content pre {margin: 0.2em;color: black;border-radius: 0.25em;background-color: #f0f8ff;}#sk-container-id-7 input.sk-toggleable__control:checked~div.sk-toggleable__content {max-height: 200px;max-width: 100%;overflow: auto;}#sk-container-id-7 input.sk-toggleable__control:checked~label.sk-toggleable__label-arrow:before {content: \"▾\";}#sk-container-id-7 div.sk-estimator input.sk-toggleable__control:checked~label.sk-toggleable__label {background-color: #d4ebff;}#sk-container-id-7 div.sk-label input.sk-toggleable__control:checked~label.sk-toggleable__label {background-color: #d4ebff;}#sk-container-id-7 input.sk-hidden--visually {border: 0;clip: rect(1px 1px 1px 1px);clip: rect(1px, 1px, 1px, 1px);height: 1px;margin: -1px;overflow: hidden;padding: 0;position: absolute;width: 1px;}#sk-container-id-7 div.sk-estimator {font-family: monospace;background-color: #f0f8ff;border: 1px dotted black;border-radius: 0.25em;box-sizing: border-box;margin-bottom: 0.5em;}#sk-container-id-7 div.sk-estimator:hover {background-color: #d4ebff;}#sk-container-id-7 div.sk-parallel-item::after {content: \"\";width: 100%;border-bottom: 1px solid gray;flex-grow: 1;}#sk-container-id-7 div.sk-label:hover label.sk-toggleable__label {background-color: #d4ebff;}#sk-container-id-7 div.sk-serial::before {content: \"\";position: absolute;border-left: 1px solid gray;box-sizing: border-box;top: 0;bottom: 0;left: 50%;z-index: 0;}#sk-container-id-7 div.sk-serial {display: flex;flex-direction: column;align-items: center;background-color: white;padding-right: 0.2em;padding-left: 0.2em;position: relative;}#sk-container-id-7 div.sk-item {position: relative;z-index: 1;}#sk-container-id-7 div.sk-parallel {display: flex;align-items: stretch;justify-content: center;background-color: white;position: relative;}#sk-container-id-7 div.sk-item::before, #sk-container-id-7 div.sk-parallel-item::before {content: \"\";position: absolute;border-left: 1px solid gray;box-sizing: border-box;top: 0;bottom: 0;left: 50%;z-index: -1;}#sk-container-id-7 div.sk-parallel-item {display: flex;flex-direction: column;z-index: 1;position: relative;background-color: white;}#sk-container-id-7 div.sk-parallel-item:first-child::after {align-self: flex-end;width: 50%;}#sk-container-id-7 div.sk-parallel-item:last-child::after {align-self: flex-start;width: 50%;}#sk-container-id-7 div.sk-parallel-item:only-child::after {width: 0;}#sk-container-id-7 div.sk-dashed-wrapped {border: 1px dashed gray;margin: 0 0.4em 0.5em 0.4em;box-sizing: border-box;padding-bottom: 0.4em;background-color: white;}#sk-container-id-7 div.sk-label label {font-family: monospace;font-weight: bold;display: inline-block;line-height: 1.2em;}#sk-container-id-7 div.sk-label-container {text-align: center;}#sk-container-id-7 div.sk-container {/* jupyter's `normalize.less` sets `[hidden] { display: none; }` but bootstrap.min.css set `[hidden] { display: none !important; }` so we also need the `!important` here to be able to override the default hidden behavior on the sphinx rendered scikit-learn.org. See: https://github.com/scikit-learn/scikit-learn/issues/21755 */display: inline-block !important;position: relative;}#sk-container-id-7 div.sk-text-repr-fallback {display: none;}</style><div id=\"sk-container-id-7\" class=\"sk-top-container\"><div class=\"sk-text-repr-fallback\"><pre>GridSearchCV(cv=5, estimator=Lasso(),\n",
       "             param_grid={&#x27;alpha&#x27;: [0.001, 0.1, 1, 10, 100],\n",
       "                         &#x27;max_iter&#x27;: [10, 20, 30, 50, 100, 150, 200],\n",
       "                         &#x27;random_state&#x27;: [123, 456]},\n",
       "             verbose=1)</pre><b>In a Jupyter environment, please rerun this cell to show the HTML representation or trust the notebook. <br />On GitHub, the HTML representation is unable to render, please try loading this page with nbviewer.org.</b></div><div class=\"sk-container\" hidden><div class=\"sk-item sk-dashed-wrapped\"><div class=\"sk-label-container\"><div class=\"sk-label sk-toggleable\"><input class=\"sk-toggleable__control sk-hidden--visually\" id=\"sk-estimator-id-7\" type=\"checkbox\" ><label for=\"sk-estimator-id-7\" class=\"sk-toggleable__label sk-toggleable__label-arrow\">GridSearchCV</label><div class=\"sk-toggleable__content\"><pre>GridSearchCV(cv=5, estimator=Lasso(),\n",
       "             param_grid={&#x27;alpha&#x27;: [0.001, 0.1, 1, 10, 100],\n",
       "                         &#x27;max_iter&#x27;: [10, 20, 30, 50, 100, 150, 200],\n",
       "                         &#x27;random_state&#x27;: [123, 456]},\n",
       "             verbose=1)</pre></div></div></div><div class=\"sk-parallel\"><div class=\"sk-parallel-item\"><div class=\"sk-item\"><div class=\"sk-label-container\"><div class=\"sk-label sk-toggleable\"><input class=\"sk-toggleable__control sk-hidden--visually\" id=\"sk-estimator-id-8\" type=\"checkbox\" ><label for=\"sk-estimator-id-8\" class=\"sk-toggleable__label sk-toggleable__label-arrow\">estimator: Lasso</label><div class=\"sk-toggleable__content\"><pre>Lasso()</pre></div></div></div><div class=\"sk-serial\"><div class=\"sk-item\"><div class=\"sk-estimator sk-toggleable\"><input class=\"sk-toggleable__control sk-hidden--visually\" id=\"sk-estimator-id-9\" type=\"checkbox\" ><label for=\"sk-estimator-id-9\" class=\"sk-toggleable__label sk-toggleable__label-arrow\">Lasso</label><div class=\"sk-toggleable__content\"><pre>Lasso()</pre></div></div></div></div></div></div></div></div></div></div>"
      ],
      "text/plain": [
       "GridSearchCV(cv=5, estimator=Lasso(),\n",
       "             param_grid={'alpha': [0.001, 0.1, 1, 10, 100],\n",
       "                         'max_iter': [10, 20, 30, 50, 100, 150, 200],\n",
       "                         'random_state': [123, 456]},\n",
       "             verbose=1)"
      ]
     },
     "execution_count": 110,
     "metadata": {},
     "output_type": "execute_result"
    }
   ],
   "source": [
    "lasso_grid.fit(train_data,y_train)"
   ]
  },
  {
   "cell_type": "code",
   "execution_count": 111,
   "id": "90e10dca",
   "metadata": {},
   "outputs": [],
   "source": [
    "train_preds=lasso_grid.predict(train_data)\n",
    "valid_preds=lasso_grid.predict(valid_data)"
   ]
  },
  {
   "cell_type": "code",
   "execution_count": 112,
   "id": "75a8ecc6",
   "metadata": {},
   "outputs": [
    {
     "name": "stdout",
     "output_type": "stream",
     "text": [
      "-------RMSE on Train Data-----------\n",
      "6289.749472349069\n",
      "-------RMSE on validation Data-----------\n",
      "6095.675360701687\n"
     ]
    }
   ],
   "source": [
    "print(\"-------RMSE on Train Data-----------\")\n",
    "print(np.sqrt(mse(y_train,train_preds)))\n",
    "print(\"-------RMSE on validation Data-----------\")\n",
    "print(np.sqrt(mse(y_test,valid_preds)))"
   ]
  },
  {
   "cell_type": "markdown",
   "id": "4bd3151e",
   "metadata": {},
   "source": [
    "## Model3:RandomForest with gridsearch"
   ]
  },
  {
   "cell_type": "code",
   "execution_count": null,
   "id": "62ee68f6",
   "metadata": {},
   "outputs": [],
   "source": [
    "from sklearn.ensemble import RandomForestRegressor\n",
    "rfr=RandomForestRegressor()"
   ]
  },
  {
   "cell_type": "code",
   "execution_count": null,
   "id": "9cdc4168",
   "metadata": {},
   "outputs": [],
   "source": [
    "from sklearn.model_selection import GridSearchCV\n",
    "param_grid={'n_estimators':[100,150,200],\n",
    "          'criterion':[\"squared_error\"],\n",
    "         'max_depth':[25,50,100],\n",
    "           'min_samples_split':[2,4,5],\n",
    "           'ccp_alpha':[1,2,3]}\n"
   ]
  },
  {
   "cell_type": "code",
   "execution_count": null,
   "id": "be56e797",
   "metadata": {},
   "outputs": [],
   "source": [
    "rfr_grid=GridSearchCV(estimator=rfr,param_grid=param_grid,cv=2,verbose=1)"
   ]
  },
  {
   "cell_type": "code",
   "execution_count": null,
   "id": "37686e49",
   "metadata": {},
   "outputs": [],
   "source": [
    "rfr_grid.fit(train_data,y_train)"
   ]
  },
  {
   "cell_type": "code",
   "execution_count": null,
   "id": "3143deb6",
   "metadata": {},
   "outputs": [],
   "source": [
    "rfr_grid.best_params_"
   ]
  },
  {
   "cell_type": "code",
   "execution_count": null,
   "id": "9c0c4a20",
   "metadata": {},
   "outputs": [],
   "source": [
    "train_preds=rfr_grid.predict(train_data)\n",
    "valid_preds=rfr_grid.predict(valid_data)"
   ]
  },
  {
   "cell_type": "code",
   "execution_count": null,
   "id": "e9815f90",
   "metadata": {},
   "outputs": [],
   "source": [
    "print(\"-------RMSE on Train Data-----------\")\n",
    "print(np.sqrt(mse(y_train,train_preds)))\n",
    "print(\"-------RMSE on validation Data-----------\")\n",
    "print(np.sqrt(mse(y_test,valid_preds)))"
   ]
  },
  {
   "cell_type": "code",
   "execution_count": null,
   "id": "5a3b1f3e",
   "metadata": {},
   "outputs": [],
   "source": [
    "col=y_train.columns\n",
    "model3_preds=pd.DataFrame(rfr_grid.predict(test_data),columns=col)\n",
    "model3_preds"
   ]
  },
  {
   "cell_type": "code",
   "execution_count": null,
   "id": "823db9aa",
   "metadata": {},
   "outputs": [],
   "source": [
    "subm=df_test[[\"CustomerID\"]]\n",
    "subm.head()"
   ]
  },
  {
   "cell_type": "code",
   "execution_count": null,
   "id": "67f50690",
   "metadata": {},
   "outputs": [],
   "source": [
    "submission_rfc=pd.concat([subm,model3_preds],axis=1)\n",
    "submission_rfc"
   ]
  },
  {
   "cell_type": "code",
   "execution_count": null,
   "id": "2e92e17e",
   "metadata": {},
   "outputs": [],
   "source": []
  },
  {
   "cell_type": "markdown",
   "id": "39dbd836",
   "metadata": {},
   "source": [
    "## Model4:AdaboostRegressor"
   ]
  },
  {
   "cell_type": "code",
   "execution_count": null,
   "id": "bdbe1739",
   "metadata": {},
   "outputs": [],
   "source": []
  },
  {
   "cell_type": "code",
   "execution_count": null,
   "id": "65238eb7",
   "metadata": {},
   "outputs": [],
   "source": [
    "from sklearn.ensemble import AdaBoostRegressor\n",
    "adbr=AdaBoostRegressor()"
   ]
  },
  {
   "cell_type": "code",
   "execution_count": null,
   "id": "7c2d5d36",
   "metadata": {},
   "outputs": [],
   "source": [
    "from sklearn.model_selection import GridSearchCV\n",
    "param_grid={'n_estimators':[50,100,150,200,250],\n",
    "          'learning_rate':[0.01,0.1,0.2,0.3,1,2,5],\n",
    "         'loss':[ 'square']}\n"
   ]
  },
  {
   "cell_type": "code",
   "execution_count": null,
   "id": "0891efd7",
   "metadata": {},
   "outputs": [],
   "source": [
    "adbr_grid=GridSearchCV(estimator=adbr,param_grid=param_grid,cv=5,verbose=1)"
   ]
  },
  {
   "cell_type": "code",
   "execution_count": null,
   "id": "b7c95443",
   "metadata": {},
   "outputs": [],
   "source": [
    "adbr_grid.fit(train_data,y_train)"
   ]
  },
  {
   "cell_type": "code",
   "execution_count": null,
   "id": "b8451a23",
   "metadata": {},
   "outputs": [],
   "source": [
    "adbr_grid.best_params_"
   ]
  },
  {
   "cell_type": "code",
   "execution_count": null,
   "id": "e73937de",
   "metadata": {},
   "outputs": [],
   "source": [
    "train_preds=adbr_grid.predict(train_data)\n",
    "valid_preds=adbr_grid.predict(valid_data)"
   ]
  },
  {
   "cell_type": "code",
   "execution_count": null,
   "id": "54217af2",
   "metadata": {},
   "outputs": [],
   "source": [
    "print(\"-------RMSE on Train Data-----------\")\n",
    "print(np.sqrt(mse(y_train,train_preds)))\n",
    "print(\"-------RMSE on Test Data-----------\")\n",
    "print(np.sqrt(mse(y_test,valid_preds)))"
   ]
  },
  {
   "cell_type": "code",
   "execution_count": null,
   "id": "89afcec3",
   "metadata": {},
   "outputs": [],
   "source": [
    "col=y_train.columns\n",
    "model4_ada5=pd.DataFrame(adbr_grid.predict(test_data),columns=col)\n",
    "model4_ada5"
   ]
  },
  {
   "cell_type": "code",
   "execution_count": null,
   "id": "8f00c48b",
   "metadata": {},
   "outputs": [],
   "source": [
    "subm=df_test[[\"CustomerID\"]]\n",
    "subm.head()"
   ]
  },
  {
   "cell_type": "code",
   "execution_count": null,
   "id": "7119d380",
   "metadata": {},
   "outputs": [],
   "source": [
    "submission_ada=pd.concat([subm,model4_ada5],axis=1)\n",
    "submission_ada"
   ]
  },
  {
   "cell_type": "code",
   "execution_count": null,
   "id": "39f617c7",
   "metadata": {},
   "outputs": [],
   "source": []
  },
  {
   "cell_type": "markdown",
   "id": "15bf7868",
   "metadata": {},
   "source": [
    "## Model5:KNNregressor"
   ]
  },
  {
   "cell_type": "code",
   "execution_count": null,
   "id": "b1b5894f",
   "metadata": {},
   "outputs": [],
   "source": [
    "from sklearn.neighbors import KNeighborsRegressor\n",
    "knnr=KNeighborsRegressor()"
   ]
  },
  {
   "cell_type": "code",
   "execution_count": null,
   "id": "ca58db90",
   "metadata": {},
   "outputs": [],
   "source": [
    "from sklearn.model_selection import GridSearchCV\n",
    "param_grid={'n_neighbors':[5,10,20],\n",
    "          'weights':['uniform', 'distance'],\n",
    "         'p':[1,2,3]}\n"
   ]
  },
  {
   "cell_type": "code",
   "execution_count": null,
   "id": "8a3620af",
   "metadata": {},
   "outputs": [],
   "source": [
    "knnr_grid=GridSearchCV(estimator=knnr,param_grid=param_grid,cv=2,verbose=1)"
   ]
  },
  {
   "cell_type": "code",
   "execution_count": null,
   "id": "cb358d3f",
   "metadata": {},
   "outputs": [],
   "source": [
    "knnr_grid.fit(train_data,y_train)"
   ]
  },
  {
   "cell_type": "code",
   "execution_count": null,
   "id": "82315ca8",
   "metadata": {},
   "outputs": [],
   "source": [
    "knnr_grid.best_params_"
   ]
  },
  {
   "cell_type": "code",
   "execution_count": null,
   "id": "aee22a2b",
   "metadata": {},
   "outputs": [],
   "source": [
    "train_preds=knnr_grid.predict(train_data)\n",
    "valid_preds=knnr_grid.predict(valid_data)"
   ]
  },
  {
   "cell_type": "code",
   "execution_count": null,
   "id": "a4feb225",
   "metadata": {},
   "outputs": [],
   "source": [
    "print(\"-------RMSE on Train Data-----------\")\n",
    "print(np.sqrt(mse(y_train,train_preds)))\n",
    "print(\"-------RMSE on validation Data-----------\")\n",
    "print(np.sqrt(mse(y_test,valid_preds)))"
   ]
  },
  {
   "cell_type": "code",
   "execution_count": null,
   "id": "2929552c",
   "metadata": {},
   "outputs": [],
   "source": [
    "col=y_train.columns\n",
    "model5_knnr=pd.DataFrame(knnr_grid.predict(test_data),columns=col)\n",
    "model5_knnr"
   ]
  },
  {
   "cell_type": "code",
   "execution_count": null,
   "id": "71a7dc01",
   "metadata": {},
   "outputs": [],
   "source": [
    "subm=df_test[[\"CustomerID\"]]\n",
    "subm.head()"
   ]
  },
  {
   "cell_type": "code",
   "execution_count": null,
   "id": "ccf8504c",
   "metadata": {},
   "outputs": [],
   "source": [
    "submission_knnr=pd.concat([subm,model5_knnr],axis=1)\n",
    "submission_knnr"
   ]
  },
  {
   "cell_type": "markdown",
   "id": "be7d3f8e",
   "metadata": {},
   "source": [
    "## Model6:Xgboost regressor"
   ]
  },
  {
   "cell_type": "code",
   "execution_count": null,
   "id": "d61cd144",
   "metadata": {},
   "outputs": [],
   "source": [
    "import xgboost\n",
    "from xgboost import XGBRegressor\n",
    "xgbr=XGBRegressor()\n"
   ]
  },
  {
   "cell_type": "code",
   "execution_count": null,
   "id": "db87fb9d",
   "metadata": {},
   "outputs": [],
   "source": [
    "from sklearn.model_selection import GridSearchCV\n",
    "param_grid={'n_estimators':[100,150,200,250,300,400],\n",
    "           'learning_rate':[0.001,0.01,0.1],\n",
    "           'gamma':[0.0001,0.001,0.01]}"
   ]
  },
  {
   "cell_type": "code",
   "execution_count": null,
   "id": "c18c60d8",
   "metadata": {},
   "outputs": [],
   "source": [
    "\n",
    "xgbr_grid=GridSearchCV(estimator=xgbr,param_grid=param_grid,cv=4,verbose=1)"
   ]
  },
  {
   "cell_type": "code",
   "execution_count": null,
   "id": "9f27ea26",
   "metadata": {},
   "outputs": [],
   "source": [
    "xgbr_grid.fit(train_data,y_train)"
   ]
  },
  {
   "cell_type": "code",
   "execution_count": null,
   "id": "fac4c3c6",
   "metadata": {},
   "outputs": [],
   "source": [
    "xgbr_grid.best_params_"
   ]
  },
  {
   "cell_type": "code",
   "execution_count": null,
   "id": "64711948",
   "metadata": {},
   "outputs": [],
   "source": [
    "train_preds=xgbr_grid.predict(train_data)\n",
    "valid_preds=xgbr_grid.predict(valid_data)"
   ]
  },
  {
   "cell_type": "code",
   "execution_count": null,
   "id": "1501e1b8",
   "metadata": {},
   "outputs": [],
   "source": [
    "print(\"-------RMSE on Train Data-----------\")\n",
    "print(np.sqrt(mse(y_train,train_preds)))\n",
    "print(\"-------RMSE on validation Data-----------\")\n",
    "print(np.sqrt(mse(y_test,valid_preds)))"
   ]
  },
  {
   "cell_type": "code",
   "execution_count": null,
   "id": "5c1ae3dd",
   "metadata": {},
   "outputs": [],
   "source": [
    "col=y_train.columns\n",
    "model6_xgbr1=pd.DataFrame(xgbr_grid.predict(test_data),columns=col)\n",
    "model6_xgbr1"
   ]
  },
  {
   "cell_type": "code",
   "execution_count": null,
   "id": "d62419cc",
   "metadata": {},
   "outputs": [],
   "source": [
    "subm=df_test[[\"CustomerID\"]]\n",
    "subm.head()"
   ]
  },
  {
   "cell_type": "code",
   "execution_count": null,
   "id": "4e5acb7c",
   "metadata": {},
   "outputs": [],
   "source": [
    "submission_xgbr1=pd.concat([subm,model6_xgbr],axis=1)\n",
    "submission_xgbr1"
   ]
  },
  {
   "cell_type": "code",
   "execution_count": null,
   "id": "c5a4c7df",
   "metadata": {},
   "outputs": [],
   "source": []
  },
  {
   "cell_type": "markdown",
   "id": "593f28ba",
   "metadata": {},
   "source": [
    "## Clustering"
   ]
  },
  {
   "cell_type": "code",
   "execution_count": null,
   "id": "925b97f7",
   "metadata": {},
   "outputs": [],
   "source": [
    "trainx_data.shape"
   ]
  },
  {
   "cell_type": "code",
   "execution_count": null,
   "id": "4025a0fb",
   "metadata": {},
   "outputs": [],
   "source": [
    "trainx_data.head()"
   ]
  },
  {
   "cell_type": "code",
   "execution_count": null,
   "id": "e111ee7c",
   "metadata": {},
   "outputs": [],
   "source": [
    "y_train.shape"
   ]
  },
  {
   "cell_type": "code",
   "execution_count": null,
   "id": "4d5d5b9d",
   "metadata": {},
   "outputs": [],
   "source": [
    "test_data.shape"
   ]
  },
  {
   "cell_type": "code",
   "execution_count": null,
   "id": "38f4334c",
   "metadata": {},
   "outputs": [],
   "source": [
    "#import dtale"
   ]
  },
  {
   "cell_type": "code",
   "execution_count": null,
   "id": "df21f467",
   "metadata": {},
   "outputs": [],
   "source": [
    "#dtale.show(trainx_data)"
   ]
  },
  {
   "cell_type": "code",
   "execution_count": null,
   "id": "d5a3e529",
   "metadata": {},
   "outputs": [],
   "source": [
    "from scipy.cluster.hierarchy import linkage, dendrogram\n",
    "from sklearn.cluster import AgglomerativeClustering, KMeans, DBSCAN\n",
    "import matplotlib.pyplot as plt\n",
    "%matplotlib notebook"
   ]
  },
  {
   "cell_type": "code",
   "execution_count": null,
   "id": "d4f5a3c3",
   "metadata": {},
   "outputs": [],
   "source": [
    "linkage_matrix = linkage(trainx_data)\n",
    "\n"
   ]
  },
  {
   "cell_type": "code",
   "execution_count": null,
   "id": "6f4eb6dd",
   "metadata": {},
   "outputs": [],
   "source": [
    "#dendrogram\n",
    "from matplotlib.pyplot import figure\n",
    "\n",
    "figure(figsize=(10, 6), dpi=80)\n",
    "\n",
    "dendrogram(linkage_matrix,labels=trainx_data.values)\n",
    "plt.tight_layout()\n",
    "plt.show()"
   ]
  },
  {
   "cell_type": "code",
   "execution_count": null,
   "id": "084d6316",
   "metadata": {},
   "outputs": [],
   "source": [
    "agg_clust =AgglomerativeClustering(n_clusters=6 ,affinity=\"euclidean\" ,linkage = \"ward\")"
   ]
  },
  {
   "cell_type": "code",
   "execution_count": null,
   "id": "80896d2d",
   "metadata": {},
   "outputs": [],
   "source": [
    "\n",
    "agg_clusters = agg_clust.fit_predict(trainx_data)\n",
    "\n",
    "agg_clusters"
   ]
  },
  {
   "cell_type": "code",
   "execution_count": null,
   "id": "7e54d972",
   "metadata": {},
   "outputs": [],
   "source": [
    "agg_clusters = agg_clust.fit_predict(trainx_data)\n",
    "agg_clusters.shape"
   ]
  },
  {
   "cell_type": "code",
   "execution_count": null,
   "id": "4492631f",
   "metadata": {},
   "outputs": [],
   "source": []
  },
  {
   "cell_type": "code",
   "execution_count": null,
   "id": "abed8539",
   "metadata": {},
   "outputs": [],
   "source": []
  },
  {
   "cell_type": "code",
   "execution_count": null,
   "id": "fe276cda",
   "metadata": {},
   "outputs": [],
   "source": []
  },
  {
   "cell_type": "code",
   "execution_count": null,
   "id": "26391fd5",
   "metadata": {},
   "outputs": [],
   "source": []
  },
  {
   "cell_type": "code",
   "execution_count": null,
   "id": "551e3d0b",
   "metadata": {},
   "outputs": [],
   "source": []
  },
  {
   "cell_type": "code",
   "execution_count": null,
   "id": "d9811efe",
   "metadata": {},
   "outputs": [],
   "source": []
  },
  {
   "cell_type": "code",
   "execution_count": null,
   "id": "0c41690f",
   "metadata": {},
   "outputs": [],
   "source": []
  },
  {
   "cell_type": "code",
   "execution_count": null,
   "id": "1a2bb8f3",
   "metadata": {},
   "outputs": [],
   "source": []
  },
  {
   "cell_type": "code",
   "execution_count": null,
   "id": "aae43c78",
   "metadata": {},
   "outputs": [],
   "source": []
  },
  {
   "cell_type": "code",
   "execution_count": null,
   "id": "eb09380d",
   "metadata": {},
   "outputs": [],
   "source": []
  },
  {
   "cell_type": "code",
   "execution_count": null,
   "id": "b02b4c16",
   "metadata": {},
   "outputs": [],
   "source": []
  },
  {
   "cell_type": "code",
   "execution_count": null,
   "id": "ab53289c",
   "metadata": {},
   "outputs": [],
   "source": []
  }
 ],
 "metadata": {
  "kernelspec": {
   "display_name": "Python 3 (ipykernel)",
   "language": "python",
   "name": "python3"
  },
  "language_info": {
   "codemirror_mode": {
    "name": "ipython",
    "version": 3
   },
   "file_extension": ".py",
   "mimetype": "text/x-python",
   "name": "python",
   "nbconvert_exporter": "python",
   "pygments_lexer": "ipython3",
   "version": "3.9.12"
  }
 },
 "nbformat": 4,
 "nbformat_minor": 5
}
